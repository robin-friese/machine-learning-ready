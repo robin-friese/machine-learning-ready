{
 "cells": [
  {
   "cell_type": "markdown",
   "metadata": {},
   "source": [
    "# Python Operators"
   ]
  },
  {
   "cell_type": "markdown",
   "metadata": {},
   "source": [
    "* `Assignment Operators`\n",
    "\n",
    "* `Arithmetic Operators`\n",
    "\n",
    "* `Comparison Operators`\n",
    "\n",
    "* `Logical Operators`\n",
    "\n",
    "* `Membership Operators`"
   ]
  },
  {
   "cell_type": "markdown",
   "metadata": {},
   "source": [
    "---"
   ]
  },
  {
   "cell_type": "markdown",
   "metadata": {},
   "source": [
    "### `Assignment Operators`"
   ]
  },
  {
   "cell_type": "markdown",
   "metadata": {},
   "source": [
    "|Operator   |Name  |\n",
    "--- | --- |\n",
    "|= |Assignment |\n",
    "|+= |Increment|\n",
    "|-= |Decrement|\n"
   ]
  },
  {
   "cell_type": "markdown",
   "metadata": {},
   "source": [
    "Used to assign Values to Variables "
   ]
  },
  {
   "cell_type": "code",
   "execution_count": 27,
   "metadata": {},
   "outputs": [
    {
     "name": "stdout",
     "output_type": "stream",
     "text": [
      "5\n",
      "2\n"
     ]
    }
   ],
   "source": [
    "# Assigment\n",
    "x = 5\n",
    "y = 2\n",
    "print(x)\n",
    "print(y)"
   ]
  },
  {
   "cell_type": "code",
   "execution_count": null,
   "metadata": {},
   "outputs": [],
   "source": [
    "# Increment\n",
    "x += 1  # same as x = x + 1\n",
    "print(x)"
   ]
  },
  {
   "cell_type": "code",
   "execution_count": null,
   "metadata": {},
   "outputs": [],
   "source": [
    "# Decrement\n",
    "x -= 1  # same as x = x - 1\n",
    "print(x)"
   ]
  },
  {
   "cell_type": "markdown",
   "metadata": {},
   "source": [
    "### `Arithmetic Operators`"
   ]
  },
  {
   "cell_type": "markdown",
   "metadata": {},
   "source": [
    "|Operator   |Name  |\n",
    "--- | --- |\n",
    "|+ |Addition |\n",
    "|- |Subtraction|\n",
    "|* |Multiplication|\n",
    "|/ |Division|\n",
    "|// |Floor Division|\n",
    "|** |Exponentiation|"
   ]
  },
  {
   "cell_type": "markdown",
   "metadata": {},
   "source": [
    "Used to perform Mathematical Operations on Variables and Values"
   ]
  },
  {
   "cell_type": "code",
   "execution_count": null,
   "metadata": {},
   "outputs": [],
   "source": [
    "# Addition (+)\n",
    "z = x + y\n",
    "print(z)"
   ]
  },
  {
   "cell_type": "code",
   "execution_count": null,
   "metadata": {},
   "outputs": [],
   "source": [
    "# Subtraction (-)\n",
    "z = x - y\n",
    "print(z)"
   ]
  },
  {
   "cell_type": "code",
   "execution_count": null,
   "metadata": {},
   "outputs": [],
   "source": [
    "# Multiplication (*)\n",
    "z = x * y\n",
    "print(z)"
   ]
  },
  {
   "cell_type": "code",
   "execution_count": null,
   "metadata": {},
   "outputs": [],
   "source": [
    "# Division (/)\n",
    "z = x / y\n",
    "print(z)"
   ]
  },
  {
   "cell_type": "code",
   "execution_count": null,
   "metadata": {},
   "outputs": [],
   "source": [
    "# Floor Division (//)\n",
    "z = x // y\n",
    "print(z)"
   ]
  },
  {
   "cell_type": "code",
   "execution_count": null,
   "metadata": {
    "scrolled": true
   },
   "outputs": [],
   "source": [
    "# Exponentiation (**)\n",
    "z = x**y\n",
    "print(z)"
   ]
  },
  {
   "cell_type": "code",
   "execution_count": null,
   "metadata": {},
   "outputs": [],
   "source": [
    "# Concatination\n",
    "print(\"Machine \" + \"Learning\")"
   ]
  },
  {
   "cell_type": "markdown",
   "metadata": {},
   "source": [
    "### `Comparison Operators`"
   ]
  },
  {
   "cell_type": "markdown",
   "metadata": {},
   "source": [
    "|Operator   |Name  |\n",
    "--- | --- |\n",
    "|== |Equal to |\n",
    "|!= |Not Equal to|\n",
    "|> |Greater than|\n",
    "|< |Less than|\n",
    "|>= |Greater than or Equal to|\n",
    "|<= |Less than or Equal to|"
   ]
  },
  {
   "cell_type": "markdown",
   "metadata": {},
   "source": [
    "Used to compare Variables and Values"
   ]
  },
  {
   "cell_type": "code",
   "execution_count": null,
   "metadata": {},
   "outputs": [],
   "source": [
    "# Equal to (==)\n",
    "z = x == y\n",
    "print(z)"
   ]
  },
  {
   "cell_type": "code",
   "execution_count": null,
   "metadata": {},
   "outputs": [],
   "source": [
    "# Not Equal to (!=)\n",
    "z = x != y\n",
    "print(z)"
   ]
  },
  {
   "cell_type": "code",
   "execution_count": null,
   "metadata": {},
   "outputs": [],
   "source": [
    "# Greater than (>)\n",
    "z = x > y\n",
    "print(z)"
   ]
  },
  {
   "cell_type": "code",
   "execution_count": null,
   "metadata": {},
   "outputs": [],
   "source": [
    "# Less than (<)\n",
    "z = x < y\n",
    "print(z)"
   ]
  },
  {
   "cell_type": "code",
   "execution_count": null,
   "metadata": {},
   "outputs": [],
   "source": [
    "# Greater than or Equal to (>=)\n",
    "z = x >= y\n",
    "print(z)"
   ]
  },
  {
   "cell_type": "code",
   "execution_count": null,
   "metadata": {},
   "outputs": [],
   "source": [
    "# Less than or Equal to(<=)\n",
    "z = x <= y\n",
    "print(z)"
   ]
  },
  {
   "cell_type": "code",
   "execution_count": null,
   "metadata": {},
   "outputs": [],
   "source": [
    "# Comparing Strings\n",
    "s = \"Machine\"\n",
    "t = \"Learning\"\n",
    "print(s == t)\n",
    "\n",
    "s = \"Machine\"\n",
    "t = \"Learning\"\n",
    "print(s != t)\n",
    "\n",
    "s = \"Machine\"\n",
    "t = \"Learning\"\n",
    "print(s < t)\n",
    "\n",
    "s = \"Machine\"\n",
    "t = \"Learning\"\n",
    "print(s > t)"
   ]
  },
  {
   "cell_type": "markdown",
   "metadata": {},
   "source": [
    "### `Logical Operators`"
   ]
  },
  {
   "cell_type": "markdown",
   "metadata": {},
   "source": [
    "|Operator   |Description  |\n",
    "--- | --- |\n",
    "|and |Returns **True** if both Expressions are true |\n",
    "|or |Returns **True** if at least one of the Expressions is true|\n",
    "|not |Reverses the Result and returns **False** if the Result is True|"
   ]
  },
  {
   "cell_type": "markdown",
   "metadata": {},
   "source": [
    "Used to combine Comparisons"
   ]
  },
  {
   "cell_type": "code",
   "execution_count": null,
   "metadata": {},
   "outputs": [],
   "source": [
    "# and\n",
    "z = (x == 5) and (y == 2)\n",
    "print(z)"
   ]
  },
  {
   "cell_type": "code",
   "execution_count": null,
   "metadata": {},
   "outputs": [],
   "source": [
    "# or\n",
    "z = (x == 5) or (y == 99)\n",
    "print(z)"
   ]
  },
  {
   "cell_type": "code",
   "execution_count": null,
   "metadata": {},
   "outputs": [],
   "source": [
    "# not\n",
    "z = not ((x == 5) and (y == 2))\n",
    "print(z)\n",
    "\n",
    "z = not ((x == 5) or (y == 99))\n",
    "print(z)"
   ]
  },
  {
   "cell_type": "code",
   "execution_count": null,
   "metadata": {},
   "outputs": [],
   "source": [
    "# and (&)\n",
    "z = (x == 5) & (y == 2)\n",
    "print(z)"
   ]
  },
  {
   "cell_type": "code",
   "execution_count": null,
   "metadata": {},
   "outputs": [],
   "source": [
    "# or (|)\n",
    "z = (x == 5) | (y == 99)\n",
    "print(z)"
   ]
  },
  {
   "cell_type": "code",
   "execution_count": 28,
   "metadata": {},
   "outputs": [
    {
     "name": "stdout",
     "output_type": "stream",
     "text": [
      "False\n",
      "True\n"
     ]
    }
   ],
   "source": [
    "# xor (^)\n",
    "z = (x == 5) ^ (y == 2)\n",
    "print(z)\n",
    "\n",
    "z = (x == 5) ^ (y == 99)\n",
    "print(z)"
   ]
  },
  {
   "cell_type": "markdown",
   "metadata": {},
   "source": [
    "### `Membership Operators`"
   ]
  },
  {
   "cell_type": "markdown",
   "metadata": {},
   "source": [
    "|Operator   |Description  |\n",
    "--- | --- |\n",
    "|in |Returns True if a Sequence contains a certain Value or Variable|\n",
    "|not in |Returns True if a Sequence does **not** contain a certain Value or Variable|"
   ]
  },
  {
   "cell_type": "markdown",
   "metadata": {},
   "source": [
    "Used to test if a Sequence contains a certain Value or Variable"
   ]
  },
  {
   "cell_type": "code",
   "execution_count": 29,
   "metadata": {},
   "outputs": [
    {
     "name": "stdout",
     "output_type": "stream",
     "text": [
      "False\n",
      "True\n"
     ]
    }
   ],
   "source": [
    "# List\n",
    "list1 = [1, 2.0, \"3\", True, False]\n",
    "\n",
    "print(3 in list1)\n",
    "print(5 not in list1)"
   ]
  },
  {
   "cell_type": "code",
   "execution_count": null,
   "metadata": {},
   "outputs": [],
   "source": [
    "# Tuple\n",
    "tuple1 = (1, 2.0, \"3\", True, False)\n",
    "\n",
    "print(2 in tuple1)\n",
    "print(1 not in tuple1)"
   ]
  },
  {
   "cell_type": "code",
   "execution_count": null,
   "metadata": {},
   "outputs": [],
   "source": [
    "# Dictionary\n",
    "dict1 = {\"Integer\": 1, \"Float\": 2.0, \"String\": \"3\", \"Boolean\": True}\n",
    "\n",
    "print(\"Boolean\" in dict1.keys())\n",
    "print(True in dict1.values())\n",
    "print((\"Boolean\", True) in dict1.items())"
   ]
  }
 ],
 "metadata": {
  "kernelspec": {
   "display_name": "Python 3",
   "language": "python",
   "name": "python3"
  },
  "language_info": {
   "codemirror_mode": {
    "name": "ipython",
    "version": 3
   },
   "file_extension": ".py",
   "mimetype": "text/x-python",
   "name": "python",
   "nbconvert_exporter": "python",
   "pygments_lexer": "ipython3",
   "version": "3.9.6"
  }
 },
 "nbformat": 4,
 "nbformat_minor": 4
}
