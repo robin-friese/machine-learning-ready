{
 "cells": [
  {
   "cell_type": "markdown",
   "metadata": {},
   "source": [
    "# PYTHON CONDITIONAL STATEMENTS"
   ]
  },
  {
   "cell_type": "markdown",
   "metadata": {},
   "source": [
    "### `IF...ELIF...ELSE`\n",
    "\n",
    "\n",
    "`Comparison Operators`, `Logical Operators` and `Membership Operators` can be used to formulate `Conditions` in Python \n",
    "\n",
    "using the `if`...`elif`...`else`-Structre."
   ]
  },
  {
   "cell_type": "markdown",
   "metadata": {},
   "source": [
    "---"
   ]
  },
  {
   "cell_type": "markdown",
   "metadata": {},
   "source": [
    "The `if` Statement"
   ]
  },
  {
   "cell_type": "code",
   "execution_count": 15,
   "metadata": {},
   "outputs": [],
   "source": [
    "x = 0\n",
    "\n",
    "if x > 0:\n",
    "    print('x is Positive')"
   ]
  },
  {
   "cell_type": "markdown",
   "metadata": {},
   "source": [
    "The `elif` Statement"
   ]
  },
  {
   "cell_type": "code",
   "execution_count": 16,
   "metadata": {},
   "outputs": [],
   "source": [
    "x = 0\n",
    "\n",
    "if x > 0:\n",
    "    print('x is Positive')\n",
    "\n",
    "elif x < 0:\n",
    "    print('x is Negative')"
   ]
  },
  {
   "cell_type": "markdown",
   "metadata": {},
   "source": [
    "The `else` Statement"
   ]
  },
  {
   "cell_type": "code",
   "execution_count": 17,
   "metadata": {},
   "outputs": [
    {
     "name": "stdout",
     "output_type": "stream",
     "text": [
      "x is Zero\n"
     ]
    }
   ],
   "source": [
    "x = 0\n",
    "\n",
    "if x > 0:\n",
    "    print('x is Positive')\n",
    "\n",
    "elif x < 0:\n",
    "    print('x is Negative')\n",
    "\n",
    "else:\n",
    "    print('x is Zero')"
   ]
  },
  {
   "cell_type": "markdown",
   "metadata": {},
   "source": [
    "Nested `if` Statement"
   ]
  },
  {
   "cell_type": "code",
   "execution_count": 19,
   "metadata": {},
   "outputs": [
    {
     "name": "stdout",
     "output_type": "stream",
     "text": [
      "x is Positive\n",
      "...and Greater than 10\n"
     ]
    }
   ],
   "source": [
    "x = 100\n",
    "\n",
    "if x > 0:\n",
    "    print('x is Positive')\n",
    "    \n",
    "    if x > 10:\n",
    "        print('...and Greater than 10')"
   ]
  },
  {
   "cell_type": "code",
   "execution_count": 20,
   "metadata": {},
   "outputs": [
    {
     "name": "stdout",
     "output_type": "stream",
     "text": [
      "x is Positive\n",
      "...but not Greater than 10\n"
     ]
    }
   ],
   "source": [
    "x = 10\n",
    "\n",
    "if x > 0:\n",
    "    print('x is Positive')\n",
    "    \n",
    "    if x > 10:\n",
    "        print('...and Greater than 10')\n",
    "    \n",
    "    else:\n",
    "        print('...but not Greater than 10')"
   ]
  },
  {
   "cell_type": "code",
   "execution_count": 21,
   "metadata": {},
   "outputs": [
    {
     "name": "stdout",
     "output_type": "stream",
     "text": [
      "x is Not Positive\n"
     ]
    }
   ],
   "source": [
    "x = 0\n",
    "\n",
    "if x > 0:\n",
    "    print('x is Positive')\n",
    "    \n",
    "    if x > 10:\n",
    "        print('...and Greater than 10')\n",
    "    \n",
    "    else:\n",
    "        print('...but not Greater than 10')\n",
    "        \n",
    "else:\n",
    "    print('x is Not Positive')"
   ]
  },
  {
   "cell_type": "markdown",
   "metadata": {},
   "source": [
    "The `pass` Statement"
   ]
  },
  {
   "cell_type": "code",
   "execution_count": 22,
   "metadata": {},
   "outputs": [
    {
     "ename": "SyntaxError",
     "evalue": "unexpected EOF while parsing (<ipython-input-22-d526bffc209a>, line 2)",
     "output_type": "error",
     "traceback": [
      "\u001b[0;36m  File \u001b[0;32m\"<ipython-input-22-d526bffc209a>\"\u001b[0;36m, line \u001b[0;32m2\u001b[0m\n\u001b[0;31m    if x > 0:\u001b[0m\n\u001b[0m             ^\u001b[0m\n\u001b[0;31mSyntaxError\u001b[0m\u001b[0;31m:\u001b[0m unexpected EOF while parsing\n"
     ]
    }
   ],
   "source": [
    "# Will raise an Error\n",
    "if x > 0:\n"
   ]
  },
  {
   "cell_type": "code",
   "execution_count": 23,
   "metadata": {},
   "outputs": [],
   "source": [
    "# Will NOT! raise an Error\n",
    "if x > 0:\n",
    "    pass"
   ]
  },
  {
   "cell_type": "markdown",
   "metadata": {},
   "source": [
    "Using `Logical Operators` in Conditions"
   ]
  },
  {
   "cell_type": "code",
   "execution_count": 26,
   "metadata": {},
   "outputs": [
    {
     "name": "stdout",
     "output_type": "stream",
     "text": [
      "at least one of x,y is Not Positive\n"
     ]
    }
   ],
   "source": [
    "x = 0\n",
    "y = 1\n",
    "\n",
    "if (x > 0) and (y > 0):\n",
    "    print('x and y are both Positive')\n",
    "    \n",
    "else:\n",
    "    print('at least one of x,y is Not Positive')"
   ]
  },
  {
   "cell_type": "code",
   "execution_count": 29,
   "metadata": {},
   "outputs": [
    {
     "name": "stdout",
     "output_type": "stream",
     "text": [
      "At least one of x,y is Positive\n"
     ]
    }
   ],
   "source": [
    "if (x > 0) or (y > 0):\n",
    "    print('At least one of x,y is Positive')\n",
    "    \n",
    "else:\n",
    "    print('x and y are both Not Positive')"
   ]
  },
  {
   "cell_type": "markdown",
   "metadata": {},
   "source": [
    "Using `Memberships Operators` in Conditions"
   ]
  },
  {
   "cell_type": "code",
   "execution_count": 30,
   "metadata": {},
   "outputs": [
    {
     "name": "stdout",
     "output_type": "stream",
     "text": [
      "[1, 2, 3, 4, 5, 6]\n"
     ]
    }
   ],
   "source": [
    "list1 = [1, 2, 3, 4, 5]\n",
    "\n",
    "if 6 in list1:\n",
    "    pass\n",
    "\n",
    "else:\n",
    "    list1.append(6)\n",
    "\n",
    "print(list1)"
   ]
  },
  {
   "cell_type": "code",
   "execution_count": 36,
   "metadata": {},
   "outputs": [
    {
     "name": "stdout",
     "output_type": "stream",
     "text": [
      "(1, 2, 3, 4, 5, 6, 7, 8, 9, 10)\n"
     ]
    }
   ],
   "source": [
    "tuple1 = (1, 2, 3, 4, 5)\n",
    "\n",
    "if len(tuple1) == 5:\n",
    "    tuple2 = tuple1 + (6, 7, 8, 9, 10)\n",
    "\n",
    "else:\n",
    "    tuple2 = ()\n",
    "\n",
    "print(tuple2)"
   ]
  },
  {
   "cell_type": "code",
   "execution_count": 43,
   "metadata": {},
   "outputs": [
    {
     "name": "stdout",
     "output_type": "stream",
     "text": [
      "\"String\" is a Key in \"dict1\"\n",
      "\"A\" is a Value in \"dict1\"\n"
     ]
    }
   ],
   "source": [
    "dict1 = {\n",
    "    'Integer': 1,\n",
    "    'Float'  : 2.0,\n",
    "    'String' : 'A'\n",
    "}\n",
    "\n",
    "if 'String' in dict1.keys():\n",
    "    print('\"String\" is a Key in \"dict1\"')\n",
    "    \n",
    "    if 'A' in dict1.values():\n",
    "        print('\"A\" is a Value in \"dict1\"')\n",
    "    \n",
    "    else:\n",
    "        print('\"A\" is Not a Value in \"dict1\"')\n",
    "    \n",
    "else:\n",
    "    print('\"String\" is Not a Key in \"dict1\"')"
   ]
  }
 ],
 "metadata": {
  "kernelspec": {
   "display_name": "Python 3",
   "language": "python",
   "name": "python3"
  },
  "language_info": {
   "codemirror_mode": {
    "name": "ipython",
    "version": 3
   },
   "file_extension": ".py",
   "mimetype": "text/x-python",
   "name": "python",
   "nbconvert_exporter": "python",
   "pygments_lexer": "ipython3",
   "version": "3.8.5"
  }
 },
 "nbformat": 4,
 "nbformat_minor": 4
}
