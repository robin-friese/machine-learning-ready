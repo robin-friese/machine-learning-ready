{
 "cells": [
  {
   "cell_type": "markdown",
   "metadata": {},
   "source": [
    "# Python Conditional Statements"
   ]
  },
  {
   "cell_type": "markdown",
   "metadata": {},
   "source": [
    "* `if` ... `elif` ... `else` Structure\n",
    "\n",
    "* Nested Conditions\n",
    "\n",
    "* The `pass` Statement\n",
    "\n",
    "* Logical and Membership Operators in Conditions"
   ]
  },
  {
   "cell_type": "markdown",
   "metadata": {},
   "source": [
    "---"
   ]
  },
  {
   "cell_type": "markdown",
   "metadata": {},
   "source": [
    "### `if` ... `elif` ... `else`"
   ]
  },
  {
   "cell_type": "markdown",
   "metadata": {},
   "source": [
    "The `if` Statement"
   ]
  },
  {
   "cell_type": "code",
   "execution_count": null,
   "metadata": {},
   "outputs": [],
   "source": [
    "x = 0\n",
    "\n",
    "if x > 0:\n",
    "    print('x is Positive')"
   ]
  },
  {
   "cell_type": "markdown",
   "metadata": {},
   "source": [
    "The `elif` Statement"
   ]
  },
  {
   "cell_type": "code",
   "execution_count": null,
   "metadata": {},
   "outputs": [],
   "source": [
    "x = 0\n",
    "\n",
    "if x > 0:\n",
    "    print('x is Positive')\n",
    "\n",
    "elif x < 0:\n",
    "    print('x is Negative')"
   ]
  },
  {
   "cell_type": "markdown",
   "metadata": {},
   "source": [
    "The `else` Statement"
   ]
  },
  {
   "cell_type": "code",
   "execution_count": null,
   "metadata": {},
   "outputs": [],
   "source": [
    "x = 0\n",
    "\n",
    "if x > 0:\n",
    "    print('x is Positive')\n",
    "\n",
    "elif x < 0:\n",
    "    print('x is Negative')\n",
    "\n",
    "else:\n",
    "    print('x is Zero')"
   ]
  },
  {
   "cell_type": "markdown",
   "metadata": {},
   "source": [
    "### Nested Conditions"
   ]
  },
  {
   "cell_type": "code",
   "execution_count": null,
   "metadata": {},
   "outputs": [],
   "source": [
    "x = 100\n",
    "\n",
    "if x > 0:\n",
    "    print('x is Positive')\n",
    "    \n",
    "    if x > 10:\n",
    "        print('...and Greater than 10')"
   ]
  },
  {
   "cell_type": "code",
   "execution_count": null,
   "metadata": {},
   "outputs": [],
   "source": [
    "x = 10\n",
    "\n",
    "if x > 0:\n",
    "    print('x is Positive')\n",
    "    \n",
    "    if x > 10:\n",
    "        print('...and Greater than 10')\n",
    "    \n",
    "    else:\n",
    "        print('...but not Greater than 10')"
   ]
  },
  {
   "cell_type": "code",
   "execution_count": null,
   "metadata": {},
   "outputs": [],
   "source": [
    "x = 0\n",
    "\n",
    "if x > 0:\n",
    "    print('x is Positive')\n",
    "    \n",
    "    if x > 10:\n",
    "        print('...and Greater than 10')\n",
    "    \n",
    "    else:\n",
    "        print('...but not Greater than 10')\n",
    "        \n",
    "else:\n",
    "    print('x is Not Positive')"
   ]
  },
  {
   "cell_type": "markdown",
   "metadata": {},
   "source": [
    "### The `pass` Statement"
   ]
  },
  {
   "cell_type": "code",
   "execution_count": null,
   "metadata": {},
   "outputs": [],
   "source": [
    "# Will raise an Error\n",
    "if x > 0:\n"
   ]
  },
  {
   "cell_type": "code",
   "execution_count": null,
   "metadata": {},
   "outputs": [],
   "source": [
    "# Works\n",
    "if x > 0:\n",
    "    pass"
   ]
  },
  {
   "cell_type": "markdown",
   "metadata": {},
   "source": [
    "### Logical and Membership Operators in Conditions"
   ]
  },
  {
   "cell_type": "markdown",
   "metadata": {},
   "source": [
    "Using `Logical Operators` in Conditions"
   ]
  },
  {
   "cell_type": "code",
   "execution_count": null,
   "metadata": {},
   "outputs": [],
   "source": [
    "x = 0\n",
    "y = 1\n",
    "\n",
    "if (x > 0) and (y > 0):\n",
    "    print('x and y are both Positive')\n",
    "    \n",
    "else:\n",
    "    print('at least one of x,y is Not Positive')"
   ]
  },
  {
   "cell_type": "code",
   "execution_count": null,
   "metadata": {},
   "outputs": [],
   "source": [
    "if (x > 0) or (y > 0):\n",
    "    print('At least one of x,y is Positive')\n",
    "    \n",
    "else:\n",
    "    print('x and y are both Not Positive')"
   ]
  },
  {
   "cell_type": "markdown",
   "metadata": {},
   "source": [
    "Using `Memberships Operators` in Conditions"
   ]
  },
  {
   "cell_type": "code",
   "execution_count": null,
   "metadata": {},
   "outputs": [],
   "source": [
    "list1 = [1, 2, 3, 4, 5]\n",
    "\n",
    "if 6 in list1:\n",
    "    pass\n",
    "\n",
    "else:\n",
    "    list1.append(6)\n",
    "\n",
    "print(list1)"
   ]
  },
  {
   "cell_type": "code",
   "execution_count": null,
   "metadata": {},
   "outputs": [],
   "source": [
    "dict1 = {\n",
    "    'Integer': 1,\n",
    "    'Float'  : 2.0,\n",
    "    'String' : 'A'\n",
    "}\n",
    "\n",
    "if 'String' in dict1.keys():\n",
    "    print('\"String\" is a Key in \"dict1\"')\n",
    "    \n",
    "    if 'A' in dict1.values():\n",
    "        print('\"A\" is a Value in \"dict1\"')\n",
    "    \n",
    "    else:\n",
    "        print('\"A\" is Not a Value in \"dict1\"')\n",
    "    \n",
    "else:\n",
    "    print('\"String\" is Not a Key in \"dict1\"')"
   ]
  }
 ],
 "metadata": {
  "kernelspec": {
   "display_name": "Python 3",
   "language": "python",
   "name": "python3"
  },
  "language_info": {
   "codemirror_mode": {
    "name": "ipython",
    "version": 3
   },
   "file_extension": ".py",
   "mimetype": "text/x-python",
   "name": "python",
   "nbconvert_exporter": "python",
   "pygments_lexer": "ipython3",
   "version": "3.9.6"
  }
 },
 "nbformat": 4,
 "nbformat_minor": 4
}
