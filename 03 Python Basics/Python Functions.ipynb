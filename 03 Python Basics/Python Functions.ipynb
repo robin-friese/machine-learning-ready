{
 "cells": [
  {
   "cell_type": "markdown",
   "metadata": {},
   "source": [
    "# PYTHON FUNCTIONS\n",
    "\n",
    "You already know some `built-in Python Functions` like print(), etc.\n",
    "\n",
    "However, Python also gives you the Opportunity to build your own Functions, called `user-defined Functions`.\n",
    "\n",
    "User-defined Functions provide better `Modularity` for your Application and a `high Degree of Code Reusing.`\n",
    "\n",
    "You can define Functions using the `def` Keyword."
   ]
  },
  {
   "cell_type": "markdown",
   "metadata": {},
   "source": [
    "---"
   ]
  },
  {
   "cell_type": "markdown",
   "metadata": {},
   "source": [
    "`Create a Function`"
   ]
  },
  {
   "cell_type": "code",
   "execution_count": null,
   "metadata": {},
   "outputs": [],
   "source": [
    "def my_first_function(x1, x2, x3):\n",
    "    print(x1, x2, x3)\n",
    "\n",
    "my_first_function"
   ]
  },
  {
   "cell_type": "markdown",
   "metadata": {},
   "source": [
    "`Call a Function`"
   ]
  },
  {
   "cell_type": "code",
   "execution_count": null,
   "metadata": {},
   "outputs": [],
   "source": [
    "my_first_function(x1=1, x2=2, x3=3)"
   ]
  },
  {
   "cell_type": "code",
   "execution_count": null,
   "metadata": {},
   "outputs": [],
   "source": [
    "my_first_function(1, 2, 3)"
   ]
  },
  {
   "cell_type": "code",
   "execution_count": null,
   "metadata": {},
   "outputs": [],
   "source": [
    "# Will Raise an Error\n",
    "my_first_function(1, 2)"
   ]
  },
  {
   "cell_type": "code",
   "execution_count": null,
   "metadata": {},
   "outputs": [],
   "source": [
    "# Passing Lists as Arguments\n",
    "my_first_function(x1=[1, 2, 3, 4, 5], x2=[-1, -2, -3, -4, -5], x3=[10, -20, 30, -40, 50])"
   ]
  },
  {
   "cell_type": "markdown",
   "metadata": {},
   "source": [
    "`Return` Statement"
   ]
  },
  {
   "cell_type": "code",
   "execution_count": null,
   "metadata": {},
   "outputs": [],
   "source": [
    "def multiply(x1, x2):\n",
    "    return x1*x2"
   ]
  },
  {
   "cell_type": "code",
   "execution_count": null,
   "metadata": {},
   "outputs": [],
   "source": [
    "multiply(x1=10, x2=10)"
   ]
  },
  {
   "cell_type": "code",
   "execution_count": null,
   "metadata": {},
   "outputs": [],
   "source": [
    "multiply(x1=10, x2=100)"
   ]
  },
  {
   "cell_type": "code",
   "execution_count": null,
   "metadata": {},
   "outputs": [],
   "source": [
    "multiply(x1=10, x2=1000)"
   ]
  },
  {
   "cell_type": "markdown",
   "metadata": {},
   "source": [
    "`Default Parameter Values`"
   ]
  },
  {
   "cell_type": "code",
   "execution_count": null,
   "metadata": {},
   "outputs": [],
   "source": [
    "def write_text(x='No Text entered'):\n",
    "    print(x)"
   ]
  },
  {
   "cell_type": "code",
   "execution_count": null,
   "metadata": {},
   "outputs": [],
   "source": [
    "write_text(x='This is my Text')"
   ]
  },
  {
   "cell_type": "code",
   "execution_count": null,
   "metadata": {},
   "outputs": [],
   "source": [
    "write_text()"
   ]
  },
  {
   "cell_type": "markdown",
   "metadata": {},
   "source": [
    "`Bringing it all together`"
   ]
  },
  {
   "cell_type": "markdown",
   "metadata": {},
   "source": [
    "The following Function `profit_check` takes four Input Parameters:\n",
    "* Product Price\n",
    "* Sales Amount\n",
    "* Costs per Unit\n",
    "* Fixed Costs\n",
    "\n",
    "The Function will return `if a given Scenario is profitable or not`."
   ]
  },
  {
   "cell_type": "code",
   "execution_count": null,
   "metadata": {},
   "outputs": [],
   "source": [
    "def profit_check(price, sales, cost_per_unit, fcost):\n",
    "    revenue = sales*price\n",
    "    vcost = sales*cost_per_unit\n",
    "    profit = revenue - vcost - fcost\n",
    "    print(' ')\n",
    "    print(' ')\n",
    "    print(' ')\n",
    "    print('Price:', price, '$')\n",
    "    print('Sales:', sales, 'Pcs.')\n",
    "    print('Revenue', revenue, '$')\n",
    "    print('--------------------------')\n",
    "    print('Costs var.:', vcost, '$')\n",
    "    print('Costs fix.:', fcost, '$')\n",
    "    print('Costs total:', vcost + fcost, '$')\n",
    "    print('--------------------------')\n",
    "    print('Profit:', profit, '$')\n",
    "    if profit > 0:\n",
    "        print('The Scenario is profitable')\n",
    "    else:\n",
    "        print('The Scenario is not profitable')"
   ]
  },
  {
   "cell_type": "code",
   "execution_count": null,
   "metadata": {},
   "outputs": [],
   "source": [
    "list_prices = [0.99, 1.29, 1.49, 1.79, 1.99]\n",
    "list_sales  = [1000000, 700000, 600000, 500000, 300000]\n",
    "cost_per_unit = 0.59\n",
    "fcost = 500000\n",
    "\n",
    "# Call Function to calculate the five Scenarios\n",
    "for i in range(0, len(list_prices)):\n",
    "    profit_check(list_prices[i], list_sales[i], vcost, fcost)"
   ]
  },
  {
   "cell_type": "markdown",
   "metadata": {},
   "source": [
    "`Lambda Functions`\n",
    "\n",
    "Small anonymous Function with any Number of Arguments but only one Expression\n",
    "\n",
    "Written as `lambda <arguments> : <expression>`"
   ]
  },
  {
   "cell_type": "code",
   "execution_count": null,
   "metadata": {},
   "outputs": [],
   "source": [
    "f_lambda = lambda x: x+1\n",
    "\n",
    "print(f_lambda(0))"
   ]
  },
  {
   "cell_type": "code",
   "execution_count": null,
   "metadata": {},
   "outputs": [],
   "source": [
    "f_lambda = lambda a, x: pow(a, x)\n",
    "\n",
    "print(f_lambda(10, -3))"
   ]
  },
  {
   "cell_type": "code",
   "execution_count": null,
   "metadata": {},
   "outputs": [],
   "source": [
    "f_lambda = lambda a, b, c, x: a*pow(x, 2) + b*x + c\n",
    "\n",
    "print(f_lambda(1, 1, -3, 2))"
   ]
  },
  {
   "cell_type": "code",
   "execution_count": null,
   "metadata": {},
   "outputs": [],
   "source": [
    "list1 = [-3, -2, -1, 0, 1, 2, 3]\n",
    "\n",
    "f_lambda = lambda x: -x\n",
    "\n",
    "list2 = [f_lambda(item) for item in list1]\n",
    "\n",
    "print(list2)"
   ]
  },
  {
   "cell_type": "markdown",
   "metadata": {},
   "source": [
    "* Input Formats\n",
    "* Output Format\n",
    "* Docstrings"
   ]
  }
 ],
 "metadata": {
  "kernelspec": {
   "display_name": "Python 3",
   "language": "python",
   "name": "python3"
  },
  "language_info": {
   "codemirror_mode": {
    "name": "ipython",
    "version": 3
   },
   "file_extension": ".py",
   "mimetype": "text/x-python",
   "name": "python",
   "nbconvert_exporter": "python",
   "pygments_lexer": "ipython3",
   "version": "3.8.5"
  }
 },
 "nbformat": 4,
 "nbformat_minor": 4
}
