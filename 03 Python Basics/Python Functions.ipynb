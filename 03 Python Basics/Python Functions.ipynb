{
 "cells": [
  {
   "cell_type": "markdown",
   "metadata": {},
   "source": [
    "# Python Functions\n",
    "\n",
    "* `Create a Function` \n",
    "\n",
    "* `Function Call`\n",
    "\n",
    "* `Default Parameter Values` \n",
    "\n",
    "* `Arbitrary Keyword Arguments`"
   ]
  },
  {
   "cell_type": "markdown",
   "metadata": {},
   "source": [
    "---"
   ]
  },
  {
   "cell_type": "markdown",
   "metadata": {},
   "source": [
    "### `Create a Function`"
   ]
  },
  {
   "cell_type": "markdown",
   "metadata": {},
   "source": [
    "A Function consist of:\n",
    "* `def` Keyword\n",
    "* Function Name\n",
    "* Function Parameters\n",
    "* Docstring\n",
    "* Function Body\n",
    "* Return Statement\n"
   ]
  },
  {
   "cell_type": "code",
   "execution_count": null,
   "metadata": {},
   "outputs": [],
   "source": [
    "def check_if_product_is_negative(param1:int, param2:int) -> bool:\n",
    "    # Docstring\n",
    "    \"\"\"\n",
    "    A docstring is used to explain what a function actually does.\n",
    "    It is good practice as it helps other developers understand your code.\n",
    "\n",
    "    Args:\n",
    "        param1: first argument expected by the function\n",
    "        param2: second argument expected by the function\n",
    "\n",
    "    Returns:\n",
    "        `True` if param1*param2 is negative\n",
    "        `False` if param1*param2 is non-negative\n",
    "    \"\"\"\n",
    "    \n",
    "    # Function Body\n",
    "    product = param1 * param2\n",
    "    result = product < 0\n",
    "\n",
    "    # Return Statement\n",
    "    return result"
   ]
  },
  {
   "cell_type": "markdown",
   "metadata": {},
   "source": [
    "### `Function Call`"
   ]
  },
  {
   "cell_type": "code",
   "execution_count": null,
   "metadata": {},
   "outputs": [],
   "source": [
    "check_if_product_is_negative(param1=10, param2=-10)"
   ]
  },
  {
   "cell_type": "code",
   "execution_count": null,
   "metadata": {},
   "outputs": [],
   "source": [
    "list1 = [10, 50, 100]\n",
    "list2 = [1, -1]\n",
    "\n",
    "list_results = []\n",
    "\n",
    "for i in list1:\n",
    "    for j in list2:\n",
    "        list_results.append(check_if_product_is_negative(param1=i, param2=j))\n",
    "\n",
    "list_results"
   ]
  },
  {
   "cell_type": "code",
   "execution_count": null,
   "metadata": {},
   "outputs": [],
   "source": [
    "# Will raise an Error\n",
    "check_if_product_is_negative()"
   ]
  },
  {
   "cell_type": "code",
   "execution_count": null,
   "metadata": {},
   "outputs": [],
   "source": [
    "# Will raise an Error\n",
    "check_if_product_is_negative(param1=[1, 2, 3], param2=[-1, -2, -3])"
   ]
  },
  {
   "cell_type": "markdown",
   "metadata": {},
   "source": [
    "### `Default Parameter Values`"
   ]
  },
  {
   "cell_type": "code",
   "execution_count": null,
   "metadata": {},
   "outputs": [],
   "source": [
    "def check_if_product_is_negative(param1:int = 1, param2:int = -1) -> bool:\n",
    "    \"\"\"\n",
    "    A docstring is used to explain what a function actually does.\n",
    "    It is good practice as it helps other developers understand your code.\n",
    "\n",
    "    Args:\n",
    "        param1: first argument expected by the function\n",
    "        param2: second argument expected by the function\n",
    "\n",
    "    Returns:\n",
    "        `True` if param1*param2 is negative\n",
    "        `False` if param1*param2 is non-negative\n",
    "    \"\"\"\n",
    "    \n",
    "    product = param1 * param2\n",
    "    result = product < 0\n",
    "\n",
    "    return result"
   ]
  },
  {
   "cell_type": "code",
   "execution_count": null,
   "metadata": {},
   "outputs": [],
   "source": [
    "check_if_product_is_negative()"
   ]
  },
  {
   "cell_type": "markdown",
   "metadata": {},
   "source": [
    "### `Arbitrary Keyword Arguments`"
   ]
  },
  {
   "cell_type": "markdown",
   "metadata": {},
   "source": [
    "Use `**kwargs` if you don't know the Number of Parameters that will be passed to your Function. \n",
    "\n",
    "The function will receive all Arguments passed as a Dictionary."
   ]
  },
  {
   "cell_type": "markdown",
   "metadata": {},
   "source": [
    "> Note: `kwargs` stands for `Keyword Arguments` and is a Synonym for the Parameters of a Function."
   ]
  },
  {
   "cell_type": "code",
   "execution_count": 34,
   "metadata": {},
   "outputs": [],
   "source": [
    "def check_if_sum_is_negative(**kwargs:int) -> bool:\n",
    "    \"\"\"\n",
    "    A docstring is used to explain what a function actually does.\n",
    "    It is good practice as it helps other developers understand your code.\n",
    "\n",
    "    Args:\n",
    "        An arbitrary Number of Arguments passed to the Function\n",
    "\n",
    "    Returns:\n",
    "        `True` if the Sum is negative\n",
    "        `False` if the Sum is non-negative\n",
    "    \"\"\"\n",
    "    \n",
    "    sum_of_args = 0\n",
    "\n",
    "    for arg in kwargs.values():\n",
    "        sum_of_args += arg\n",
    "    \n",
    "    result = sum_of_args < 0\n",
    "\n",
    "    return result"
   ]
  },
  {
   "cell_type": "code",
   "execution_count": 35,
   "metadata": {},
   "outputs": [
    {
     "data": {
      "text/plain": [
       "False"
      ]
     },
     "execution_count": 35,
     "metadata": {},
     "output_type": "execute_result"
    }
   ],
   "source": [
    "check_if_sum_is_negative(param1=1, param2=2, param3=3)"
   ]
  },
  {
   "cell_type": "markdown",
   "metadata": {},
   "source": [
    "`Code Challenge`"
   ]
  },
  {
   "cell_type": "markdown",
   "metadata": {},
   "source": [
    "The following Function `profit_check` takes four Input Parameters:\n",
    "* Product Price\n",
    "* Sales Amount\n",
    "* Costs per Unit\n",
    "* Fixed Costs\n",
    "\n",
    "The Function will return `if a given Scenario is profitable or not`."
   ]
  },
  {
   "cell_type": "code",
   "execution_count": null,
   "metadata": {},
   "outputs": [],
   "source": [
    "def check_for_profitability(price, sales, variable_costs_per_unit, fixed_costs):\n",
    "    revenue = sales * price\n",
    "    variable_costs = sales * variable_costs_per_unit\n",
    "    profit = revenue - variable_costs - fixed_costs\n",
    "    print(\" \")\n",
    "    print(\" \")\n",
    "    print(\" \")\n",
    "    print(\"Price:\", price, \"$\")\n",
    "    print(\"Sales:\", sales, \"Pcs.\")\n",
    "    print(\"Revenue\", revenue, \"$\")\n",
    "    print(\"--------------------------\")\n",
    "    print(\"Costs var.:\", variable_costs, \"$\")\n",
    "    print(\"Costs fix.:\", fixed_costs, \"$\")\n",
    "    print(\"Costs total:\", variable_costs + fixed_costs, \"$\")\n",
    "    print(\"--------------------------\")\n",
    "    print(\"Profit:\", profit, \"$\")\n",
    "    if profit > 0:\n",
    "        print(\"The Scenario is profitable\")\n",
    "    else:\n",
    "        print(\"The Scenario is not profitable\")"
   ]
  },
  {
   "cell_type": "code",
   "execution_count": null,
   "metadata": {},
   "outputs": [],
   "source": [
    "list_prices = [0.99, 1.29, 1.49, 1.79, 1.99]\n",
    "list_sales = [1000000, 700000, 600000, 500000, 300000]\n",
    "variable_costs_per_unit = 0.59\n",
    "fixed_costs = 500000\n",
    "\n",
    "# Call Function to calculate the five Scenarios\n",
    "for i in range(0, len(list_prices)):\n",
    "    check_for_profitability(\n",
    "        list_prices[i], list_sales[i], variable_costs_per_unit, fixed_costs\n",
    "    )"
   ]
  }
 ],
 "metadata": {
  "kernelspec": {
   "display_name": "Python 3",
   "language": "python",
   "name": "python3"
  },
  "language_info": {
   "codemirror_mode": {
    "name": "ipython",
    "version": 3
   },
   "file_extension": ".py",
   "mimetype": "text/x-python",
   "name": "python",
   "nbconvert_exporter": "python",
   "pygments_lexer": "ipython3",
   "version": "3.9.6"
  }
 },
 "nbformat": 4,
 "nbformat_minor": 4
}
