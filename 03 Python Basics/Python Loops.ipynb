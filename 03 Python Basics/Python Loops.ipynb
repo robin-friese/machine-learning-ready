{
 "cells": [
  {
   "cell_type": "markdown",
   "metadata": {},
   "source": [
    "# Python Loops"
   ]
  },
  {
   "cell_type": "markdown",
   "metadata": {},
   "source": [
    "* `For Loop` \n",
    "\n",
    "* `While Loop`\n",
    "\n",
    "* `Break and Continue` \n",
    "\n",
    "* `Nested Loops`"
   ]
  },
  {
   "cell_type": "markdown",
   "metadata": {},
   "source": [
    "---"
   ]
  },
  {
   "cell_type": "markdown",
   "metadata": {},
   "source": [
    "### `For Loop`\n",
    "\n",
    "\n",
    "Used to iterate over a Sequence of Characters (`String`) or Items (`List`, `Tuple`, `Dictionary`)"
   ]
  },
  {
   "cell_type": "markdown",
   "metadata": {},
   "source": [
    "Loop over `String`"
   ]
  },
  {
   "cell_type": "code",
   "execution_count": null,
   "metadata": {},
   "outputs": [],
   "source": [
    "string1 = \"Python\"\n",
    "\n",
    "for char in string1:\n",
    "    print(char.upper())"
   ]
  },
  {
   "cell_type": "markdown",
   "metadata": {},
   "source": [
    "Loop over `List`"
   ]
  },
  {
   "cell_type": "code",
   "execution_count": null,
   "metadata": {},
   "outputs": [],
   "source": [
    "list1 = [1, 2.0, \"3\", True, False]\n",
    "list2 = []\n",
    "\n",
    "for item in list1:\n",
    "    list2.append(item)\n",
    "\n",
    "print(list2)"
   ]
  },
  {
   "cell_type": "markdown",
   "metadata": {},
   "source": [
    "Loop over `Tuple`"
   ]
  },
  {
   "cell_type": "code",
   "execution_count": null,
   "metadata": {
    "scrolled": true
   },
   "outputs": [],
   "source": [
    "tuple1 = (1, 2, 3)\n",
    "\n",
    "for item in tuple1:\n",
    "    print(item * 1e-3)"
   ]
  },
  {
   "cell_type": "markdown",
   "metadata": {},
   "source": [
    "Loop over `Range`\n",
    "\n",
    "`Notice: Start of Range is included while End of Range is excluded`"
   ]
  },
  {
   "cell_type": "code",
   "execution_count": null,
   "metadata": {},
   "outputs": [],
   "source": [
    "for i in range(0, 3):  # Loop over [0, 1, 2]\n",
    "    print(10**i)"
   ]
  },
  {
   "cell_type": "code",
   "execution_count": null,
   "metadata": {},
   "outputs": [],
   "source": [
    "for i in range(0, 4):  # Loop over [0, 1, 2, 3]\n",
    "    print(10**i)"
   ]
  },
  {
   "cell_type": "code",
   "execution_count": null,
   "metadata": {},
   "outputs": [],
   "source": [
    "for i in range(0, 4, 2):  # Loop over [0, 2]\n",
    "    print(10**i)"
   ]
  },
  {
   "cell_type": "code",
   "execution_count": null,
   "metadata": {},
   "outputs": [],
   "source": [
    "list1 = [1, 2, 3, 4, 5]\n",
    "\n",
    "for idx in range(0, len(list1)):  # Loop over [0, 1, 2, 3, 4]\n",
    "    print(list1[idx])"
   ]
  },
  {
   "cell_type": "markdown",
   "metadata": {},
   "source": [
    "Combine Loop with Conditions"
   ]
  },
  {
   "cell_type": "code",
   "execution_count": null,
   "metadata": {},
   "outputs": [],
   "source": [
    "list1 = [1, 2, 3, 4, 5]\n",
    "list2 = []\n",
    "\n",
    "for item in list1:\n",
    "    if item > 3:\n",
    "        list2.append(1)\n",
    "\n",
    "    else:\n",
    "        list2.append(0)\n",
    "\n",
    "print(list2)"
   ]
  },
  {
   "cell_type": "markdown",
   "metadata": {},
   "source": [
    "`List Comprehension`: a shorter Syntax for creating Lists based on the Values of an existing List"
   ]
  },
  {
   "cell_type": "code",
   "execution_count": null,
   "metadata": {},
   "outputs": [],
   "source": [
    "list1 = [1, 2, 3, 4, 5]\n",
    "\n",
    "# Long Version\n",
    "list2 = []\n",
    "\n",
    "for item in list1:\n",
    "    list2.append(item * 2)\n",
    "\n",
    "print(list2)\n",
    "\n",
    "\n",
    "# List Comprehension\n",
    "list3 = [item * 2 for item in list1]\n",
    "\n",
    "print(list3)"
   ]
  },
  {
   "cell_type": "markdown",
   "metadata": {},
   "source": [
    "### `While Loop`\n",
    "\n",
    "Used to execute a Set of Commands as long as a Condition is True"
   ]
  },
  {
   "cell_type": "code",
   "execution_count": null,
   "metadata": {},
   "outputs": [],
   "source": [
    "list1 = []\n",
    "\n",
    "i = 1\n",
    "\n",
    "while i <= 10:\n",
    "    list1.append(i)\n",
    "    i += 1\n",
    "\n",
    "print(list1)"
   ]
  },
  {
   "cell_type": "markdown",
   "metadata": {},
   "source": [
    "### The `Break` and `Continue` Statements"
   ]
  },
  {
   "cell_type": "markdown",
   "metadata": {},
   "source": [
    "* Use `break` to **stop the Execution of a Loop**\n",
    "\n",
    "* Use `continue` to **stop the current Iteration of a Loop**, but to continue with the next Iteration"
   ]
  },
  {
   "cell_type": "code",
   "execution_count": null,
   "metadata": {},
   "outputs": [],
   "source": [
    "string1 = \"Machine Learning\"\n",
    "\n",
    "for char in string1:\n",
    "    if char in [\"a\", \"e\", \"i\", \"o\", \"u\"]:\n",
    "        break  # Break loop if character is in list\n",
    "\n",
    "    else:\n",
    "        print(char.upper())"
   ]
  },
  {
   "cell_type": "code",
   "execution_count": null,
   "metadata": {},
   "outputs": [],
   "source": [
    "string1 = \"Machine Learning\"\n",
    "\n",
    "for char in string1:\n",
    "    if char in [\"a\", \"e\", \"i\", \"o\", \"u\"]:\n",
    "        continue  # Skip current iteration if character is in list\n",
    "\n",
    "    else:\n",
    "        print(char.upper())"
   ]
  },
  {
   "cell_type": "code",
   "execution_count": null,
   "metadata": {},
   "outputs": [],
   "source": [
    "list1 = []\n",
    "\n",
    "i = 1\n",
    "\n",
    "while i <= 10:\n",
    "    list1.append(i)\n",
    "    i += 1\n",
    "\n",
    "    if i == 5:\n",
    "        break  # Break loop if i=5\n",
    "\n",
    "print(list1)"
   ]
  },
  {
   "cell_type": "code",
   "execution_count": null,
   "metadata": {},
   "outputs": [],
   "source": [
    "list1 = []\n",
    "\n",
    "i = 0\n",
    "\n",
    "while i < 10:\n",
    "    i += 1\n",
    "\n",
    "    if i == 5:\n",
    "        continue  # Skip current iteration if i=5\n",
    "\n",
    "    list1.append(i)\n",
    "\n",
    "print(list1)"
   ]
  },
  {
   "cell_type": "markdown",
   "metadata": {},
   "source": [
    "Build `Nested` For Loops"
   ]
  },
  {
   "cell_type": "code",
   "execution_count": 23,
   "metadata": {},
   "outputs": [
    {
     "name": "stdout",
     "output_type": "stream",
     "text": [
      "Iteration 1: i=1 | j=3 | 1*3 = 3\n",
      "Iteration 2: i=1 | j=6 | 1*6 = 6\n",
      "Iteration 3: i=2 | j=3 | 2*3 = 6\n",
      "Iteration 4: i=2 | j=6 | 2*6 = 12\n",
      "Iteration 5: i=3 | j=3 | 3*3 = 9\n",
      "Iteration 6: i=3 | j=6 | 3*6 = 18\n",
      "\n",
      "[3, 6, 6, 12, 9, 18]\n"
     ]
    }
   ],
   "source": [
    "list1 = []\n",
    "\n",
    "count = 1\n",
    "for i in range(1, 4):  # Loop over [1, 2, 3]\n",
    "    for j in range(3, 7, 3):  # Loop over [3, 6]\n",
    "        print(f\"Iteration {count}: i={i} | j={j} | {i}*{j} = {i * j}\")\n",
    "        list1.append(i * j)\n",
    "        count += 1\n",
    "\n",
    "print(\"\\n\" + str(list1))"
   ]
  }
 ],
 "metadata": {
  "kernelspec": {
   "display_name": "Python 3",
   "language": "python",
   "name": "python3"
  },
  "language_info": {
   "codemirror_mode": {
    "name": "ipython",
    "version": 3
   },
   "file_extension": ".py",
   "mimetype": "text/x-python",
   "name": "python",
   "nbconvert_exporter": "python",
   "pygments_lexer": "ipython3",
   "version": "3.9.6"
  }
 },
 "nbformat": 4,
 "nbformat_minor": 4
}
