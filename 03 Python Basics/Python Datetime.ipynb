{
 "cells": [
  {
   "cell_type": "markdown",
   "metadata": {},
   "source": [
    "# Python Datetime\n",
    "\n",
    "A Python Module for working with `Dates` and `Times`"
   ]
  },
  {
   "cell_type": "markdown",
   "metadata": {},
   "source": [
    "---"
   ]
  },
  {
   "cell_type": "markdown",
   "metadata": {},
   "source": [
    "Import `Datetime` Module"
   ]
  },
  {
   "cell_type": "code",
   "execution_count": 1,
   "metadata": {},
   "outputs": [],
   "source": [
    "import datetime"
   ]
  },
  {
   "cell_type": "markdown",
   "metadata": {},
   "source": [
    "Create `Date Object`\n",
    "\n",
    "`Notice: Python Date Objects contain year, month and day`"
   ]
  },
  {
   "cell_type": "code",
   "execution_count": 2,
   "metadata": {},
   "outputs": [
    {
     "name": "stdout",
     "output_type": "stream",
     "text": [
      "2024-02-01\n",
      "<class 'datetime.date'>\n"
     ]
    }
   ],
   "source": [
    "# Today\n",
    "d0 = datetime.date.today()\n",
    "print(d0)\n",
    "print(type(d0))"
   ]
  },
  {
   "cell_type": "code",
   "execution_count": 3,
   "metadata": {},
   "outputs": [
    {
     "name": "stdout",
     "output_type": "stream",
     "text": [
      "2030-01-01\n"
     ]
    }
   ],
   "source": [
    "# Another Date\n",
    "d1 = datetime.date(2030, 1, 1)\n",
    "print(d1)"
   ]
  },
  {
   "cell_type": "markdown",
   "metadata": {},
   "source": [
    "Create `Datetime Object`\n",
    "\n",
    "`Notice: Python Datetime Objects contain year, month, day, hour, minute, second and microsecond`"
   ]
  },
  {
   "cell_type": "code",
   "execution_count": 4,
   "metadata": {
    "scrolled": true
   },
   "outputs": [
    {
     "name": "stdout",
     "output_type": "stream",
     "text": [
      "2024-02-01 13:41:06.321131\n",
      "<class 'datetime.datetime'>\n"
     ]
    }
   ],
   "source": [
    "# Now\n",
    "dt0 = datetime.datetime.now()\n",
    "print(dt0)\n",
    "print(type(dt0))"
   ]
  },
  {
   "cell_type": "code",
   "execution_count": 5,
   "metadata": {},
   "outputs": [
    {
     "name": "stdout",
     "output_type": "stream",
     "text": [
      "2030-01-01 12:30:00\n"
     ]
    }
   ],
   "source": [
    "# Another Datetime\n",
    "dt1 = datetime.datetime(2030, 1, 1, 12, 30)\n",
    "print(dt1)"
   ]
  },
  {
   "cell_type": "markdown",
   "metadata": {},
   "source": [
    "Create `Time Object`"
   ]
  },
  {
   "cell_type": "code",
   "execution_count": 6,
   "metadata": {},
   "outputs": [
    {
     "name": "stdout",
     "output_type": "stream",
     "text": [
      "18:00:00\n",
      "<class 'datetime.time'>\n"
     ]
    }
   ],
   "source": [
    "t0 = datetime.time(18, 0, 0)\n",
    "print(t0)\n",
    "print(type(t0))"
   ]
  },
  {
   "cell_type": "markdown",
   "metadata": {},
   "source": [
    "Return `Date` / `Datetime` / `Time` Attributes "
   ]
  },
  {
   "cell_type": "code",
   "execution_count": null,
   "metadata": {},
   "outputs": [],
   "source": [
    "# Year\n",
    "print(dt0.year)\n",
    "\n",
    "# Month\n",
    "print(dt0.month)\n",
    "\n",
    "# Day\n",
    "print(dt0.day)\n",
    "\n",
    "# Hour\n",
    "print(dt0.hour)\n",
    "\n",
    "# Minutes\n",
    "print(dt0.minute)\n",
    "\n",
    "# Seconds\n",
    "print(dt0.second)\n",
    "\n",
    "# Microseconds\n",
    "print(dt0.microsecond)"
   ]
  },
  {
   "cell_type": "code",
   "execution_count": null,
   "metadata": {},
   "outputs": [],
   "source": [
    "# Weekday (0=Monday ... 6=Sunday)\n",
    "print(dt0.weekday())\n",
    "\n",
    "# Iso Weekday (1=Monday ... 7=Sunday)\n",
    "print(dt0.isoweekday())"
   ]
  },
  {
   "cell_type": "markdown",
   "metadata": {},
   "source": [
    "Replace `Date` / `Datetime` / `Time` Attributes"
   ]
  },
  {
   "cell_type": "code",
   "execution_count": null,
   "metadata": {},
   "outputs": [],
   "source": [
    "print(d1)\n",
    "d1 = d1.replace(year=2050, month=6, day=30)\n",
    "print(d1)"
   ]
  },
  {
   "cell_type": "code",
   "execution_count": null,
   "metadata": {},
   "outputs": [],
   "source": [
    "# By the Way...\n",
    "d1.replace(day=31)"
   ]
  },
  {
   "cell_type": "markdown",
   "metadata": {},
   "source": [
    "Return `String` from `Date` / `Datetime` / `Time` Object"
   ]
  },
  {
   "cell_type": "code",
   "execution_count": null,
   "metadata": {},
   "outputs": [],
   "source": [
    "# Iso Format\n",
    "s = dt0.isoformat()\n",
    "print(s)\n",
    "print(type(s))"
   ]
  },
  {
   "cell_type": "code",
   "execution_count": null,
   "metadata": {},
   "outputs": [],
   "source": [
    "# Iso Format, too\n",
    "s = dt0.__str__()\n",
    "print(s)\n",
    "print(type(s))"
   ]
  },
  {
   "cell_type": "code",
   "execution_count": null,
   "metadata": {},
   "outputs": [],
   "source": [
    "# Ctime Format\n",
    "s = dt0.ctime()\n",
    "print(s)\n",
    "print(type(s))"
   ]
  },
  {
   "cell_type": "code",
   "execution_count": null,
   "metadata": {
    "scrolled": true
   },
   "outputs": [],
   "source": [
    "# Your Own Format\n",
    "# - - - - - - - - -\n",
    "# %a = Weekday\n",
    "# %b = Month\n",
    "# %d = Day\n",
    "# %H = Hours\n",
    "# %M = Minutes\n",
    "# %S = Seconds\n",
    "# %Y = Year\n",
    "# - - - - - - - - -\n",
    "s = datetime.datetime.strftime(dt0, \"%a, %b %drd %Y %H:%M:%S\")\n",
    "print(s)\n",
    "print(type(s))"
   ]
  },
  {
   "cell_type": "markdown",
   "metadata": {},
   "source": [
    "Return `Date` / `Datetime` / `Time` Object from `String`"
   ]
  },
  {
   "cell_type": "code",
   "execution_count": null,
   "metadata": {},
   "outputs": [],
   "source": [
    "dt = datetime.datetime.strptime(s, \"%a, %b %drd %Y %H:%M:%S\")\n",
    "print(dt)"
   ]
  },
  {
   "cell_type": "markdown",
   "metadata": {},
   "source": [
    "Calculate with `Date` / `Datetime` / `Time` and `Timedelta`"
   ]
  },
  {
   "cell_type": "code",
   "execution_count": null,
   "metadata": {},
   "outputs": [],
   "source": [
    "today = datetime.date.today()\n",
    "\n",
    "my_birthday = datetime.date(1988, 12, 5)\n",
    "\n",
    "# My Age in Days\n",
    "my_age_in_days = today - my_birthday\n",
    "\n",
    "print(type(my_age_in_days))\n",
    "print(my_age_in_days.days, \"Days since my Birthday\")\n",
    "\n",
    "# My Age in Months\n",
    "print(round(my_age_in_days.days / 12, 1), \"Months since my Birthday\")\n",
    "\n",
    "# My Age in Years\n",
    "print(round(my_age_in_days.days / 365, 1), \"Years since my Birthday\")"
   ]
  },
  {
   "cell_type": "code",
   "execution_count": null,
   "metadata": {},
   "outputs": [],
   "source": [
    "# My 100th Day on Earth was...\n",
    "print(\"My 100th Day on Earth was\", my_birthday + datetime.timedelta(days=100))"
   ]
  },
  {
   "cell_type": "code",
   "execution_count": null,
   "metadata": {},
   "outputs": [],
   "source": [
    "# My First Sunday on Earth was on...\n",
    "wd_birthday = my_birthday.isoweekday()\n",
    "wd_sunday = 7\n",
    "\n",
    "print(\n",
    "    \"My First Sunday on Earth was on\",\n",
    "    my_birthday + datetime.timedelta(wd_sunday - wd_birthday),\n",
    ")"
   ]
  }
 ],
 "metadata": {
  "kernelspec": {
   "display_name": "Python 3",
   "language": "python",
   "name": "python3"
  },
  "language_info": {
   "codemirror_mode": {
    "name": "ipython",
    "version": 3
   },
   "file_extension": ".py",
   "mimetype": "text/x-python",
   "name": "python",
   "nbconvert_exporter": "python",
   "pygments_lexer": "ipython3",
   "version": "3.9.6"
  }
 },
 "nbformat": 4,
 "nbformat_minor": 4
}
