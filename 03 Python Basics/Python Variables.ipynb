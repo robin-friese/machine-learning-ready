{
 "cells": [
  {
   "cell_type": "markdown",
   "metadata": {},
   "source": [
    "# Python Variables"
   ]
  },
  {
   "cell_type": "markdown",
   "metadata": {},
   "source": [
    "* `Create Variables`\n",
    "\n",
    "* `Output Variables`\n",
    "\n",
    "* `Global vs Local Variables`\n",
    "\n",
    "* `Variable Names`"
   ]
  },
  {
   "cell_type": "markdown",
   "metadata": {},
   "source": [
    "---"
   ]
  },
  {
   "cell_type": "markdown",
   "metadata": {},
   "source": [
    "### `Create Variables`"
   ]
  },
  {
   "cell_type": "markdown",
   "metadata": {},
   "source": [
    "A Variable is created when you first assign a Value to it"
   ]
  },
  {
   "cell_type": "code",
   "execution_count": null,
   "metadata": {},
   "outputs": [],
   "source": [
    "a = 1\n",
    "\n",
    "print(a)"
   ]
  },
  {
   "cell_type": "markdown",
   "metadata": {},
   "source": [
    "Python sets the Variable Type automatically"
   ]
  },
  {
   "cell_type": "code",
   "execution_count": null,
   "metadata": {},
   "outputs": [],
   "source": [
    "a = 1  # a is of type \"int\" (Integer)\n",
    "b = \"1\"  # b is of type \"str\" (String)\n",
    "\n",
    "print(a, type(a))\n",
    "print(b, type(b))"
   ]
  },
  {
   "cell_type": "markdown",
   "metadata": {},
   "source": [
    "Use `Casting` to set the Variable Type explicitly"
   ]
  },
  {
   "cell_type": "code",
   "execution_count": null,
   "metadata": {},
   "outputs": [],
   "source": [
    "a = int(1)  # a is 1\n",
    "b = str(1)  # b is \"1\"\n",
    "\n",
    "print(a)\n",
    "print(b)"
   ]
  },
  {
   "cell_type": "markdown",
   "metadata": {},
   "source": [
    "Use `type()` to get the Data Type of a Variable"
   ]
  },
  {
   "cell_type": "code",
   "execution_count": null,
   "metadata": {},
   "outputs": [],
   "source": [
    "print(a, type(a))\n",
    "print(b, type(b))"
   ]
  },
  {
   "cell_type": "markdown",
   "metadata": {},
   "source": [
    "Python allows you to use `Single Quotes` or `Double Quotes`"
   ]
  },
  {
   "cell_type": "code",
   "execution_count": null,
   "metadata": {},
   "outputs": [],
   "source": [
    "a = 'Text'  # Single Quotes\n",
    "b = \"Text\"  # Double Quotes\n",
    "\n",
    "print(a, type(a))\n",
    "print(b, type(b))"
   ]
  },
  {
   "cell_type": "markdown",
   "metadata": {},
   "source": [
    "You can create `multiple Variables`"
   ]
  },
  {
   "cell_type": "code",
   "execution_count": null,
   "metadata": {},
   "outputs": [],
   "source": [
    "a, b = 1, \"1\"  # different values\n",
    "\n",
    "print(a, type(a))\n",
    "print(b, type(b))"
   ]
  },
  {
   "cell_type": "code",
   "execution_count": null,
   "metadata": {},
   "outputs": [],
   "source": [
    "a = b = 1  # same value\n",
    "\n",
    "print(a, type(a))\n",
    "print(b, type(b))"
   ]
  },
  {
   "cell_type": "markdown",
   "metadata": {},
   "source": [
    "### `Output Variables`"
   ]
  },
  {
   "cell_type": "markdown",
   "metadata": {},
   "source": [
    "Use `print` for simple Outputs"
   ]
  },
  {
   "cell_type": "code",
   "execution_count": null,
   "metadata": {},
   "outputs": [],
   "source": [
    "a = 10\n",
    "b = 3\n",
    "c = a**b  # Exponentiation\n",
    "\n",
    "print(a)\n",
    "print(b)\n",
    "print(c)"
   ]
  },
  {
   "cell_type": "markdown",
   "metadata": {},
   "source": [
    "...or more complex Outputs"
   ]
  },
  {
   "cell_type": "code",
   "execution_count": null,
   "metadata": {},
   "outputs": [],
   "source": [
    "print(\" a=\" + str(a) + \"\\n\" \" b=\" + str(b) + \"\\n\" \" a**b=\" + str(c))"
   ]
  },
  {
   "cell_type": "markdown",
   "metadata": {},
   "source": [
    "Using `F-Strings` is good Practice"
   ]
  },
  {
   "cell_type": "code",
   "execution_count": null,
   "metadata": {},
   "outputs": [],
   "source": [
    "print(f\" a={a} \\n b={b} \\n a**b={c}\")"
   ]
  },
  {
   "cell_type": "markdown",
   "metadata": {},
   "source": [
    "Use `Triple-Quotes` for `Multi-Line Strings`"
   ]
  },
  {
   "cell_type": "code",
   "execution_count": null,
   "metadata": {},
   "outputs": [],
   "source": [
    "print(\n",
    "    f\"\"\"\n",
    " a={a}\n",
    " b={b}\n",
    " a**b= {c}\"\"\"\n",
    ")"
   ]
  },
  {
   "cell_type": "markdown",
   "metadata": {},
   "source": [
    "Use Python Library `Colorama` for colored Output\n",
    "\n",
    "For more information please see Documentation on [PyPI](https://pypi.org/project/colorama/)"
   ]
  },
  {
   "cell_type": "code",
   "execution_count": null,
   "metadata": {},
   "outputs": [],
   "source": [
    "# pip install colorama\n",
    "\n",
    "from colorama import Fore, Back, Style, init"
   ]
  },
  {
   "cell_type": "code",
   "execution_count": null,
   "metadata": {},
   "outputs": [],
   "source": [
    "# Some Colorama Intuition\n",
    "print(Fore.BLUE + \"some blue text\")\n",
    "print(Back.GREEN + \"with a yellow background\")\n",
    "print(Style.BRIGHT + \"and in brigth style\")\n",
    "print(\"still blue on yellow in bright style\")\n",
    "print(Style.RESET_ALL)\n",
    "print(\"back to normal now\")"
   ]
  },
  {
   "cell_type": "code",
   "execution_count": null,
   "metadata": {},
   "outputs": [],
   "source": [
    "# Above example with Colorama\n",
    "print(Fore.BLUE + Style.BRIGHT + f\" a={a} \\n b={b} \\n a**b={c}\")"
   ]
  },
  {
   "cell_type": "code",
   "execution_count": null,
   "metadata": {},
   "outputs": [],
   "source": [
    "# Custom Function for colored Printing\n",
    "def cprint(text: str, color=Fore.BLUE, style=Style.BRIGHT) -> str:\n",
    "    \"Prints color outputs using colorama of a text string\"\n",
    "\n",
    "    print(style + color + text + Style.RESET_ALL)\n",
    "\n",
    "\n",
    "cprint(f\" a={a} \\n b={b} \\n a**b={c} \\n\")\n",
    "cprint(\"I can call this function for colored printing everything now\")\n",
    "cprint(\"Again and again\")\n",
    "cprint(\"As much as I want\")"
   ]
  },
  {
   "cell_type": "markdown",
   "metadata": {},
   "source": [
    "### `Global vs Local Variables`"
   ]
  },
  {
   "cell_type": "markdown",
   "metadata": {},
   "source": [
    "`Global Variables` are Variables that are defined **outside** of a Function.\n",
    "\n",
    "They can be used **either inside or outside** of a function."
   ]
  },
  {
   "cell_type": "code",
   "execution_count": null,
   "metadata": {},
   "outputs": [],
   "source": [
    "x = 0\n",
    "\n",
    "def change_x(value: int) -> int:\n",
    "    \"Returns new value for x\"\n",
    "\n",
    "    x = value\n",
    "\n",
    "    return x\n",
    "\n",
    "change_x(-1)"
   ]
  },
  {
   "cell_type": "markdown",
   "metadata": {},
   "source": [
    "`Local Variables` are Variables that are defined **inside** of a Function.\n",
    "\n",
    "They can be used **only inside** of a function."
   ]
  },
  {
   "cell_type": "code",
   "execution_count": null,
   "metadata": {},
   "outputs": [],
   "source": [
    "def define_y() -> str:\n",
    "    \"Returns y\"\n",
    "\n",
    "    y = -1\n",
    "\n",
    "    return y\n",
    "\n",
    "define_y()\n",
    "\n",
    "print(y)"
   ]
  },
  {
   "cell_type": "markdown",
   "metadata": {},
   "source": [
    "Use the `global` keyword to make a local Variable belong to the global Scope"
   ]
  },
  {
   "cell_type": "code",
   "execution_count": null,
   "metadata": {},
   "outputs": [],
   "source": [
    "def define_y() -> str:\n",
    "    \"Returns y\"\n",
    "\n",
    "    global y\n",
    "    y = -1\n",
    "\n",
    "define_y()\n",
    "\n",
    "print(y)"
   ]
  },
  {
   "cell_type": "markdown",
   "metadata": {},
   "source": [
    "### `Variable Names`"
   ]
  },
  {
   "cell_type": "markdown",
   "metadata": {},
   "source": [
    "Variable Names in Python:\n",
    "\n",
    "* Must start with a Letter (`A-z`) or an Underscore (`_`)\n",
    "* Can only contain alphanumeric Characters (`A-z`, `0-9`, and `_`)\n",
    "* Are case-sensitive (`a` and `A` are two different Variables)\n",
    "* Must not be a [Python Keyword](https://realpython.com/python-keywords/)"
   ]
  },
  {
   "cell_type": "code",
   "execution_count": null,
   "metadata": {},
   "outputs": [],
   "source": [
    "var1 = 1  # works"
   ]
  },
  {
   "cell_type": "code",
   "execution_count": null,
   "metadata": {},
   "outputs": [],
   "source": [
    "_var2 = 2  # works"
   ]
  },
  {
   "cell_type": "code",
   "execution_count": null,
   "metadata": {},
   "outputs": [],
   "source": [
    "VAR3 = 3  # works"
   ]
  },
  {
   "cell_type": "code",
   "execution_count": null,
   "metadata": {},
   "outputs": [],
   "source": [
    "Var_4 = 4  # works"
   ]
  },
  {
   "cell_type": "code",
   "execution_count": null,
   "metadata": {},
   "outputs": [],
   "source": [
    "5var = 5  # error"
   ]
  },
  {
   "cell_type": "code",
   "execution_count": null,
   "metadata": {},
   "outputs": [],
   "source": [
    "var-6 = 6  # error"
   ]
  },
  {
   "cell_type": "code",
   "execution_count": null,
   "metadata": {},
   "outputs": [],
   "source": [
    "def = 7 # error"
   ]
  },
  {
   "cell_type": "markdown",
   "metadata": {},
   "source": [
    "In practice, instead of Variable Names like `a, b, c` or `var`, there are often more descriptive Names used that describe the Content of a particular Variable.  \n",
    "\n",
    "Therefore, `Multi Word Variable Names` are commonly used. To make such Variable Names as readible as possible, different `Naming Convetions` were introduced.  \n",
    " \n",
    "According to the [PEP-8 Style Guide for Python Code](https://peps.python.org/pep-0008/#function-and-variable-names) the `Snake Case` or `lower_case_with_underscore` convention should be used for `Variables` and `Functions` in Python."
   ]
  },
  {
   "cell_type": "code",
   "execution_count": null,
   "metadata": {},
   "outputs": [],
   "source": [
    "my_first_variable = 1"
   ]
  },
  {
   "cell_type": "markdown",
   "metadata": {},
   "source": [
    "For `Constants` PEP-8 requires `UPPER_CASE_WITH_UNDERSCORE` convention"
   ]
  },
  {
   "cell_type": "code",
   "execution_count": null,
   "metadata": {},
   "outputs": [],
   "source": [
    "MY_FIRST_CONSTANT = 1"
   ]
  },
  {
   "cell_type": "markdown",
   "metadata": {},
   "source": [
    "For `Class Names` PEP-8 requires `CamelCase` convention"
   ]
  },
  {
   "cell_type": "code",
   "execution_count": null,
   "metadata": {},
   "outputs": [],
   "source": [
    "class MyFirstClass():\n",
    "    def __init__(self, continent, country):\n",
    "        self.continent = continent\n",
    "        self.country = country\n",
    "\n",
    "    def __str__(self):\n",
    "        return f\"{self.continent}({self.country})\"\n",
    "\n",
    "object1 = MyFirstClass(\"Europe\", \"Germany\")\n",
    "object2 = MyFirstClass(\"Asia\", \"China\")\n",
    "\n",
    "print(object1)\n",
    "print(object2)"
   ]
  }
 ],
 "metadata": {
  "kernelspec": {
   "display_name": "Python 3",
   "language": "python",
   "name": "python3"
  },
  "language_info": {
   "codemirror_mode": {
    "name": "ipython",
    "version": 3
   },
   "file_extension": ".py",
   "mimetype": "text/x-python",
   "name": "python",
   "nbconvert_exporter": "python",
   "pygments_lexer": "ipython3",
   "version": "3.9.6"
  }
 },
 "nbformat": 4,
 "nbformat_minor": 2
}
