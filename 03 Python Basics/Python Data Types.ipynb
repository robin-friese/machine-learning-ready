{
 "cells": [
  {
   "cell_type": "markdown",
   "metadata": {},
   "source": [
    "# PYTHON DATA TYPES"
   ]
  },
  {
   "cell_type": "markdown",
   "metadata": {},
   "source": [
    "### Built-in Data Types in Python"
   ]
  },
  {
   "cell_type": "markdown",
   "metadata": {},
   "source": [
    "* *Text Type*:       **str** (String)\n",
    "\n",
    "* *Numeric Types*:   **int** (Integer)  |  **float** (Floating Point Number)\n",
    "\n",
    "* *Boolean Type*:   **bool** (Boolean)\n",
    "\n",
    "* *Sequence Types*:   **list** (List)  |  **tuple** (Tuple)\n",
    "\n",
    "* *Mapping Type*:   **dict** (Dictionary)"
   ]
  },
  {
   "cell_type": "markdown",
   "metadata": {},
   "source": [
    "---"
   ]
  },
  {
   "cell_type": "markdown",
   "metadata": {},
   "source": [
    "### `STRING`"
   ]
  },
  {
   "cell_type": "markdown",
   "metadata": {},
   "source": [
    "**Make Python talk to You**"
   ]
  },
  {
   "cell_type": "code",
   "execution_count": null,
   "metadata": {
    "scrolled": true
   },
   "outputs": [],
   "source": [
    "print('Hello, Python!')"
   ]
  },
  {
   "cell_type": "markdown",
   "metadata": {},
   "source": [
    "**Comment Your Code**"
   ]
  },
  {
   "cell_type": "code",
   "execution_count": null,
   "metadata": {},
   "outputs": [],
   "source": [
    "# print('Nothing')"
   ]
  },
  {
   "cell_type": "markdown",
   "metadata": {},
   "source": [
    "**Assign Text to a Variable**"
   ]
  },
  {
   "cell_type": "code",
   "execution_count": null,
   "metadata": {},
   "outputs": [],
   "source": [
    "s = 'Hello, Python!'\n",
    "\n",
    "print(s)"
   ]
  },
  {
   "cell_type": "markdown",
   "metadata": {},
   "source": [
    "**Assign Multiline Text** to a Variable"
   ]
  },
  {
   "cell_type": "code",
   "execution_count": null,
   "metadata": {},
   "outputs": [],
   "source": [
    "s_ml = '''Hello, Python!\n",
    "Hello, Python!\n",
    "Hello, Python!'''\n",
    "\n",
    "print(s_ml)"
   ]
  },
  {
   "cell_type": "markdown",
   "metadata": {},
   "source": [
    "**Access a Single Character** from a String using `[index]`\n",
    "\n",
    "`Note: The First Character has Index Zero`"
   ]
  },
  {
   "cell_type": "code",
   "execution_count": null,
   "metadata": {},
   "outputs": [],
   "source": [
    "print(s[0])\n",
    "print(s[0], '-', s[1], '-', s[2], '-', s[3], '-', s[4])"
   ]
  },
  {
   "cell_type": "markdown",
   "metadata": {},
   "source": [
    "**Access a Slice of Characters** from a String using `[start_index : end_index]`\n",
    "\n",
    "`Note: 'end_index' is always excluded`"
   ]
  },
  {
   "cell_type": "code",
   "execution_count": null,
   "metadata": {},
   "outputs": [],
   "source": [
    "print(s[0:4])\n",
    "print(s[0:5])"
   ]
  },
  {
   "cell_type": "markdown",
   "metadata": {},
   "source": [
    "**Slice from the Start**"
   ]
  },
  {
   "cell_type": "code",
   "execution_count": null,
   "metadata": {},
   "outputs": [],
   "source": [
    "print(s[ :5])"
   ]
  },
  {
   "cell_type": "markdown",
   "metadata": {},
   "source": [
    "**Slice to the End**"
   ]
  },
  {
   "cell_type": "code",
   "execution_count": null,
   "metadata": {},
   "outputs": [],
   "source": [
    "print(s[5: ])"
   ]
  },
  {
   "cell_type": "markdown",
   "metadata": {},
   "source": [
    "**Slice with Negative Indices**"
   ]
  },
  {
   "cell_type": "code",
   "execution_count": null,
   "metadata": {},
   "outputs": [],
   "source": [
    "print(s[:-1])\n",
    "print(s[-1: ])\n",
    "print(s[-7: ])\n",
    "print(s[-7:-5])"
   ]
  },
  {
   "cell_type": "markdown",
   "metadata": {},
   "source": [
    "**Return the Length** of a String"
   ]
  },
  {
   "cell_type": "code",
   "execution_count": null,
   "metadata": {},
   "outputs": [],
   "source": [
    "print(len(s))"
   ]
  },
  {
   "cell_type": "markdown",
   "metadata": {},
   "source": [
    "### `INTEGER AND FLOAT`"
   ]
  },
  {
   "cell_type": "markdown",
   "metadata": {},
   "source": [
    "**Assign an Integer** to a Variable"
   ]
  },
  {
   "cell_type": "code",
   "execution_count": null,
   "metadata": {},
   "outputs": [],
   "source": [
    "x = 1\n",
    "print(x)\n",
    "print(type(x))"
   ]
  },
  {
   "cell_type": "markdown",
   "metadata": {},
   "source": [
    "**Assign a Floating Point Number** to a Variable"
   ]
  },
  {
   "cell_type": "code",
   "execution_count": null,
   "metadata": {},
   "outputs": [],
   "source": [
    "x = 1.0\n",
    "print(x)\n",
    "print(type(x))"
   ]
  },
  {
   "cell_type": "markdown",
   "metadata": {},
   "source": [
    "Floating Point Number can also be a **Scientific Number with an 'e' indicating the power of 10**"
   ]
  },
  {
   "cell_type": "code",
   "execution_count": null,
   "metadata": {},
   "outputs": [],
   "source": [
    "x = 1e-1\n",
    "print(x)\n",
    "print(type(x))\n",
    "\n",
    "y = 1e-10\n",
    "print(y)\n",
    "print(type(y))\n",
    "\n",
    "z = 1e6\n",
    "print(z)\n",
    "print(type(z))"
   ]
  },
  {
   "cell_type": "markdown",
   "metadata": {},
   "source": [
    "**Convert Integer to Floating Point Number**"
   ]
  },
  {
   "cell_type": "code",
   "execution_count": null,
   "metadata": {},
   "outputs": [],
   "source": [
    "x = 1\n",
    "print(x)\n",
    "print(type(x))\n",
    "\n",
    "y = float(x)\n",
    "print(y)\n",
    "print(type(y))"
   ]
  },
  {
   "cell_type": "markdown",
   "metadata": {},
   "source": [
    "**Convert Floating Point Number to Integer**"
   ]
  },
  {
   "cell_type": "code",
   "execution_count": null,
   "metadata": {},
   "outputs": [],
   "source": [
    "x = 1.0\n",
    "print(x)\n",
    "print(type(x))\n",
    "\n",
    "y = int(x)\n",
    "print(y)\n",
    "print(type(y))"
   ]
  },
  {
   "cell_type": "code",
   "execution_count": null,
   "metadata": {},
   "outputs": [],
   "source": [
    "x = 1.75\n",
    "print(x)\n",
    "print(type(x))\n",
    "\n",
    "y = int(x)\n",
    "print(y)\n",
    "print(type(y))"
   ]
  },
  {
   "cell_type": "markdown",
   "metadata": {},
   "source": [
    "**Cast Integer or Floating Point Number from String**"
   ]
  },
  {
   "cell_type": "code",
   "execution_count": null,
   "metadata": {},
   "outputs": [],
   "source": [
    "x = int('1')\n",
    "print(x)\n",
    "print(type(x))\n",
    "\n",
    "y = float('1.75')\n",
    "print(y)\n",
    "print(type(y))\n",
    "\n",
    "# Will raise an Error\n",
    "z = int('1.75')\n",
    "print(z)\n",
    "print(type(z))"
   ]
  },
  {
   "cell_type": "markdown",
   "metadata": {},
   "source": [
    "**Cast String from Integer or Floating Point Number**"
   ]
  },
  {
   "cell_type": "code",
   "execution_count": null,
   "metadata": {},
   "outputs": [],
   "source": [
    "s = str(1)\n",
    "print(s)\n",
    "print(type(s))\n",
    "\n",
    "t = str(1.75)\n",
    "print(t)\n",
    "print(type(t))\n",
    "\n",
    "u = str(1e10)\n",
    "print(u)\n",
    "print(type(u))"
   ]
  },
  {
   "cell_type": "markdown",
   "metadata": {},
   "source": [
    "## `BOOLEAN`\n",
    "\n",
    "Boolean Type indicates if something is either `True` or `False`"
   ]
  },
  {
   "cell_type": "markdown",
   "metadata": {},
   "source": [
    "**Assign a Boolean** to a Variable"
   ]
  },
  {
   "cell_type": "code",
   "execution_count": null,
   "metadata": {},
   "outputs": [],
   "source": [
    "b = True\n",
    "print(b)\n",
    "print(type(b))\n",
    "\n",
    "f = False\n",
    "print(f)\n",
    "print(type(f))"
   ]
  },
  {
   "cell_type": "markdown",
   "metadata": {},
   "source": [
    "**Evaluate an Expression** and **return Boolean Answer**"
   ]
  },
  {
   "cell_type": "code",
   "execution_count": null,
   "metadata": {},
   "outputs": [],
   "source": [
    "x = 1\n",
    "y = 1\n",
    "print(x == y)\n",
    "\n",
    "s = 'a'\n",
    "t = 'b'\n",
    "print(s == t)"
   ]
  },
  {
   "cell_type": "markdown",
   "metadata": {},
   "source": [
    "## `LIST`\n",
    "\n",
    "* Sequence Type used to store multiple Items in a single Variable\n",
    "* Items in a List are **changeable**\n",
    "* Lists are written with Square Brackets `[ ]`"
   ]
  },
  {
   "cell_type": "markdown",
   "metadata": {},
   "source": [
    "**Create a List** using `[ ]`"
   ]
  },
  {
   "cell_type": "code",
   "execution_count": null,
   "metadata": {},
   "outputs": [],
   "source": [
    "list1 = ['1', '2', 3, 4, 5.0, 6.0, True, False]\n",
    "print(list1)\n",
    "print(type(list1))"
   ]
  },
  {
   "cell_type": "markdown",
   "metadata": {},
   "source": [
    "**Access a Single Item** from a List using `[index]`\n",
    "\n",
    "`Remember: The First Item has Index Zero`"
   ]
  },
  {
   "cell_type": "code",
   "execution_count": null,
   "metadata": {},
   "outputs": [],
   "source": [
    "# First Item\n",
    "print(list1[0])\n",
    "print(type(list1[0]))\n",
    "\n",
    "# Third Item\n",
    "print(list1[2])\n",
    "print(type(list1[2]))\n",
    "\n",
    "# Fifth Item\n",
    "print(list1[4])\n",
    "print(type(list1[4]))\n",
    "\n",
    "# Seventh Item\n",
    "print(list1[6])\n",
    "print(type(list1[6]))"
   ]
  },
  {
   "cell_type": "markdown",
   "metadata": {},
   "source": [
    "**Access a Slice of Items** from a List using `[start_index : end_index]`\n",
    "\n",
    "`Remember: 'end_index' is always excluded`"
   ]
  },
  {
   "cell_type": "code",
   "execution_count": null,
   "metadata": {},
   "outputs": [],
   "source": [
    "# First two Items\n",
    "print(list1[:2])\n",
    "print(type(list1[:2]))\n",
    "\n",
    "# Last two Items\n",
    "print(list1[-2:])\n",
    "print(type(list1[-2:]))\n",
    "\n",
    "# Third to Sixth Item\n",
    "print(list1[2:6])\n",
    "print(type(list1[2:6]))"
   ]
  },
  {
   "cell_type": "markdown",
   "metadata": {},
   "source": [
    "**Assign a Slice of Items** to a **New List**"
   ]
  },
  {
   "cell_type": "code",
   "execution_count": null,
   "metadata": {},
   "outputs": [],
   "source": [
    "list2 = list1[:2]\n",
    "print(list2)"
   ]
  },
  {
   "cell_type": "markdown",
   "metadata": {},
   "source": [
    "**Change Items** of a List"
   ]
  },
  {
   "cell_type": "code",
   "execution_count": null,
   "metadata": {},
   "outputs": [],
   "source": [
    "print(list1)\n",
    "# Change one Item\n",
    "list1[0] = 'Text1'\n",
    "print(list1)"
   ]
  },
  {
   "cell_type": "code",
   "execution_count": null,
   "metadata": {},
   "outputs": [],
   "source": [
    "# Change multiple Items\n",
    "list1[1:6] = ['Text2', 'Text3', 'Text4', 'Text5', 'Text6']\n",
    "print(list1)"
   ]
  },
  {
   "cell_type": "code",
   "execution_count": null,
   "metadata": {},
   "outputs": [],
   "source": [
    "# Insert less Items than you replace will delete items\n",
    "list1[1:6] = ['Text2', 'Text3']\n",
    "print(list1)"
   ]
  },
  {
   "cell_type": "code",
   "execution_count": null,
   "metadata": {},
   "outputs": [],
   "source": [
    "# Insert more Items than you replace will add items\n",
    "list1[1:3] = ['Text2', 'Text3', 'Text4', 'Text5', 'Text6']\n",
    "print(list1)"
   ]
  },
  {
   "cell_type": "markdown",
   "metadata": {},
   "source": [
    "**Add New Items** to a List using `insert`and `append`"
   ]
  },
  {
   "cell_type": "code",
   "execution_count": null,
   "metadata": {},
   "outputs": [],
   "source": [
    "list1.insert(0, 'Inserted')\n",
    "print(list1)"
   ]
  },
  {
   "cell_type": "code",
   "execution_count": null,
   "metadata": {},
   "outputs": [],
   "source": [
    "list1.insert(3, 'Inserted')\n",
    "print(list1)"
   ]
  },
  {
   "cell_type": "code",
   "execution_count": null,
   "metadata": {
    "scrolled": true
   },
   "outputs": [],
   "source": [
    "list1.append('Appended')\n",
    "print(list1)"
   ]
  },
  {
   "cell_type": "markdown",
   "metadata": {},
   "source": [
    "**Remove Items** from a List using `remove`, `pop`, `del` or `clear`"
   ]
  },
  {
   "cell_type": "code",
   "execution_count": null,
   "metadata": {},
   "outputs": [],
   "source": [
    "# Remove specified Item\n",
    "list1.remove('Inserted')\n",
    "print(list1)"
   ]
  },
  {
   "cell_type": "code",
   "execution_count": null,
   "metadata": {},
   "outputs": [],
   "source": [
    "# Remove Item with specified Index\n",
    "list1.pop(2)\n",
    "print(list1)"
   ]
  },
  {
   "cell_type": "code",
   "execution_count": null,
   "metadata": {},
   "outputs": [],
   "source": [
    "# Remove last Item\n",
    "list1.pop()\n",
    "print(list1)"
   ]
  },
  {
   "cell_type": "code",
   "execution_count": null,
   "metadata": {},
   "outputs": [],
   "source": [
    "# Remove specified Items\n",
    "del list1[-2:]\n",
    "print(list1)"
   ]
  },
  {
   "cell_type": "code",
   "execution_count": null,
   "metadata": {},
   "outputs": [],
   "source": [
    "# Remove all Items\n",
    "list1.clear()\n",
    "print(list1)"
   ]
  },
  {
   "cell_type": "code",
   "execution_count": null,
   "metadata": {},
   "outputs": [],
   "source": [
    "# Delete a List\n",
    "del list1\n",
    "# Will raise an Error because the List doesn't exist anymore\n",
    "print(list1) "
   ]
  },
  {
   "cell_type": "markdown",
   "metadata": {},
   "source": [
    "**Sort** Lists using `sort`"
   ]
  },
  {
   "cell_type": "code",
   "execution_count": null,
   "metadata": {},
   "outputs": [],
   "source": [
    "# List with Numeric Values\n",
    "list3 = [3, 5, 4, 1, 2]\n",
    "print(list3)\n",
    "\n",
    "# Ascending\n",
    "list3.sort()\n",
    "print(list3)\n",
    "\n",
    "# Descending \n",
    "list3.sort(reverse=True)\n",
    "print(list3)"
   ]
  },
  {
   "cell_type": "code",
   "execution_count": null,
   "metadata": {},
   "outputs": [],
   "source": [
    "# List with String Values\n",
    "list4 = ['C', 'b', 'a']\n",
    "print(list4)\n",
    "\n",
    "# Case-sensitive\n",
    "list4.sort()\n",
    "print(list4)\n",
    "\n",
    "# Case-insensitive\n",
    "list4.sort(key=str.lower)\n",
    "print(list4)"
   ]
  },
  {
   "cell_type": "code",
   "execution_count": null,
   "metadata": {},
   "outputs": [],
   "source": [
    "# Reverse Current Order\n",
    "list5 = ['Ready', 'Learning', 'Machine']\n",
    "list5.reverse()\n",
    "print(list5)"
   ]
  },
  {
   "cell_type": "markdown",
   "metadata": {},
   "source": [
    "**Copy** a List using `copy`"
   ]
  },
  {
   "cell_type": "code",
   "execution_count": null,
   "metadata": {},
   "outputs": [],
   "source": [
    "listA = [1, 2, 3, 4, 5]\n",
    "\n",
    "# This does NOT! give a Copy, but only a Reference to ListA\n",
    "listB = listA\n",
    "# Changes in ListA will affect ListB as well\n",
    "listA.append(6)\n",
    "print(listB)"
   ]
  },
  {
   "cell_type": "code",
   "execution_count": null,
   "metadata": {},
   "outputs": [],
   "source": [
    "# For a Real Copy use copy()\n",
    "listB = listA.copy()\n",
    "# Changes in ListA now will NOT! affect ListB\n",
    "listA.append(7)\n",
    "print(listB)"
   ]
  },
  {
   "cell_type": "markdown",
   "metadata": {},
   "source": [
    "**Join** Lists using `+`"
   ]
  },
  {
   "cell_type": "code",
   "execution_count": null,
   "metadata": {},
   "outputs": [],
   "source": [
    "listA = [1, 2, 3]\n",
    "listB = [4, 5, 6]\n",
    "listC = listA + listB\n",
    "print(listC)"
   ]
  },
  {
   "cell_type": "markdown",
   "metadata": {},
   "source": [
    "**Return the Length (the Number of Items)** of a List using `len`"
   ]
  },
  {
   "cell_type": "code",
   "execution_count": null,
   "metadata": {},
   "outputs": [],
   "source": [
    "print(len(listA))\n",
    "print(len(listC))"
   ]
  },
  {
   "cell_type": "markdown",
   "metadata": {},
   "source": [
    "## `TUPLE`\n",
    "\n",
    "* Sequence Type used to store Multiple Items in a Single Variable\n",
    "\n",
    "* Items in a Tuple a **unchangeable**\n",
    "\n",
    "* Tuples are written with Round Brackets `( )`"
   ]
  },
  {
   "cell_type": "markdown",
   "metadata": {},
   "source": [
    "**Create a Tuple** using `( )`"
   ]
  },
  {
   "cell_type": "code",
   "execution_count": null,
   "metadata": {},
   "outputs": [],
   "source": [
    "# Tuple with Multiple Items\n",
    "tuple1 = (1, 2, 3, 4, 5)\n",
    "print(tuple1)\n",
    "print(type(tuple1))\n",
    "\n",
    "# Tuple with One Item\n",
    "tuple2 = (1, )\n",
    "print(tuple2)\n",
    "print(type(tuple2))\n",
    "\n",
    "# This gives an Integer\n",
    "no_tuple = (1)\n",
    "print(no_tuple)\n",
    "print(type(no_tuple))"
   ]
  },
  {
   "cell_type": "markdown",
   "metadata": {},
   "source": [
    "Once a Tuple is created, you can **not change, add or remove Items** "
   ]
  },
  {
   "cell_type": "code",
   "execution_count": null,
   "metadata": {},
   "outputs": [],
   "source": [
    "# Will raise an Error\n",
    "tuple2.append(2)"
   ]
  },
  {
   "cell_type": "markdown",
   "metadata": {},
   "source": [
    "**Access a Single Item** from a Tuple using `[index]`\n",
    "\n",
    "`Remember: The First Item has Index Zero`"
   ]
  },
  {
   "cell_type": "code",
   "execution_count": null,
   "metadata": {},
   "outputs": [],
   "source": [
    "# First Element\n",
    "print(tuple1[0])\n",
    "\n",
    "# Second Element\n",
    "print(tuple1[1])\n",
    "\n",
    "# Last Element\n",
    "print(tuple1[-1])"
   ]
  },
  {
   "cell_type": "markdown",
   "metadata": {},
   "source": [
    "**Access a Slice of Items** from a Tuple using `[start_index : end_index]`\n",
    "\n",
    "`Remember: 'end_index' is always excluded`"
   ]
  },
  {
   "cell_type": "code",
   "execution_count": null,
   "metadata": {},
   "outputs": [],
   "source": [
    "# First Three Elements\n",
    "print(tuple1[:3])\n",
    "\n",
    "# Second to Last Element\n",
    "print(tuple1[1:])\n",
    "\n",
    "# Third and Fourth Element\n",
    "print(tuple1[2:4])"
   ]
  },
  {
   "cell_type": "markdown",
   "metadata": {},
   "source": [
    "**Packing and Unpacking** Tuples"
   ]
  },
  {
   "cell_type": "code",
   "execution_count": null,
   "metadata": {},
   "outputs": [],
   "source": [
    "# \"Packing\" a Tuple means creating it\n",
    "tuple3 = ('Berlin', 'Hamburg', 'Köln', 'München')\n",
    "print(tuple3)"
   ]
  },
  {
   "cell_type": "code",
   "execution_count": null,
   "metadata": {},
   "outputs": [],
   "source": [
    "# \"Unpacking\" a Tuple means extracting Items back to Variables\n",
    "(city1, city2, city3, city4) = tuple3\n",
    "print(city1)\n",
    "print(city2)\n",
    "print(city3)\n",
    "print(city4)"
   ]
  },
  {
   "cell_type": "markdown",
   "metadata": {},
   "source": [
    "`Note: Number of Variables must match Number of Items in the Tuple`"
   ]
  },
  {
   "cell_type": "code",
   "execution_count": null,
   "metadata": {},
   "outputs": [],
   "source": [
    "# Will raise an Error\n",
    "(city1, city2, city3) = tuple3"
   ]
  },
  {
   "cell_type": "markdown",
   "metadata": {},
   "source": [
    "**Unpacking** Tuples using `*`"
   ]
  },
  {
   "cell_type": "code",
   "execution_count": null,
   "metadata": {},
   "outputs": [],
   "source": [
    "tuple4 = ('Berlin', 'Hamburg', 'Köln', 'München', 'London', 'Madrid')\n",
    "(*Deutschland, England, Spanien) = tuple4\n",
    "print(Deutschland)\n",
    "print(England)\n",
    "print(Spanien)"
   ]
  },
  {
   "cell_type": "markdown",
   "metadata": {},
   "source": [
    "**Join** Tuples using `+`"
   ]
  },
  {
   "cell_type": "code",
   "execution_count": null,
   "metadata": {},
   "outputs": [],
   "source": [
    "tuple5 = (1, 2, 3)\n",
    "tuple6 = ('A', 'B', 'C')\n",
    "tuple7 = tuple5 + tuple6\n",
    "print(tuple7)"
   ]
  },
  {
   "cell_type": "markdown",
   "metadata": {},
   "source": [
    "**Return the Length (the Number of Items)** of a Tuple using `len`"
   ]
  },
  {
   "cell_type": "code",
   "execution_count": null,
   "metadata": {},
   "outputs": [],
   "source": [
    "print(len(tuple6))\n",
    "print(len(tuple7))"
   ]
  },
  {
   "cell_type": "markdown",
   "metadata": {},
   "source": [
    "## `DICTIONARY`\n",
    "* Mapping Type used to store Multiple Items in `key:value` Pairs\n",
    "* Items in a Dictionary are **changeable**, but **Duplicates are not allowed**\n",
    "* Dictionaries are written with Curly Brackets `{ }`\n"
   ]
  },
  {
   "cell_type": "markdown",
   "metadata": {},
   "source": [
    "**Create** a Dictionary using `{key:value}`"
   ]
  },
  {
   "cell_type": "code",
   "execution_count": null,
   "metadata": {},
   "outputs": [],
   "source": [
    "dict1 = {\n",
    "    'Integer': 1,\n",
    "    'Float'  : 1.0,\n",
    "    'String' : '1'\n",
    "}\n",
    "\n",
    "print(dict1)\n",
    "print(type(dict1))"
   ]
  },
  {
   "cell_type": "markdown",
   "metadata": {},
   "source": [
    "Dictionaries **can not have Two or More Items with the same Key**"
   ]
  },
  {
   "cell_type": "code",
   "execution_count": null,
   "metadata": {},
   "outputs": [],
   "source": [
    "dict2 = {\n",
    "    'Integer': 1,\n",
    "    'Integer': 1.0,\n",
    "    'String' : '1',\n",
    "    'String' : 'Text'\n",
    "}\n",
    "\n",
    "print(dict2)\n",
    "print(type(dict2))"
   ]
  },
  {
   "cell_type": "markdown",
   "metadata": {},
   "source": [
    "**Return all Keys** as a List using `keys`"
   ]
  },
  {
   "cell_type": "code",
   "execution_count": null,
   "metadata": {},
   "outputs": [],
   "source": [
    "print(dict1.keys())"
   ]
  },
  {
   "cell_type": "markdown",
   "metadata": {},
   "source": [
    "**Return all Values** as a List using `values`"
   ]
  },
  {
   "cell_type": "code",
   "execution_count": null,
   "metadata": {
    "scrolled": true
   },
   "outputs": [],
   "source": [
    "print(dict1.values())"
   ]
  },
  {
   "cell_type": "markdown",
   "metadata": {},
   "source": [
    "**Return all Items** as a List of Tuples using `items`"
   ]
  },
  {
   "cell_type": "code",
   "execution_count": null,
   "metadata": {},
   "outputs": [],
   "source": [
    "print(dict1.items())"
   ]
  },
  {
   "cell_type": "markdown",
   "metadata": {},
   "source": [
    "**Access a Value** in a Dictionary"
   ]
  },
  {
   "cell_type": "code",
   "execution_count": null,
   "metadata": {},
   "outputs": [],
   "source": [
    "print(dict1['Float'])"
   ]
  },
  {
   "cell_type": "markdown",
   "metadata": {},
   "source": [
    "**Change a Value** in a Dictionary"
   ]
  },
  {
   "cell_type": "code",
   "execution_count": null,
   "metadata": {},
   "outputs": [],
   "source": [
    "print(dict1)\n",
    "\n",
    "dict1['String'] = 'Text'\n",
    "\n",
    "print(dict1)"
   ]
  },
  {
   "cell_type": "markdown",
   "metadata": {},
   "source": [
    "**Add Items** to a Dictionary"
   ]
  },
  {
   "cell_type": "code",
   "execution_count": null,
   "metadata": {},
   "outputs": [],
   "source": [
    "dict1['Added Key'] = 'Added Value'\n",
    "print(dict1)"
   ]
  },
  {
   "cell_type": "markdown",
   "metadata": {},
   "source": [
    "**Remove Items** from a Dictionary using `pop`, `clear` or `del`"
   ]
  },
  {
   "cell_type": "code",
   "execution_count": null,
   "metadata": {},
   "outputs": [],
   "source": [
    "# Remove Item by Specified Key\n",
    "dict1.pop('Added Key')\n",
    "print(dict1)"
   ]
  },
  {
   "cell_type": "code",
   "execution_count": null,
   "metadata": {},
   "outputs": [],
   "source": [
    "# Remove all Items\n",
    "dict1.clear()\n",
    "print(dict1)"
   ]
  },
  {
   "cell_type": "code",
   "execution_count": null,
   "metadata": {
    "scrolled": true
   },
   "outputs": [],
   "source": [
    "# Delete Dictionary\n",
    "del dict1\n",
    "# Will raise Error because Dictionary doesn't exist anymore\n",
    "print(dict1)"
   ]
  },
  {
   "cell_type": "markdown",
   "metadata": {},
   "source": [
    "**Copy** a Dictionary using `copy`"
   ]
  },
  {
   "cell_type": "code",
   "execution_count": null,
   "metadata": {},
   "outputs": [],
   "source": [
    "dict3 = dict2.copy()\n",
    "print(dict2)\n",
    "print(dict3)"
   ]
  },
  {
   "cell_type": "markdown",
   "metadata": {},
   "source": [
    "**Return Length (Number of Items)** in a Dictionary using `len`"
   ]
  },
  {
   "cell_type": "code",
   "execution_count": null,
   "metadata": {},
   "outputs": [],
   "source": [
    "print(len(dict2))"
   ]
  }
 ],
 "metadata": {
  "kernelspec": {
   "display_name": "Python 3",
   "language": "python",
   "name": "python3"
  },
  "language_info": {
   "codemirror_mode": {
    "name": "ipython",
    "version": 3
   },
   "file_extension": ".py",
   "mimetype": "text/x-python",
   "name": "python",
   "nbconvert_exporter": "python",
   "pygments_lexer": "ipython3",
   "version": "3.9.6"
  }
 },
 "nbformat": 4,
 "nbformat_minor": 4
}
