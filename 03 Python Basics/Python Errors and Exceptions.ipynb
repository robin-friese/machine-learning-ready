{
 "cells": [
  {
   "cell_type": "markdown",
   "metadata": {},
   "source": [
    "# Python Errors and Exceptions"
   ]
  },
  {
   "cell_type": "markdown",
   "metadata": {},
   "source": [
    "* `Syntax Errors`\n",
    "\n",
    "* `Exceptions`\n",
    "\n",
    "* `Handling Exceptions`"
   ]
  },
  {
   "cell_type": "markdown",
   "metadata": {},
   "source": [
    "---"
   ]
  },
  {
   "cell_type": "markdown",
   "metadata": {},
   "source": [
    "### `Syntax Errors`"
   ]
  },
  {
   "cell_type": "markdown",
   "metadata": {},
   "source": [
    "Will be thrown when a Statement or Expression is **syntactically incorrect**.\n",
    "\n",
    "`Syntax Errors` **will always stop** the Execution of a Python Program."
   ]
  },
  {
   "cell_type": "code",
   "execution_count": null,
   "metadata": {},
   "outputs": [],
   "source": [
    "# SyntaxError\n",
    "print(\"Hello Python\""
   ]
  },
  {
   "cell_type": "code",
   "execution_count": null,
   "metadata": {},
   "outputs": [],
   "source": [
    "# SyntaxError\n",
    "return \"Hello Python\""
   ]
  },
  {
   "cell_type": "code",
   "execution_count": null,
   "metadata": {},
   "outputs": [],
   "source": [
    "# IndentationError\n",
    "def myfunc():\n",
    "return \"Hello Python\""
   ]
  },
  {
   "cell_type": "markdown",
   "metadata": {},
   "source": [
    "### `Exceptions`"
   ]
  },
  {
   "cell_type": "markdown",
   "metadata": {},
   "source": [
    "Will be thrown when a Statement or Expression is **syntactically correct**, but causes a **\"logical\" Error** (Exception).\n",
    "\n",
    "`Exceptions` **can be handled** and therefore **will not necessarily stop** the Execution of a Python Program.\n",
    "\n",
    "Python comes with pre-defined **Exception Classes** following a Class Hierarchy, which can be found [here](https://docs.python.org/3/library/exceptions.html#).\n",
    "\n",
    "Some of the most important Exceptions are listed in the table below:\n"
   ]
  },
  {
   "cell_type": "markdown",
   "metadata": {},
   "source": [
    "|Exception L1  |Exception L2  |Description  |\n",
    "--- | --- | --- |\n",
    "|`ArithmeticError`  |`ZeroDivisionError` |Raised when a Division by Zero is attempted  |\n",
    "|`AttributeError`  |`TypeError`|Raised when an Operation is performed on an incorrect object type  |\n",
    "|`ImportError`  |`ModuleNotFoundError`|Raised when a module cannot be located  |\n",
    "|`LookupError`  |`IndexError`|Raised when a sequence subscript is out of range  |\n",
    "||`KeyError` |Raised when a mapping key is not found in the set of existing keys  |\n",
    "|`NameError` |`NameError`|Raised when a local or global name is not found  |\n",
    "|`OSError` |`FileNotFoundError`|Raised when a file or directory is requested but doesn’t exist  |"
   ]
  },
  {
   "cell_type": "code",
   "execution_count": null,
   "metadata": {},
   "outputs": [],
   "source": [
    "# ZeroDivisionError\n",
    "a = 0\n",
    "b = 10 / a"
   ]
  },
  {
   "cell_type": "code",
   "execution_count": null,
   "metadata": {},
   "outputs": [],
   "source": [
    "# TypeError\n",
    "a = \"Hello Python!\"\n",
    "b = a / 2"
   ]
  },
  {
   "cell_type": "code",
   "execution_count": null,
   "metadata": {},
   "outputs": [],
   "source": [
    "# ModuleNotFoundError\n",
    "import crap"
   ]
  },
  {
   "cell_type": "code",
   "execution_count": null,
   "metadata": {},
   "outputs": [],
   "source": [
    "# IndexError\n",
    "a = [1, 2, 3]\n",
    "\n",
    "print(a[0])\n",
    "print(a[10])"
   ]
  },
  {
   "cell_type": "code",
   "execution_count": null,
   "metadata": {},
   "outputs": [],
   "source": [
    "# KeyError\n",
    "a = {\n",
    "    \"key1\": \"value1\",\n",
    "    \"key2\": \"value2\",\n",
    "    \"key3\": \"value3\",\n",
    "    \"key4\": \"value4\",\n",
    "    \"key5\": \"value5\",\n",
    "}\n",
    "\n",
    "print(a[\"key6\"])"
   ]
  },
  {
   "cell_type": "code",
   "execution_count": null,
   "metadata": {},
   "outputs": [],
   "source": [
    "# NameError\n",
    "print(x)"
   ]
  },
  {
   "cell_type": "code",
   "execution_count": null,
   "metadata": {},
   "outputs": [],
   "source": [
    "# FileNotFoundError\n",
    "import pandas as pd\n",
    "\n",
    "df = pd.read_csv(f\"home/files/ghost.csv\")"
   ]
  },
  {
   "cell_type": "markdown",
   "metadata": {},
   "source": [
    "### `Handling Exceptions`"
   ]
  },
  {
   "cell_type": "markdown",
   "metadata": {},
   "source": [
    "Use `try` ... `except` Blocks for handling Exceptions\n",
    "\n",
    "* Runs the Code under `try` Statement\n",
    "* When an Exception is raised, executes the Code under `except` Statement\n"
   ]
  },
  {
   "cell_type": "code",
   "execution_count": null,
   "metadata": {},
   "outputs": [],
   "source": [
    "import crap"
   ]
  },
  {
   "cell_type": "code",
   "execution_count": null,
   "metadata": {},
   "outputs": [],
   "source": [
    "try:\n",
    "    import crap\n",
    "\n",
    "except Exception:\n",
    "    print(\"An Exception has occured\")"
   ]
  },
  {
   "cell_type": "markdown",
   "metadata": {},
   "source": [
    "Use `Exception Classes` to specify different Behaviours for different Types of Exceptions"
   ]
  },
  {
   "cell_type": "code",
   "execution_count": null,
   "metadata": {},
   "outputs": [],
   "source": [
    "try:\n",
    "    import crap\n",
    "\n",
    "except ArithmeticError:\n",
    "    print(\"An ArithmeticError has occured\")\n",
    "\n",
    "except AttributeError:\n",
    "    print(\"An AttributeError has occured\")\n",
    "\n",
    "except ImportError:\n",
    "    print(\"An ImportError has occured\")"
   ]
  },
  {
   "cell_type": "markdown",
   "metadata": {},
   "source": [
    "Use **higher-level** Exceptions to include **lower-level** Exceptions"
   ]
  },
  {
   "cell_type": "code",
   "execution_count": null,
   "metadata": {},
   "outputs": [],
   "source": [
    "try:\n",
    "    import crap\n",
    "\n",
    "except ModuleNotFoundError:\n",
    "    print(\"A ModuleNotFoundError has occured\")"
   ]
  },
  {
   "cell_type": "code",
   "execution_count": null,
   "metadata": {},
   "outputs": [],
   "source": [
    "try:\n",
    "    import crap\n",
    "\n",
    "except ImportError:\n",
    "    print(\"A ModuleNotFoundError or another ImportError has occured\")"
   ]
  },
  {
   "cell_type": "code",
   "execution_count": null,
   "metadata": {},
   "outputs": [],
   "source": [
    "try:\n",
    "    import crap\n",
    "\n",
    "except Exception:\n",
    "    print(\n",
    "        \"A ModuleNotFoundError, another ImportError or any other Exception has occured\"\n",
    "    )"
   ]
  },
  {
   "cell_type": "markdown",
   "metadata": {},
   "source": [
    "Use `str()` and `repr()`to refer to an Error Message and Exception Class"
   ]
  },
  {
   "cell_type": "code",
   "execution_count": null,
   "metadata": {},
   "outputs": [],
   "source": [
    "import crap"
   ]
  },
  {
   "cell_type": "code",
   "execution_count": 2,
   "metadata": {},
   "outputs": [
    {
     "name": "stdout",
     "output_type": "stream",
     "text": [
      "An Exception has occured\n",
      "   No module named 'crap'\n",
      "   ModuleNotFoundError(\"No module named 'crap'\")\n"
     ]
    }
   ],
   "source": [
    "try:\n",
    "    import crap\n",
    "\n",
    "except Exception as e:\n",
    "    print(\"An Exception has occured\")\n",
    "    print(\"   \" + str(e)) # error message only\n",
    "    print(\"   \" + repr(e)) # error message and exception class"
   ]
  },
  {
   "cell_type": "markdown",
   "metadata": {},
   "source": [
    "Use `pass` Statement when empty Code is not allowed "
   ]
  },
  {
   "cell_type": "code",
   "execution_count": null,
   "metadata": {},
   "outputs": [],
   "source": [
    "try:\n",
    "    import crap\n",
    "\n",
    "except Exception:\n",
    "      # Will raise an Error"
   ]
  },
  {
   "cell_type": "code",
   "execution_count": null,
   "metadata": {},
   "outputs": [],
   "source": [
    "try:\n",
    "    import crap\n",
    "\n",
    "except Exception:\n",
    "    pass  # Works"
   ]
  },
  {
   "cell_type": "markdown",
   "metadata": {},
   "source": [
    "Add `else` Statement to `try`...`except` Block.\n",
    "\n",
    "The Code under `else` is executed if the Code unter `try` raises no Exception."
   ]
  },
  {
   "cell_type": "code",
   "execution_count": null,
   "metadata": {},
   "outputs": [],
   "source": [
    "try:\n",
    "    a = 1 / 10\n",
    "\n",
    "except ZeroDivisionError:\n",
    "    print(\"A ZeroDivisionError occured\")\n",
    "\n",
    "else:\n",
    "    print(f\"The Result is: {a}\")"
   ]
  },
  {
   "cell_type": "markdown",
   "metadata": {},
   "source": [
    "Add `finally` Statement to `try`...`except` Block.\n",
    "\n",
    "The Code under `finally` is always executed.\n",
    " "
   ]
  },
  {
   "cell_type": "code",
   "execution_count": null,
   "metadata": {},
   "outputs": [],
   "source": [
    "try:\n",
    "    a = 1 / 10\n",
    "\n",
    "except ZeroDivisionError:\n",
    "    print(\"A ZeroDivisionError occured\")\n",
    "\n",
    "else:\n",
    "    print(f\"The Result is: {a}\")\n",
    "\n",
    "finally:\n",
    "    print(\"\\033[92m MACHINE LEARNING-READY\\033[00m\")"
   ]
  },
  {
   "cell_type": "code",
   "execution_count": null,
   "metadata": {},
   "outputs": [],
   "source": [
    "try:\n",
    "    a = 1 / 0\n",
    "\n",
    "except ZeroDivisionError:\n",
    "    print(\"A ZeroDivisionError occured\")\n",
    "\n",
    "else:\n",
    "    print(f\"The Result is: {a}\")\n",
    "\n",
    "finally:\n",
    "    print(\"\\033[92m MACHINE LEARNING-READY\\033[00m\")"
   ]
  },
  {
   "cell_type": "markdown",
   "metadata": {},
   "source": [
    "Use `raise` to define custom Exceptions"
   ]
  },
  {
   "cell_type": "code",
   "execution_count": 2,
   "metadata": {},
   "outputs": [],
   "source": [
    "a = -1\n",
    "\n",
    "# Will stop the Execution of the Program\n",
    "if a < 0:\n",
    "    raise Exception(\"No negative Values allowed here\")\n",
    "else:\n",
    "    pass"
   ]
  },
  {
   "cell_type": "code",
   "execution_count": null,
   "metadata": {},
   "outputs": [],
   "source": [
    "a = -1\n",
    "\n",
    "# Will NOT stop the Execution of the Program\n",
    "try:\n",
    "    if a < 0:\n",
    "        raise Exception(\"Exception: No negative Values allowed here\")\n",
    "    else:\n",
    "        pass\n",
    "\n",
    "except Exception as e:\n",
    "    print(e)"
   ]
  }
 ],
 "metadata": {
  "kernelspec": {
   "display_name": "Python 3",
   "language": "python",
   "name": "python3"
  },
  "language_info": {
   "codemirror_mode": {
    "name": "ipython",
    "version": 3
   },
   "file_extension": ".py",
   "mimetype": "text/x-python",
   "name": "python",
   "nbconvert_exporter": "python",
   "pygments_lexer": "ipython3",
   "version": "3.9.6"
  }
 },
 "nbformat": 4,
 "nbformat_minor": 4
}
