{
 "cells": [
  {
   "cell_type": "markdown",
   "metadata": {},
   "source": [
    "# PYTHON TRY...EXCEPT\n",
    "\n",
    "Used to handle `Errors/Exceptions`"
   ]
  },
  {
   "cell_type": "markdown",
   "metadata": {},
   "source": [
    "---"
   ]
  },
  {
   "cell_type": "code",
   "execution_count": null,
   "metadata": {},
   "outputs": [],
   "source": [
    "# Will raise an Error\n",
    "print(x)"
   ]
  },
  {
   "cell_type": "markdown",
   "metadata": {},
   "source": [
    "Use `try` to test a Block of Code for Errors\n",
    "\n",
    "Use `except` to handle the Error "
   ]
  },
  {
   "cell_type": "code",
   "execution_count": null,
   "metadata": {},
   "outputs": [],
   "source": [
    "# Will !NOT raise an Error\n",
    "try:\n",
    "    print(x)\n",
    "    \n",
    "except:\n",
    "    print('x is not defined')"
   ]
  },
  {
   "cell_type": "markdown",
   "metadata": {},
   "source": [
    "Use Python `Error Type` to Define Different Exceptions\n",
    "\n",
    "See here for built-in Error Types: https://www.tutorialsteacher.com/python/error-types-in-python"
   ]
  },
  {
   "cell_type": "code",
   "execution_count": null,
   "metadata": {},
   "outputs": [],
   "source": [
    "# Name Error\n",
    "try:\n",
    "    print(x)\n",
    "    \n",
    "except NameError:\n",
    "    print('A Name Error occured')\n",
    "\n",
    "except:\n",
    "    print('Another Error occured')"
   ]
  },
  {
   "cell_type": "code",
   "execution_count": null,
   "metadata": {},
   "outputs": [],
   "source": [
    "# Zero Division Error\n",
    "x = 1\n",
    "\n",
    "try:\n",
    "    print(x/0)\n",
    "\n",
    "except NameError:\n",
    "    print('A Name Error occured')\n",
    "    \n",
    "except ZeroDivisionError:\n",
    "    print('A Zero Division Error occured')\n",
    "\n",
    "except:\n",
    "    print('Another Error occured')"
   ]
  },
  {
   "cell_type": "code",
   "execution_count": null,
   "metadata": {},
   "outputs": [],
   "source": [
    "# Key Error\n",
    "dict1 = {\n",
    "    'Customer A': 30, 'Customer B': 25, 'Customer C': 50\n",
    "}\n",
    "\n",
    "try:\n",
    "    dict1['Customer D']\n",
    "\n",
    "except KeyError:\n",
    "    print('A Key Error occured')\n",
    "\n",
    "except:\n",
    "    print('Another Error occured')"
   ]
  }
 ],
 "metadata": {
  "kernelspec": {
   "display_name": "Python 3",
   "language": "python",
   "name": "python3"
  },
  "language_info": {
   "codemirror_mode": {
    "name": "ipython",
    "version": 3
   },
   "file_extension": ".py",
   "mimetype": "text/x-python",
   "name": "python",
   "nbconvert_exporter": "python",
   "pygments_lexer": "ipython3",
   "version": "3.8.5"
  }
 },
 "nbformat": 4,
 "nbformat_minor": 4
}
