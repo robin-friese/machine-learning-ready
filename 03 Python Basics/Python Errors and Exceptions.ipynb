{
 "cells": [
  {
   "cell_type": "markdown",
   "metadata": {},
   "source": [
    "# PYTHON TRY...EXCEPT\n",
    "\n",
    "Used to handle `Errors/Exceptions`"
   ]
  },
  {
   "cell_type": "markdown",
   "metadata": {},
   "source": [
    "---"
   ]
  },
  {
   "cell_type": "code",
   "execution_count": 1,
   "metadata": {},
   "outputs": [
    {
     "ename": "NameError",
     "evalue": "name 'x' is not defined",
     "output_type": "error",
     "traceback": [
      "\u001b[0;31m---------------------------------------------------------------------------\u001b[0m",
      "\u001b[0;31mNameError\u001b[0m                                 Traceback (most recent call last)",
      "\u001b[0;32m<ipython-input-1-2ee4f54e7911>\u001b[0m in \u001b[0;36m<module>\u001b[0;34m\u001b[0m\n\u001b[1;32m      1\u001b[0m \u001b[0;31m# Will raise an Error\u001b[0m\u001b[0;34m\u001b[0m\u001b[0;34m\u001b[0m\u001b[0;34m\u001b[0m\u001b[0m\n\u001b[0;32m----> 2\u001b[0;31m \u001b[0mprint\u001b[0m\u001b[0;34m(\u001b[0m\u001b[0mx\u001b[0m\u001b[0;34m)\u001b[0m\u001b[0;34m\u001b[0m\u001b[0;34m\u001b[0m\u001b[0m\n\u001b[0m",
      "\u001b[0;31mNameError\u001b[0m: name 'x' is not defined"
     ]
    }
   ],
   "source": [
    "# Will raise an Error\n",
    "print(x)"
   ]
  },
  {
   "cell_type": "markdown",
   "metadata": {},
   "source": [
    "Use `try` to test a Block of Code for Errors\n",
    "\n",
    "Use `except` to handle the Error "
   ]
  },
  {
   "cell_type": "code",
   "execution_count": 3,
   "metadata": {},
   "outputs": [
    {
     "name": "stdout",
     "output_type": "stream",
     "text": [
      "x is not defined\n"
     ]
    }
   ],
   "source": [
    "# Will !NOT raise an Error\n",
    "try:\n",
    "    print(x)\n",
    "    \n",
    "except:\n",
    "    print('x is not defined')"
   ]
  },
  {
   "cell_type": "markdown",
   "metadata": {},
   "source": [
    "Use Python `Error Type` to Define Different Exceptions\n",
    "\n",
    "See here for built-in Error Types: https://www.tutorialsteacher.com/python/error-types-in-python"
   ]
  },
  {
   "cell_type": "code",
   "execution_count": 5,
   "metadata": {},
   "outputs": [
    {
     "name": "stdout",
     "output_type": "stream",
     "text": [
      "A Name Error occured\n"
     ]
    }
   ],
   "source": [
    "# Name Error\n",
    "try:\n",
    "    print(x)\n",
    "    \n",
    "except NameError:\n",
    "    print('A Name Error occured')\n",
    "\n",
    "except:\n",
    "    print('Another Error occured')"
   ]
  },
  {
   "cell_type": "code",
   "execution_count": 11,
   "metadata": {},
   "outputs": [
    {
     "name": "stdout",
     "output_type": "stream",
     "text": [
      "A Zero Division Error occured\n"
     ]
    }
   ],
   "source": [
    "# Zero Division Error\n",
    "x = 1\n",
    "\n",
    "try:\n",
    "    print(x/0)\n",
    "\n",
    "except NameError:\n",
    "    print('A Name Error occured')\n",
    "    \n",
    "except ZeroDivisionError:\n",
    "    print('A Zero Division Error occured')\n",
    "\n",
    "except:\n",
    "    print('Another Error occured')"
   ]
  },
  {
   "cell_type": "code",
   "execution_count": 13,
   "metadata": {},
   "outputs": [
    {
     "name": "stdout",
     "output_type": "stream",
     "text": [
      "A Key Error occured\n"
     ]
    }
   ],
   "source": [
    "# Key Error\n",
    "dict1 = {\n",
    "    'Customer A': 30, 'Customer B': 25, 'Customer C': 50\n",
    "}\n",
    "\n",
    "try:\n",
    "    dict1['Customer D']\n",
    "\n",
    "except KeyError:\n",
    "    print('A Key Error occured')\n",
    "\n",
    "except:\n",
    "    print('Another Error occured')"
   ]
  }
 ],
 "metadata": {
  "kernelspec": {
   "display_name": "Python 3",
   "language": "python",
   "name": "python3"
  },
  "language_info": {
   "codemirror_mode": {
    "name": "ipython",
    "version": 3
   },
   "file_extension": ".py",
   "mimetype": "text/x-python",
   "name": "python",
   "nbconvert_exporter": "python",
   "pygments_lexer": "ipython3",
   "version": "3.8.5"
  }
 },
 "nbformat": 4,
 "nbformat_minor": 4
}
