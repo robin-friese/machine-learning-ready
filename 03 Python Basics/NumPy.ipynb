{
 "cells": [
  {
   "cell_type": "markdown",
   "metadata": {},
   "source": [
    "# NUMPY LIBRARY\n",
    "\n",
    "NumPy stands for `Numerical Python`.\n",
    "\n",
    "It is an Open Source Python Library used for working with `Arrays`.\n",
    "\n",
    "In Data Science in general and in Machine Learning in particular we are often working with `2-dimensional Data` consisting of `Rows and Columns`. \n",
    "\n",
    "One Way of representing such `Data Matrices` in Python is the `NumPy ndarray Object`."
   ]
  },
  {
   "cell_type": "markdown",
   "metadata": {},
   "source": [
    "---"
   ]
  },
  {
   "cell_type": "markdown",
   "metadata": {},
   "source": [
    "`Import NumPy Library`"
   ]
  },
  {
   "cell_type": "code",
   "execution_count": 1,
   "metadata": {},
   "outputs": [],
   "source": [
    "import numpy as np"
   ]
  },
  {
   "cell_type": "markdown",
   "metadata": {},
   "source": [
    "`Creating` **0D-Array** `(Scalar)`"
   ]
  },
  {
   "cell_type": "code",
   "execution_count": 3,
   "metadata": {},
   "outputs": [
    {
     "name": "stdout",
     "output_type": "stream",
     "text": [
      "0\n",
      "<class 'numpy.ndarray'>\n"
     ]
    }
   ],
   "source": [
    "array0D = np.array(0)\n",
    "\n",
    "print(array0D)\n",
    "print(type(array0D))"
   ]
  },
  {
   "cell_type": "markdown",
   "metadata": {},
   "source": [
    "`Creating` **1D-Array** `(Row Vector)`"
   ]
  },
  {
   "cell_type": "code",
   "execution_count": 308,
   "metadata": {},
   "outputs": [
    {
     "name": "stdout",
     "output_type": "stream",
     "text": [
      "[0 1 1 0 0 0 1 0 0 1]\n",
      "<class 'numpy.ndarray'>\n"
     ]
    }
   ],
   "source": [
    "array1D = np.array([0, 1, 1, 0, 0, 0, 1, 0, 0, 1])\n",
    "\n",
    "print(array1D)\n",
    "print(type(array1D))"
   ]
  },
  {
   "cell_type": "markdown",
   "metadata": {},
   "source": [
    "`Creating` `nx1` **2D-Array** `(Colum Vector)`"
   ]
  },
  {
   "cell_type": "code",
   "execution_count": 315,
   "metadata": {},
   "outputs": [
    {
     "name": "stdout",
     "output_type": "stream",
     "text": [
      "[[0]\n",
      " [1]\n",
      " [1]\n",
      " [0]\n",
      " [0]\n",
      " [0]\n",
      " [1]\n",
      " [0]\n",
      " [0]\n",
      " [1]]\n",
      "<class 'numpy.ndarray'>\n"
     ]
    }
   ],
   "source": [
    "array2D_vctr = np.array([0, 1, 1, 0, 0, 0, 1, 0, 0, 1]).reshape(-1,1)\n",
    "\n",
    "print(array2D_vctr)\n",
    "print(type(array2D_vctr))"
   ]
  },
  {
   "cell_type": "markdown",
   "metadata": {},
   "source": [
    "`Creating` `nxm` **2D-Array** `(Matrix)`"
   ]
  },
  {
   "cell_type": "code",
   "execution_count": 313,
   "metadata": {},
   "outputs": [
    {
     "name": "stdout",
     "output_type": "stream",
     "text": [
      "[[0 1 1 0 0 0 1 0 0 1]\n",
      " [1 1 1 0 0 0 0 0 1 1]]\n",
      "<class 'numpy.ndarray'>\n"
     ]
    }
   ],
   "source": [
    "array2D_mtrx = np.array([[0, 1, 1, 0, 0, 0, 1, 0, 0, 1], \n",
    "                         [1, 1, 1, 0, 0, 0, 0, 0, 1, 1]])\n",
    "\n",
    "print(array2D_mtrx)\n",
    "print(type(array2D_mtrx))"
   ]
  },
  {
   "cell_type": "markdown",
   "metadata": {},
   "source": [
    "`Returning Dimensions of an Array`"
   ]
  },
  {
   "cell_type": "code",
   "execution_count": 316,
   "metadata": {
    "scrolled": true
   },
   "outputs": [
    {
     "name": "stdout",
     "output_type": "stream",
     "text": [
      "0\n",
      "1\n",
      "2\n",
      "2\n"
     ]
    }
   ],
   "source": [
    "# Number of Dimensions\n",
    "print(array0D.ndim)\n",
    "print(array1D.ndim)\n",
    "print(array2D_vctr.ndim)\n",
    "print(array2D_mtrx.ndim)"
   ]
  },
  {
   "cell_type": "markdown",
   "metadata": {},
   "source": [
    "`Returning Shape of an Array (Dimensions x Elements)`"
   ]
  },
  {
   "cell_type": "code",
   "execution_count": 317,
   "metadata": {},
   "outputs": [
    {
     "name": "stdout",
     "output_type": "stream",
     "text": [
      "()\n",
      "(10,)\n",
      "(10, 1)\n",
      "(2, 10)\n"
     ]
    }
   ],
   "source": [
    "# Number of Elements per Dimension\n",
    "print(array0D.shape)\n",
    "print(array1D.shape)\n",
    "print(array2D_vctr.shape)\n",
    "print(array2D_mtrx.shape)"
   ]
  },
  {
   "cell_type": "markdown",
   "metadata": {},
   "source": [
    "`Returning Size of Array (Total Number of Elements)`"
   ]
  },
  {
   "cell_type": "code",
   "execution_count": 318,
   "metadata": {},
   "outputs": [
    {
     "name": "stdout",
     "output_type": "stream",
     "text": [
      "1\n",
      "10\n",
      "10\n",
      "20\n"
     ]
    }
   ],
   "source": [
    "print(array0D.size)\n",
    "print(array1D.size)\n",
    "print(array2D_vctr.size)\n",
    "print(array2D_mtrx.size)"
   ]
  },
  {
   "cell_type": "markdown",
   "metadata": {},
   "source": [
    "`Creating Basic Arrays`"
   ]
  },
  {
   "cell_type": "code",
   "execution_count": 328,
   "metadata": {},
   "outputs": [
    {
     "name": "stdout",
     "output_type": "stream",
     "text": [
      "Row Vector\n",
      "[0 0 0 0 0]\n",
      " \n",
      "Column Vector\n",
      "[[0]\n",
      " [0]\n",
      " [0]\n",
      " [0]\n",
      " [0]]\n",
      " \n",
      "Matrix\n",
      "[[0 0 0 0 0]\n",
      " [0 0 0 0 0]\n",
      " [0 0 0 0 0]\n",
      " [0 0 0 0 0]\n",
      " [0 0 0 0 0]]\n"
     ]
    }
   ],
   "source": [
    "# Array with Zeros\n",
    "array = np.zeros(5, dtype=np.int64)\n",
    "print('Row Vector')\n",
    "print(array)\n",
    "\n",
    "array = np.zeros((5, 1), dtype=np.int64)\n",
    "print(' ')\n",
    "print('Column Vector')\n",
    "print(array)\n",
    "\n",
    "array = np.zeros((5, 5), dtype=np.int64)\n",
    "print(' ')\n",
    "print('Matrix')\n",
    "print(array)"
   ]
  },
  {
   "cell_type": "code",
   "execution_count": 329,
   "metadata": {
    "scrolled": true
   },
   "outputs": [
    {
     "name": "stdout",
     "output_type": "stream",
     "text": [
      "Row Vector\n",
      "[1 1 1 1 1]\n",
      " \n",
      "Column Vector\n",
      "[[1]\n",
      " [1]\n",
      " [1]\n",
      " [1]\n",
      " [1]]\n",
      " \n",
      "Matrix\n",
      "[[1 1 1 1 1]\n",
      " [1 1 1 1 1]\n",
      " [1 1 1 1 1]\n",
      " [1 1 1 1 1]\n",
      " [1 1 1 1 1]]\n"
     ]
    }
   ],
   "source": [
    "# Array with Ones\n",
    "array = np.ones(5, dtype=np.int64)\n",
    "print('Row Vector')\n",
    "print(array)\n",
    "\n",
    "array = np.ones((5, 1), dtype=np.int64)\n",
    "print(' ')\n",
    "print('Column Vector')\n",
    "print(array)\n",
    "\n",
    "array = np.ones((5, 5), dtype=np.int64)\n",
    "print(' ')\n",
    "print('Matrix')\n",
    "print(array)"
   ]
  },
  {
   "cell_type": "code",
   "execution_count": 414,
   "metadata": {},
   "outputs": [
    {
     "name": "stdout",
     "output_type": "stream",
     "text": [
      "[[1. 0. 0. 0. 0. 0. 0. 0. 0. 0.]\n",
      " [0. 1. 0. 0. 0. 0. 0. 0. 0. 0.]\n",
      " [0. 0. 1. 0. 0. 0. 0. 0. 0. 0.]\n",
      " [0. 0. 0. 1. 0. 0. 0. 0. 0. 0.]\n",
      " [0. 0. 0. 0. 1. 0. 0. 0. 0. 0.]\n",
      " [0. 0. 0. 0. 0. 1. 0. 0. 0. 0.]\n",
      " [0. 0. 0. 0. 0. 0. 1. 0. 0. 0.]\n",
      " [0. 0. 0. 0. 0. 0. 0. 1. 0. 0.]\n",
      " [0. 0. 0. 0. 0. 0. 0. 0. 1. 0.]\n",
      " [0. 0. 0. 0. 0. 0. 0. 0. 0. 1.]]\n"
     ]
    }
   ],
   "source": [
    "# Array with Ones on the Diagonal and Zeros else (Eye Matrix)\n",
    "array = np.eye(10)\n",
    "print(array)"
   ]
  },
  {
   "cell_type": "code",
   "execution_count": 338,
   "metadata": {},
   "outputs": [
    {
     "name": "stdout",
     "output_type": "stream",
     "text": [
      "[ 1  2  3  4  5  6  7  8  9 10]\n",
      " \n",
      "[ 2  4  6  8 10]\n"
     ]
    }
   ],
   "source": [
    "# Array with arranged Values\n",
    "array = np.arange(1, 11)\n",
    "print(array)\n",
    "\n",
    "array = np.arange(2, 11, 2)\n",
    "print(' ')\n",
    "print(array)"
   ]
  },
  {
   "cell_type": "code",
   "execution_count": 350,
   "metadata": {},
   "outputs": [
    {
     "name": "stdout",
     "output_type": "stream",
     "text": [
      "[0.   0.01 0.02 0.03 0.04 0.05 0.06 0.07 0.08 0.09 0.1  0.11 0.12 0.13\n",
      " 0.14 0.15 0.16 0.17 0.18 0.19 0.2  0.21 0.22 0.23 0.24 0.25 0.26 0.27\n",
      " 0.28 0.29 0.3  0.31 0.32 0.33 0.34 0.35 0.36 0.37 0.38 0.39 0.4  0.41\n",
      " 0.42 0.43 0.44 0.45 0.46 0.47 0.48 0.49 0.5  0.51 0.52 0.53 0.54 0.55\n",
      " 0.56 0.57 0.58 0.59 0.6  0.61 0.62 0.63 0.64 0.65 0.66 0.67 0.68 0.69\n",
      " 0.7  0.71 0.72 0.73 0.74 0.75 0.76 0.77 0.78 0.79 0.8  0.81 0.82 0.83\n",
      " 0.84 0.85 0.86 0.87 0.88 0.89 0.9  0.91 0.92 0.93 0.94 0.95 0.96 0.97\n",
      " 0.98 0.99 1.  ]\n"
     ]
    }
   ],
   "source": [
    "# Array with linearly spaced Values \n",
    "array = np.linspace(0, 1, 101)\n",
    "print(array)"
   ]
  },
  {
   "cell_type": "code",
   "execution_count": 591,
   "metadata": {},
   "outputs": [
    {
     "name": "stdout",
     "output_type": "stream",
     "text": [
      "[[0.63657321 0.70698231 0.31394033]\n",
      " [0.67188712 0.93523601 0.27554403]\n",
      " [0.24401704 0.40455125 0.23112864]]\n"
     ]
    }
   ],
   "source": [
    "# Array with Random Values between Zero and One\n",
    "array = np.random.rand(3, 3)\n",
    "print(array)"
   ]
  },
  {
   "cell_type": "markdown",
   "metadata": {},
   "source": [
    "`Accessing` **1D-Arrays** `with [idx]`\n",
    "\n",
    "`Remember: Index Zero corresponds to the first Element`"
   ]
  },
  {
   "cell_type": "code",
   "execution_count": 29,
   "metadata": {},
   "outputs": [
    {
     "name": "stdout",
     "output_type": "stream",
     "text": [
      "[0 1 1 0 0 0 1 0 0 1]\n"
     ]
    }
   ],
   "source": [
    "array1D = np.array([0, 1, 1, 0, 0, 0, 1, 0, 0, 1])\n",
    "print(array1D)"
   ]
  },
  {
   "cell_type": "code",
   "execution_count": 30,
   "metadata": {},
   "outputs": [
    {
     "name": "stdout",
     "output_type": "stream",
     "text": [
      "0\n"
     ]
    }
   ],
   "source": [
    "# First Element\n",
    "print(array1D[0])"
   ]
  },
  {
   "cell_type": "code",
   "execution_count": 31,
   "metadata": {},
   "outputs": [
    {
     "name": "stdout",
     "output_type": "stream",
     "text": [
      "0\n"
     ]
    }
   ],
   "source": [
    "# Second last Element\n",
    "print(array1D[-2])"
   ]
  },
  {
   "cell_type": "code",
   "execution_count": 32,
   "metadata": {},
   "outputs": [
    {
     "name": "stdout",
     "output_type": "stream",
     "text": [
      "[1 1]\n"
     ]
    }
   ],
   "source": [
    "# Second to third Element\n",
    "print(array1D[1:3])"
   ]
  },
  {
   "cell_type": "code",
   "execution_count": 33,
   "metadata": {},
   "outputs": [
    {
     "name": "stdout",
     "output_type": "stream",
     "text": [
      "[1 0 0]\n"
     ]
    }
   ],
   "source": [
    "# Fourth last to second last Element\n",
    "print(array1D[-4:-1])"
   ]
  },
  {
   "cell_type": "code",
   "execution_count": 34,
   "metadata": {},
   "outputs": [
    {
     "name": "stdout",
     "output_type": "stream",
     "text": [
      "[0 1 1 0 0]\n"
     ]
    }
   ],
   "source": [
    "# First to fifth Element\n",
    "print(array1D[:5])"
   ]
  },
  {
   "cell_type": "code",
   "execution_count": 35,
   "metadata": {},
   "outputs": [
    {
     "name": "stdout",
     "output_type": "stream",
     "text": [
      "[0 1 0 0 1]\n"
     ]
    }
   ],
   "source": [
    "# Sixth to last Element\n",
    "print(array1D[5:])"
   ]
  },
  {
   "cell_type": "code",
   "execution_count": 49,
   "metadata": {},
   "outputs": [
    {
     "name": "stdout",
     "output_type": "stream",
     "text": [
      "[0 1 0 1 0]\n"
     ]
    }
   ],
   "source": [
    "# Every second Element starting with the first Element\n",
    "print(array1D[::2])"
   ]
  },
  {
   "cell_type": "code",
   "execution_count": 50,
   "metadata": {},
   "outputs": [
    {
     "name": "stdout",
     "output_type": "stream",
     "text": [
      "[1 0 0]\n"
     ]
    }
   ],
   "source": [
    "# Every second Element starting with the second Element and ending with the sixth Element\n",
    "print(array1D[1:6:2])"
   ]
  },
  {
   "cell_type": "markdown",
   "metadata": {},
   "source": [
    "`Accessing` **2D-Arrays** `with [idx1, idx2]`\n",
    "\n",
    "`Note: idx1 corresponds to the Dimension(s), idx2 to the Element(s) in that Dimension(s)`"
   ]
  },
  {
   "cell_type": "code",
   "execution_count": 351,
   "metadata": {},
   "outputs": [
    {
     "name": "stdout",
     "output_type": "stream",
     "text": [
      "[[0 1 1 0 0 0 1 0 0 1]\n",
      " [1 1 1 0 0 0 0 0 1 1]]\n"
     ]
    }
   ],
   "source": [
    "array2D = np.array([[0, 1, 1, 0, 0, 0, 1, 0, 0, 1], \n",
    "                    [1, 1, 1, 0, 0, 0, 0, 0, 1, 1]])\n",
    "print(array2D)"
   ]
  },
  {
   "cell_type": "code",
   "execution_count": 37,
   "metadata": {},
   "outputs": [
    {
     "name": "stdout",
     "output_type": "stream",
     "text": [
      "0\n"
     ]
    }
   ],
   "source": [
    "# First Element in the first Dimension\n",
    "print(array2D[0, 0])"
   ]
  },
  {
   "cell_type": "code",
   "execution_count": 39,
   "metadata": {},
   "outputs": [
    {
     "name": "stdout",
     "output_type": "stream",
     "text": [
      "1\n"
     ]
    }
   ],
   "source": [
    "# First Element in the second Dimension\n",
    "print(array2D[1, 0])"
   ]
  },
  {
   "cell_type": "code",
   "execution_count": 45,
   "metadata": {},
   "outputs": [
    {
     "name": "stdout",
     "output_type": "stream",
     "text": [
      "[0 1]\n"
     ]
    }
   ],
   "source": [
    "# First Element in all Dimensions\n",
    "print(array2D[:, 0])"
   ]
  },
  {
   "cell_type": "code",
   "execution_count": 41,
   "metadata": {},
   "outputs": [
    {
     "name": "stdout",
     "output_type": "stream",
     "text": [
      "[[1 0 0 1]\n",
      " [0 0 1 1]]\n"
     ]
    }
   ],
   "source": [
    "# Last four Elements in all Dimensions\n",
    "print(array2D[:, -4:])"
   ]
  },
  {
   "cell_type": "code",
   "execution_count": 48,
   "metadata": {},
   "outputs": [
    {
     "name": "stdout",
     "output_type": "stream",
     "text": [
      "[[1 1 1]\n",
      " [1 1 1]]\n"
     ]
    }
   ],
   "source": [
    "# Second, third and last Element in all Dimensions\n",
    "print(array2D[:, [1, 2, -1]])"
   ]
  },
  {
   "cell_type": "code",
   "execution_count": 51,
   "metadata": {},
   "outputs": [
    {
     "name": "stdout",
     "output_type": "stream",
     "text": [
      "[1 0 0 1]\n"
     ]
    }
   ],
   "source": [
    "# Every third Element of second Dimension starting with the first Element\n",
    "print(array2D[1, ::3])"
   ]
  },
  {
   "cell_type": "markdown",
   "metadata": {},
   "source": [
    "`Copy vs. View`"
   ]
  },
  {
   "cell_type": "code",
   "execution_count": 285,
   "metadata": {},
   "outputs": [
    {
     "name": "stdout",
     "output_type": "stream",
     "text": [
      "Original Array\n",
      "[-99   2   3   4   5]\n",
      "View\n",
      "[-99   2   3   4   5]\n",
      " \n",
      "Original Array\n",
      "[-99   2   3   4 -99]\n",
      "View\n",
      "[-99   2   3   4 -99]\n"
     ]
    }
   ],
   "source": [
    "# Original Array\n",
    "array_ori = np.array([1, 2, 3, 4, 5])\n",
    "\n",
    "# View of Original Array\n",
    "array_view = array_ori\n",
    "\n",
    "# Changes on View...\n",
    "array_view[0] = -99\n",
    "\n",
    "#...will affect the original Array...\n",
    "print('Original Array')\n",
    "print(array_ori)\n",
    "print('View')\n",
    "print(array_view)\n",
    "\n",
    "#...and Changes on original Array...\n",
    "array_ori[-1] = -99\n",
    "\n",
    "#...will affect the View\n",
    "print(' ')\n",
    "print('Original Array')\n",
    "print(array_ori)\n",
    "print('View')\n",
    "print(array_view)"
   ]
  },
  {
   "cell_type": "code",
   "execution_count": 286,
   "metadata": {},
   "outputs": [
    {
     "name": "stdout",
     "output_type": "stream",
     "text": [
      "Original Array\n",
      "[1 2 3 4 5]\n",
      "Copy\n",
      "[-99   2   3   4   5]\n"
     ]
    }
   ],
   "source": [
    "array_ori = np.array([1, 2, 3, 4, 5])\n",
    "\n",
    "# Use \"copy()\" to avoid such Behavior\n",
    "array_copy = array_ori.copy()\n",
    "\n",
    "# Changes on Copy...\n",
    "array_copy[0] = -99\n",
    "\n",
    "#...will not affect the original Array\n",
    "print('Original Array')\n",
    "print(array_ori)\n",
    "print('Copy')\n",
    "print(array_copy)"
   ]
  },
  {
   "cell_type": "markdown",
   "metadata": {},
   "source": [
    "`Reshaping Arrays (from` **1D** `to` **2D**`)` using `reshape(rows, columns)`"
   ]
  },
  {
   "cell_type": "code",
   "execution_count": 450,
   "metadata": {
    "scrolled": true
   },
   "outputs": [
    {
     "name": "stdout",
     "output_type": "stream",
     "text": [
      "[0 1 1 0 0 0 1 0 0 1 1 1 1 0 0 0 0 0 1 1]\n",
      "(20,)\n",
      " \n",
      "Reshaped Array\n",
      "[[0 1 1 0 0 0 1 0 0 1]\n",
      " [1 1 1 0 0 0 0 0 1 1]]\n",
      "Shape\n",
      "(2, 10)\n"
     ]
    }
   ],
   "source": [
    "array1D = np.array([0, 1, 1, 0, 0, 0, 1, 0, 0, 1, 1, 1, 1, 0, 0, 0, 0, 0, 1, 1])\n",
    "print(array1D)\n",
    "print(array1D.shape)\n",
    "\n",
    "# Reshape\n",
    "array2D = array1D.reshape(2, 10)\n",
    "print(' ')\n",
    "print('Reshaped Array')\n",
    "print(array2D)\n",
    "print('Shape')\n",
    "print(array2D.shape)"
   ]
  },
  {
   "cell_type": "markdown",
   "metadata": {},
   "source": [
    "`Flattening Arrays (from` **2D** `to` **1D**`)` using `reshape(-1)`"
   ]
  },
  {
   "cell_type": "code",
   "execution_count": 448,
   "metadata": {},
   "outputs": [
    {
     "name": "stdout",
     "output_type": "stream",
     "text": [
      "Flattened Array\n",
      "[0 1 1 0 0 0 1 0 0 1 1 1 1 0 0 0 0 0 1 1]\n",
      "Shape\n",
      "(20,)\n"
     ]
    }
   ],
   "source": [
    "array_flat = array2D.reshape(-1)\n",
    "print('Flattened Array')\n",
    "print(array_flat)\n",
    "print('Shape')\n",
    "print(array_flat.shape)"
   ]
  },
  {
   "cell_type": "markdown",
   "metadata": {},
   "source": [
    "Or use `flatten` or `ravel` instead\n",
    "\n",
    "`Note: flatten() returns a Copy, ravel() returns a View`"
   ]
  },
  {
   "cell_type": "code",
   "execution_count": 449,
   "metadata": {},
   "outputs": [
    {
     "name": "stdout",
     "output_type": "stream",
     "text": [
      "Flattened Array\n",
      "[0 1 1 0 0 0 1 0 0 1 1 1 1 0 0 0 0 0 1 1]\n",
      "Shape\n",
      "(20,)\n",
      "[99  1  1  0  0  0  1  0  0  1  1  1  1  0  0  0  0  0  1  1]\n",
      "[[0 1 1 0 0 0 1 0 0 1]\n",
      " [1 1 1 0 0 0 0 0 1 1]]\n"
     ]
    }
   ],
   "source": [
    "array_flat = array2D.flatten()\n",
    "print('Flattened Array')\n",
    "print(array_flat)\n",
    "print('Shape')\n",
    "print(array_flat.shape)"
   ]
  },
  {
   "cell_type": "code",
   "execution_count": 451,
   "metadata": {},
   "outputs": [
    {
     "name": "stdout",
     "output_type": "stream",
     "text": [
      "Flattened Array\n",
      "[0 1 1 0 0 0 1 0 0 1 1 1 1 0 0 0 0 0 1 1]\n",
      "Shape\n",
      "(20,)\n",
      "[99  1  1  0  0  0  1  0  0  1  1  1  1  0  0  0  0  0  1  1]\n",
      "[[99  1  1  0  0  0  1  0  0  1]\n",
      " [ 1  1  1  0  0  0  0  0  1  1]]\n"
     ]
    }
   ],
   "source": [
    "array_flat = array2D.ravel()\n",
    "print('Flattened Array')\n",
    "print(array_flat)\n",
    "print('Shape')\n",
    "print(array_flat.shape)"
   ]
  },
  {
   "cell_type": "markdown",
   "metadata": {},
   "source": [
    "`Transposing Arrays`"
   ]
  },
  {
   "cell_type": "code",
   "execution_count": 383,
   "metadata": {
    "scrolled": true
   },
   "outputs": [
    {
     "name": "stdout",
     "output_type": "stream",
     "text": [
      "[[0 1]\n",
      " [0 1]\n",
      " [0 1]\n",
      " [0 1]\n",
      " [0 1]]\n",
      "Shape: (5, 2)\n",
      " \n",
      "Transposed Array\n",
      "[[0 0 0 0 0]\n",
      " [1 1 1 1 1]]\n",
      "Shape: (2, 5)\n",
      " \n",
      "Transposed Array using .T\n",
      "[[0 0 0 0 0]\n",
      " [1 1 1 1 1]]\n",
      "Shape: (2, 5)\n"
     ]
    }
   ],
   "source": [
    "array = np.array([[0, 1],\n",
    "                  [0, 1],\n",
    "                  [0, 1],\n",
    "                  [0, 1],\n",
    "                  [0, 1]])\n",
    "print(array)\n",
    "print('Shape:', array.shape)\n",
    "\n",
    "# Transpose\n",
    "array_transposed = array.transpose()\n",
    "print(' ')\n",
    "print('Transposed Array')\n",
    "print(array_transposed)\n",
    "print('Shape:', array_transposed.shape)\n",
    "\n",
    "# Or use '.T'\n",
    "array_t = array.T\n",
    "print(' ')\n",
    "print('Transposed Array using .T')\n",
    "print(array_t)\n",
    "print('Shape:', array_t.shape)"
   ]
  },
  {
   "cell_type": "markdown",
   "metadata": {},
   "source": [
    "`Flipping Arrays`"
   ]
  },
  {
   "cell_type": "code",
   "execution_count": 385,
   "metadata": {},
   "outputs": [
    {
     "name": "stdout",
     "output_type": "stream",
     "text": [
      "[[1 2 3]\n",
      " [4 5 6]\n",
      " [7 8 9]]\n",
      " \n",
      "Flipped Array\n",
      "[[9 8 7]\n",
      " [6 5 4]\n",
      " [3 2 1]]\n"
     ]
    }
   ],
   "source": [
    "array = np.array([[1, 2, 3],\n",
    "                  [4, 5, 6],\n",
    "                  [7, 8, 9]])\n",
    "print(array)\n",
    "\n",
    "# Flip\n",
    "array_flipped = np.flip(array)\n",
    "print(' ')\n",
    "print('Flipped Array')\n",
    "print(array_flipped)"
   ]
  },
  {
   "cell_type": "markdown",
   "metadata": {},
   "source": [
    "`Iterating through` **1D-Array**"
   ]
  },
  {
   "cell_type": "code",
   "execution_count": 86,
   "metadata": {},
   "outputs": [
    {
     "name": "stdout",
     "output_type": "stream",
     "text": [
      "1\n",
      "2\n",
      "3\n",
      "4\n",
      "5\n"
     ]
    }
   ],
   "source": [
    "# Iterating through Elements of 1D Array\n",
    "array1D = np.array([1, 2, 3, 4, 5])\n",
    "\n",
    "for element in array1D:\n",
    "    print(element)"
   ]
  },
  {
   "cell_type": "markdown",
   "metadata": {},
   "source": [
    "`Iterating through` **2D-Array**"
   ]
  },
  {
   "cell_type": "code",
   "execution_count": 87,
   "metadata": {},
   "outputs": [
    {
     "name": "stdout",
     "output_type": "stream",
     "text": [
      "[1 2 3 4 5]\n",
      "[ 6  7  8  9 10]\n"
     ]
    }
   ],
   "source": [
    "# Iterating through Rows of 2D Array\n",
    "array2D = np.array([[1, 2, 3, 4, 5], \n",
    "                    [6, 7, 8, 9, 10]])\n",
    "\n",
    "for row in array2D:\n",
    "    print(row)"
   ]
  },
  {
   "cell_type": "code",
   "execution_count": 88,
   "metadata": {},
   "outputs": [
    {
     "name": "stdout",
     "output_type": "stream",
     "text": [
      "1\n",
      "2\n",
      "3\n",
      "4\n",
      "5\n",
      "6\n",
      "7\n",
      "8\n",
      "9\n",
      "10\n"
     ]
    }
   ],
   "source": [
    "# Iterating through Elements of 2D Array\n",
    "for row in array2D:\n",
    "    for element in row:\n",
    "        print(element)"
   ]
  },
  {
   "cell_type": "code",
   "execution_count": 89,
   "metadata": {},
   "outputs": [
    {
     "name": "stdout",
     "output_type": "stream",
     "text": [
      "1\n",
      "2\n",
      "3\n",
      "4\n",
      "5\n",
      "6\n",
      "7\n",
      "8\n",
      "9\n",
      "10\n"
     ]
    }
   ],
   "source": [
    "# Easier with nditer()\n",
    "for element in np.nditer(array2D):\n",
    "    print(element)"
   ]
  },
  {
   "cell_type": "markdown",
   "metadata": {},
   "source": [
    "`Joining` **1D-Arrays** using `concatenate`"
   ]
  },
  {
   "cell_type": "code",
   "execution_count": 278,
   "metadata": {
    "scrolled": true
   },
   "outputs": [
    {
     "name": "stdout",
     "output_type": "stream",
     "text": [
      "[1 2 3 4 5]\n",
      "[ 6  7  8  9 10]\n",
      " \n",
      "Joined Array\n",
      "[ 1  2  3  4  5  6  7  8  9 10]\n"
     ]
    }
   ],
   "source": [
    "# Joining 1D-Arrays\n",
    "array1 = np.array([1, 2, 3, 4, 5])\n",
    "array2 = np.array([6, 7, 8, 9, 10])\n",
    "print(array1)\n",
    "print(array2)\n",
    "\n",
    "array_joined = np.concatenate((array1, array2))\n",
    "print(' ')\n",
    "print('Joined Array')\n",
    "print(array_joined)"
   ]
  },
  {
   "cell_type": "markdown",
   "metadata": {},
   "source": [
    "`Joining` **2D-Arrays** using `concatenate`"
   ]
  },
  {
   "cell_type": "code",
   "execution_count": 115,
   "metadata": {},
   "outputs": [
    {
     "name": "stdout",
     "output_type": "stream",
     "text": [
      "Array1\n",
      "[[0 0]\n",
      " [0 0]]\n",
      " \n",
      "Array2\n",
      "[[1 1]\n",
      " [1 1]]\n",
      " \n",
      "-----------------\n",
      " \n",
      "Joined by Axis 0 (4x2)\n",
      "[[0 0]\n",
      " [0 0]\n",
      " [1 1]\n",
      " [1 1]]\n",
      " \n",
      "Joined by Axis 1 (2x4)\n",
      "[[0 0 1 1]\n",
      " [0 0 1 1]]\n"
     ]
    }
   ],
   "source": [
    "# Joining 2D-Arrays\n",
    "array1 = np.array([[0, 0], \n",
    "                   [0, 0]])\n",
    "\n",
    "array2 = np.array([[1, 1], \n",
    "                   [1, 1]])\n",
    "\n",
    "print('Array1')\n",
    "print(array1)\n",
    "print(' ')\n",
    "print('Array2')\n",
    "print(array2)\n",
    "print(' ')\n",
    "print('-----------------')\n",
    "\n",
    "# By Axis 0 (to the Bottom)\n",
    "array_joined = np.concatenate((array1, array2), axis=0)\n",
    "print(' ')\n",
    "print('Joined by Axis 0 (4x2)')\n",
    "print(array_joined)\n",
    "\n",
    "# By Axis 1 (to the Right)\n",
    "array_joined = np.concatenate((array1, array2), axis=1)\n",
    "print(' ')\n",
    "print('Joined by Axis 1 (2x4)')\n",
    "print(array_joined)"
   ]
  },
  {
   "cell_type": "markdown",
   "metadata": {},
   "source": [
    "`Note: For Joining by Axis 0 (to the bottom), the second Dimension (Columns) must match`"
   ]
  },
  {
   "cell_type": "code",
   "execution_count": 119,
   "metadata": {
    "scrolled": true
   },
   "outputs": [
    {
     "name": "stdout",
     "output_type": "stream",
     "text": [
      "Array1\n",
      "[[0 0 0]\n",
      " [0 0 0]]\n",
      " \n",
      "Array2\n",
      "[[1 1]\n",
      " [1 1]]\n",
      " \n",
      "-----------------\n"
     ]
    },
    {
     "ename": "ValueError",
     "evalue": "all the input array dimensions for the concatenation axis must match exactly, but along dimension 1, the array at index 0 has size 3 and the array at index 1 has size 2",
     "output_type": "error",
     "traceback": [
      "\u001b[0;31m---------------------------------------------------------------------------\u001b[0m",
      "\u001b[0;31mValueError\u001b[0m                                Traceback (most recent call last)",
      "\u001b[0;32m<ipython-input-119-329b71ad4b90>\u001b[0m in \u001b[0;36m<module>\u001b[0;34m\u001b[0m\n\u001b[1;32m     11\u001b[0m \u001b[0;34m\u001b[0m\u001b[0m\n\u001b[1;32m     12\u001b[0m \u001b[0;31m# Will Raise an Error\u001b[0m\u001b[0;34m\u001b[0m\u001b[0;34m\u001b[0m\u001b[0;34m\u001b[0m\u001b[0m\n\u001b[0;32m---> 13\u001b[0;31m \u001b[0marray_joined\u001b[0m \u001b[0;34m=\u001b[0m \u001b[0mnp\u001b[0m\u001b[0;34m.\u001b[0m\u001b[0mconcatenate\u001b[0m\u001b[0;34m(\u001b[0m\u001b[0;34m(\u001b[0m\u001b[0marray1\u001b[0m\u001b[0;34m,\u001b[0m \u001b[0marray2\u001b[0m\u001b[0;34m)\u001b[0m\u001b[0;34m,\u001b[0m \u001b[0maxis\u001b[0m\u001b[0;34m=\u001b[0m\u001b[0;36m0\u001b[0m\u001b[0;34m)\u001b[0m\u001b[0;34m\u001b[0m\u001b[0;34m\u001b[0m\u001b[0m\n\u001b[0m\u001b[1;32m     14\u001b[0m \u001b[0mprint\u001b[0m\u001b[0;34m(\u001b[0m\u001b[0;34m' '\u001b[0m\u001b[0;34m)\u001b[0m\u001b[0;34m\u001b[0m\u001b[0;34m\u001b[0m\u001b[0m\n\u001b[1;32m     15\u001b[0m \u001b[0mprint\u001b[0m\u001b[0;34m(\u001b[0m\u001b[0;34m'Joined by Axis 0 (4x2)'\u001b[0m\u001b[0;34m)\u001b[0m\u001b[0;34m\u001b[0m\u001b[0;34m\u001b[0m\u001b[0m\n",
      "\u001b[0;32m<__array_function__ internals>\u001b[0m in \u001b[0;36mconcatenate\u001b[0;34m(*args, **kwargs)\u001b[0m\n",
      "\u001b[0;31mValueError\u001b[0m: all the input array dimensions for the concatenation axis must match exactly, but along dimension 1, the array at index 0 has size 3 and the array at index 1 has size 2"
     ]
    }
   ],
   "source": [
    "array1 = np.array([[0, 0, 0], \n",
    "                   [0, 0, 0]])\n",
    "\n",
    "array2 = np.array([[1, 1], \n",
    "                   [1, 1]])\n",
    "\n",
    "print('Array1')\n",
    "print(array1)\n",
    "print(' ')\n",
    "print('Array2')\n",
    "print(array2)\n",
    "print(' ')\n",
    "print('-----------------')\n",
    "\n",
    "# Will Raise an Error\n",
    "array_joined = np.concatenate((array1, array2), axis=0)\n",
    "print(' ')\n",
    "print('Joined by Axis 0')\n",
    "print(array_joined)"
   ]
  },
  {
   "cell_type": "markdown",
   "metadata": {},
   "source": [
    "`Note: For Joining by Axis 1 (to the right), the first Dimension (Rows) must match`"
   ]
  },
  {
   "cell_type": "code",
   "execution_count": 121,
   "metadata": {},
   "outputs": [
    {
     "name": "stdout",
     "output_type": "stream",
     "text": [
      "Array1\n",
      "[[0 0]\n",
      " [0 0]\n",
      " [0 0]]\n",
      " \n",
      "Array2\n",
      "[[1 1]\n",
      " [1 1]]\n",
      " \n",
      "-----------------\n"
     ]
    },
    {
     "ename": "ValueError",
     "evalue": "all the input array dimensions for the concatenation axis must match exactly, but along dimension 0, the array at index 0 has size 3 and the array at index 1 has size 2",
     "output_type": "error",
     "traceback": [
      "\u001b[0;31m---------------------------------------------------------------------------\u001b[0m",
      "\u001b[0;31mValueError\u001b[0m                                Traceback (most recent call last)",
      "\u001b[0;32m<ipython-input-121-ac55091bb42d>\u001b[0m in \u001b[0;36m<module>\u001b[0;34m\u001b[0m\n\u001b[1;32m     11\u001b[0m \u001b[0;34m\u001b[0m\u001b[0m\n\u001b[1;32m     12\u001b[0m \u001b[0;31m# Will Raise an Error\u001b[0m\u001b[0;34m\u001b[0m\u001b[0;34m\u001b[0m\u001b[0;34m\u001b[0m\u001b[0m\n\u001b[0;32m---> 13\u001b[0;31m \u001b[0marray_joined\u001b[0m \u001b[0;34m=\u001b[0m \u001b[0mnp\u001b[0m\u001b[0;34m.\u001b[0m\u001b[0mconcatenate\u001b[0m\u001b[0;34m(\u001b[0m\u001b[0;34m(\u001b[0m\u001b[0marray1\u001b[0m\u001b[0;34m,\u001b[0m \u001b[0marray2\u001b[0m\u001b[0;34m)\u001b[0m\u001b[0;34m,\u001b[0m \u001b[0maxis\u001b[0m\u001b[0;34m=\u001b[0m\u001b[0;36m1\u001b[0m\u001b[0;34m)\u001b[0m\u001b[0;34m\u001b[0m\u001b[0;34m\u001b[0m\u001b[0m\n\u001b[0m\u001b[1;32m     14\u001b[0m \u001b[0mprint\u001b[0m\u001b[0;34m(\u001b[0m\u001b[0;34m' '\u001b[0m\u001b[0;34m)\u001b[0m\u001b[0;34m\u001b[0m\u001b[0;34m\u001b[0m\u001b[0m\n\u001b[1;32m     15\u001b[0m \u001b[0mprint\u001b[0m\u001b[0;34m(\u001b[0m\u001b[0;34m'Joined by Axis 0'\u001b[0m\u001b[0;34m)\u001b[0m\u001b[0;34m\u001b[0m\u001b[0;34m\u001b[0m\u001b[0m\n",
      "\u001b[0;32m<__array_function__ internals>\u001b[0m in \u001b[0;36mconcatenate\u001b[0;34m(*args, **kwargs)\u001b[0m\n",
      "\u001b[0;31mValueError\u001b[0m: all the input array dimensions for the concatenation axis must match exactly, but along dimension 0, the array at index 0 has size 3 and the array at index 1 has size 2"
     ]
    }
   ],
   "source": [
    "array1 = np.array([[0, 0], \n",
    "                   [0, 0], \n",
    "                   [0, 0]])\n",
    "\n",
    "array2 = np.array([[1, 1], \n",
    "                   [1, 1]])\n",
    "\n",
    "print('Array1')\n",
    "print(array1)\n",
    "print(' ')\n",
    "print('Array2')\n",
    "print(array2)\n",
    "print(' ')\n",
    "print('-----------------')\n",
    "\n",
    "# Will Raise an Error\n",
    "array_joined = np.concatenate((array1, array2), axis=1)\n",
    "print(' ')\n",
    "print('Joined by Axis 0')\n",
    "print(array_joined)"
   ]
  },
  {
   "cell_type": "markdown",
   "metadata": {},
   "source": [
    "Or use `hstack` and `vstack` instead"
   ]
  },
  {
   "cell_type": "code",
   "execution_count": 127,
   "metadata": {
    "scrolled": true
   },
   "outputs": [
    {
     "name": "stdout",
     "output_type": "stream",
     "text": [
      "Array1\n",
      "[[0 0 0]\n",
      " [0 0 0]]\n",
      " \n",
      "Array2\n",
      "[[1 1]\n",
      " [1 1]]\n",
      " \n",
      "-----------------\n",
      " \n",
      "Stacked horizontally\n",
      "[[0 0 0 1 1]\n",
      " [0 0 0 1 1]]\n"
     ]
    }
   ],
   "source": [
    "# Horizontal Stacking/Joining (hstack)\n",
    "array1 = np.array([[0, 0, 0], \n",
    "                   [0, 0, 0]])\n",
    "\n",
    "array2 = np.array([[1, 1], \n",
    "                   [1, 1]])\n",
    "\n",
    "print('Array1')\n",
    "print(array1)\n",
    "print(' ')\n",
    "print('Array2')\n",
    "print(array2)\n",
    "print(' ')\n",
    "print('-----------------')\n",
    "\n",
    "array_joined = np.hstack((array1, array2))\n",
    "print(' ')\n",
    "print('Stacked horizontally')\n",
    "print(array_joined)"
   ]
  },
  {
   "cell_type": "code",
   "execution_count": 133,
   "metadata": {},
   "outputs": [
    {
     "name": "stdout",
     "output_type": "stream",
     "text": [
      "Array1\n",
      "[[0 0]\n",
      " [0 0]\n",
      " [0 0]]\n",
      " \n",
      "Array2\n",
      "[[1 1]\n",
      " [1 1]]\n",
      " \n",
      "-----------------\n",
      " \n",
      "Stacked vertically\n",
      "[[0 0]\n",
      " [0 0]\n",
      " [0 0]\n",
      " [1 1]\n",
      " [1 1]]\n"
     ]
    }
   ],
   "source": [
    "# Vertical Stacking/Joining (vstack)\n",
    "array1 = np.array([[0, 0], \n",
    "                   [0, 0], \n",
    "                   [0, 0]])\n",
    "\n",
    "array2 = np.array([[1, 1], \n",
    "                   [1, 1]])\n",
    "\n",
    "print('Array1')\n",
    "print(array1)\n",
    "print(' ')\n",
    "print('Array2')\n",
    "print(array2)\n",
    "print(' ')\n",
    "print('-----------------')\n",
    "\n",
    "array_joined = np.vstack((array1, array2))\n",
    "print(' ')\n",
    "print('Stacked vertically')\n",
    "print(array_joined)"
   ]
  },
  {
   "cell_type": "markdown",
   "metadata": {},
   "source": [
    "`Sorting` **1D-Array** using `sort`"
   ]
  },
  {
   "cell_type": "code",
   "execution_count": 245,
   "metadata": {},
   "outputs": [
    {
     "name": "stdout",
     "output_type": "stream",
     "text": [
      "[1 2 3 4 5]\n",
      "['A' 'E' 'F' 'M' 'Z']\n",
      "[False False False  True  True]\n"
     ]
    }
   ],
   "source": [
    "array_int = np.array([3, 1, 5, 4, 2])\n",
    "print(np.sort(array_int))\n",
    "\n",
    "array_str = np.array(['Z', 'A', 'F', 'E', 'M'])\n",
    "print(np.sort(array_str))\n",
    "\n",
    "array_bool = np.array([True, False, False, True, False])\n",
    "print(np.sort(array_bool))"
   ]
  },
  {
   "cell_type": "markdown",
   "metadata": {},
   "source": [
    "`Sorting` **2D-Array** using `sort(array, axis)`"
   ]
  },
  {
   "cell_type": "code",
   "execution_count": 273,
   "metadata": {},
   "outputs": [
    {
     "name": "stdout",
     "output_type": "stream",
     "text": [
      "Row-wise (axis=1)\n",
      "[['v' 'w' 'x' 'y' 'z']\n",
      " ['q' 'r' 's' 't' 'u']\n",
      " ['l' 'm' 'n' 'o' 'p']\n",
      " ['g' 'h' 'i' 'j' 'k']\n",
      " ['b' 'c' 'd' 'e' 'f']\n",
      " ['!' '#' '+' '-' 'a']]\n",
      " \n",
      "Column-wise (axis=0)\n",
      "[['a' '+' '-' '#' '!']\n",
      " ['f' 'e' 'd' 'c' 'b']\n",
      " ['k' 'j' 'i' 'h' 'g']\n",
      " ['p' 'o' 'n' 'm' 'l']\n",
      " ['u' 't' 's' 'r' 'q']\n",
      " ['z' 'y' 'x' 'w' 'v']]\n",
      " \n",
      "Flattening and Sorting (axis=None)\n",
      "['!' '#' '+' '-' 'a' 'b' 'c' 'd' 'e' 'f' 'g' 'h' 'i' 'j' 'k' 'l' 'm' 'n'\n",
      " 'o' 'p' 'q' 'r' 's' 't' 'u' 'v' 'w' 'x' 'y' 'z']\n"
     ]
    }
   ],
   "source": [
    "array_str = np.array([['z', 'y', 'x', 'w', 'v'],\n",
    "                      ['u', 't', 's', 'r', 'q'],\n",
    "                      ['p', 'o', 'n', 'm', 'l'],\n",
    "                      ['k', 'j', 'i', 'h', 'g'],\n",
    "                      ['f', 'e', 'd', 'c', 'b'],\n",
    "                      ['a', '+', '-', '#', '!']])\n",
    "\n",
    "# Row-wise Sorting\n",
    "print('Row-wise (axis=1)')\n",
    "print(np.sort(array_str, axis=1))\n",
    "\n",
    "# Column-wise Sorting\n",
    "print(' ')\n",
    "print('Column-wise (axis=0)')\n",
    "print(np.sort(array_str, axis=0))\n",
    "\n",
    "# Flattening (to 1D) and Sorting\n",
    "print(' ')\n",
    "print('Flattening and Sorting (axis=None)')\n",
    "print(np.sort(array_str, axis=None))"
   ]
  },
  {
   "cell_type": "markdown",
   "metadata": {},
   "source": [
    "`Searching` **1D-Array** using `where`"
   ]
  },
  {
   "cell_type": "code",
   "execution_count": 268,
   "metadata": {},
   "outputs": [
    {
     "name": "stdout",
     "output_type": "stream",
     "text": [
      "[0 0 1 1 0 1 1 1 0 1]\n",
      " \n",
      "Indices for Zero Elements\n",
      "(array([0, 1, 4, 8]),)\n",
      "<class 'tuple'>\n"
     ]
    }
   ],
   "source": [
    "array1D = np.array([0, 0, 1, 1, 0, 1, 1, 1, 0, 1])\n",
    "print(array1D)\n",
    "\n",
    "# Return Indices for Zero Elements\n",
    "idxZero = np.where(array1D == 0)\n",
    "print(' ')\n",
    "print('Indices for Zero Elements')\n",
    "print(idxZero)\n",
    "print(type(idxZero))"
   ]
  },
  {
   "cell_type": "code",
   "execution_count": 355,
   "metadata": {},
   "outputs": [
    {
     "name": "stdout",
     "output_type": "stream",
     "text": [
      "[0 0 1 1 0 1 1 1 0 1]\n",
      "Indices for Non-Zero Elements\n",
      "(array([2, 3, 5, 6, 7, 9]),)\n",
      "<class 'tuple'>\n"
     ]
    }
   ],
   "source": [
    "print(array1D)\n",
    "\n",
    "# Return Indices for Non-Zero Elements\n",
    "idxNotZero = np.where(array1D != 0)\n",
    "print('Indices for Non-Zero Elements')\n",
    "print(idxNotZero)\n",
    "print(type(idxNotZero))"
   ]
  },
  {
   "cell_type": "code",
   "execution_count": 356,
   "metadata": {
    "scrolled": true
   },
   "outputs": [
    {
     "name": "stdout",
     "output_type": "stream",
     "text": [
      "[0 0 1 1 0 1 1 1 0 1]\n",
      " \n",
      "Array with changed Values\n",
      "[0 0 0 0 0 0 0 0 0 0]\n"
     ]
    }
   ],
   "source": [
    "print(array1D)\n",
    "\n",
    "# Change Values for Non-Zero Elements to Zero\n",
    "array1D = np.where(array1D != 0, 0, array1D)\n",
    "print(' ')\n",
    "print('Array with changed Values')\n",
    "print(array1D)"
   ]
  },
  {
   "cell_type": "markdown",
   "metadata": {},
   "source": [
    "`Searching` **2D-Array** using `where`"
   ]
  },
  {
   "cell_type": "code",
   "execution_count": 357,
   "metadata": {},
   "outputs": [
    {
     "name": "stdout",
     "output_type": "stream",
     "text": [
      "[[0 0 1 0 1]\n",
      " [0 1 0 1 1]\n",
      " [0 0 1 1 1]\n",
      " [0 1 0 0 1]]\n",
      " \n",
      "Indices for Zero Elements\n",
      "(array([0, 0, 0, 1, 1, 2, 2, 3, 3, 3]), array([0, 1, 3, 0, 2, 0, 1, 0, 2, 3]))\n",
      "<class 'tuple'>\n"
     ]
    }
   ],
   "source": [
    "array2D = np.array([[0, 0, 1, 0, 1],\n",
    "                    [0, 1, 0, 1, 1],\n",
    "                    [0, 0, 1, 1, 1],\n",
    "                    [0, 1, 0, 0, 1]])\n",
    "print(array2D)\n",
    "\n",
    "# Return Indices for Zero Elements\n",
    "idxZero = np.where(array2D == 0)\n",
    "print(' ')\n",
    "print('Indices for Zero Elements')\n",
    "print(idxZero)\n",
    "print(type(idxZero))"
   ]
  },
  {
   "cell_type": "code",
   "execution_count": 358,
   "metadata": {},
   "outputs": [
    {
     "name": "stdout",
     "output_type": "stream",
     "text": [
      "[[0 0 1 0 1]\n",
      " [0 1 0 1 1]\n",
      " [0 0 1 1 1]\n",
      " [0 1 0 0 1]]\n",
      " \n",
      "Array with changed Values\n",
      "[[-1 -1  1 -1  1]\n",
      " [-1  1 -1  1  1]\n",
      " [-1 -1  1  1  1]\n",
      " [-1  1 -1 -1  1]]\n"
     ]
    }
   ],
   "source": [
    "print(array2D)\n",
    "\n",
    "# Change Values for Zero Elements\n",
    "array2D = np.where(array2D == 0, -1, array2D)\n",
    "print(' ')\n",
    "print('Array with changed Values')\n",
    "print(array2D)"
   ]
  },
  {
   "cell_type": "code",
   "execution_count": 359,
   "metadata": {},
   "outputs": [
    {
     "name": "stdout",
     "output_type": "stream",
     "text": [
      "[[-1 -1  1 -1  1]\n",
      " [-1  1 -1  1  1]\n",
      " [-1 -1  1  1  1]\n",
      " [-1  1 -1 -1  1]]\n",
      " \n",
      "Array with changed Values\n",
      "[[0 0 1 0 1]\n",
      " [0 1 0 1 1]\n",
      " [0 0 1 1 1]\n",
      " [0 1 0 0 1]]\n"
     ]
    }
   ],
   "source": [
    "# Multiple Conditions with '&'(AND)\n",
    "# Note: Use () for each Condition\n",
    "\n",
    "print(array2D)\n",
    "\n",
    "# Change Values\n",
    "array2D = np.where(\n",
    "    (array2D < 0) & (array2D > -2), \n",
    "    0, array2D\n",
    ")\n",
    "print(' ')\n",
    "print('Array with changed Values')\n",
    "print(array2D)"
   ]
  },
  {
   "cell_type": "code",
   "execution_count": 360,
   "metadata": {},
   "outputs": [
    {
     "name": "stdout",
     "output_type": "stream",
     "text": [
      "[[0 0 1 0 1]\n",
      " [0 1 0 1 1]\n",
      " [0 0 1 1 1]\n",
      " [0 1 0 0 1]]\n",
      " \n",
      "Array with changed Values\n",
      "[[-1 -1 -1 -1 -1]\n",
      " [-1 -1 -1 -1 -1]\n",
      " [-1 -1 -1 -1 -1]\n",
      " [-1 -1 -1 -1 -1]]\n"
     ]
    }
   ],
   "source": [
    "# Multiple Conditions with '|'(OR)\n",
    "# Note: Use () for each Condition\n",
    "\n",
    "print(array2D)\n",
    "\n",
    "# Change Values\n",
    "array2D = np.where(\n",
    "    (array2D == 0) | (array2D == 1), \n",
    "    -1, array2D\n",
    ")\n",
    "print(' ')\n",
    "print('Array with changed Values')\n",
    "print(array2D)"
   ]
  },
  {
   "cell_type": "markdown",
   "metadata": {},
   "source": [
    "`Filtering` **1D-Array** using `Boolean Masking`"
   ]
  },
  {
   "cell_type": "code",
   "execution_count": 361,
   "metadata": {},
   "outputs": [
    {
     "name": "stdout",
     "output_type": "stream",
     "text": [
      "[1 2 3 4 5]\n",
      " \n",
      "Boolean Mask\n",
      "[False False  True  True  True]\n",
      " \n",
      "Values filtered\n",
      "[3 4 5]\n"
     ]
    }
   ],
   "source": [
    "array1D = np.array([1, 2, 3, 4, 5])\n",
    "print(array1D)\n",
    "\n",
    "# Filter Values > 2\n",
    "# -----------------------------\n",
    "# Create Boolean Mask by Hand\n",
    "bool_mask = np.array([False, False, True, True, True])\n",
    "print(' ')\n",
    "print('Boolean Mask')\n",
    "print(bool_mask)\n",
    "# -----------------------------\n",
    "# Filter\n",
    "print(' ')\n",
    "print('Values filtered')\n",
    "print(array1D[bool_mask])"
   ]
  },
  {
   "cell_type": "code",
   "execution_count": 362,
   "metadata": {},
   "outputs": [
    {
     "name": "stdout",
     "output_type": "stream",
     "text": [
      "[False False  True  True  True]\n"
     ]
    }
   ],
   "source": [
    "# Create Boolean Mask automatically\n",
    "bool_mask = array1D > 2\n",
    "print(bool_mask)"
   ]
  },
  {
   "cell_type": "code",
   "execution_count": 363,
   "metadata": {},
   "outputs": [
    {
     "name": "stdout",
     "output_type": "stream",
     "text": [
      "[3 4 5]\n"
     ]
    }
   ],
   "source": [
    "# Filter Values > 2 directly\n",
    "print(array1D[array1D > 2])"
   ]
  },
  {
   "cell_type": "markdown",
   "metadata": {},
   "source": [
    "`Filtering` **2D-Array** using `Boolean Masking`"
   ]
  },
  {
   "cell_type": "code",
   "execution_count": 263,
   "metadata": {},
   "outputs": [
    {
     "name": "stdout",
     "output_type": "stream",
     "text": [
      "[[0 0 1 0 1]\n",
      " [0 1 0 1 1]\n",
      " [0 0 1 1 1]\n",
      " [0 1 0 0 1]]\n",
      " \n",
      "Values filtered\n",
      "[0 0 0 0 0 0 0 0 0 0]\n",
      " \n",
      "Number of Zero Values in array2D\n",
      "10\n",
      " \n",
      "Boolean Mask\n",
      "[[ True  True False  True False]\n",
      " [ True False  True False False]\n",
      " [ True  True False False False]\n",
      " [ True False  True  True False]]\n"
     ]
    }
   ],
   "source": [
    "array2D = np.array([[0, 0, 1, 0, 1],\n",
    "                    [0, 1, 0, 1, 1],\n",
    "                    [0, 0, 1, 1, 1],\n",
    "                    [0, 1, 0, 0, 1]])\n",
    "print(array2D)\n",
    "\n",
    "# Filter Zero Values\n",
    "print(' ')\n",
    "print('Values filtered')\n",
    "print(array2D[array2D == 0])\n",
    "# Count Zero Values\n",
    "print(' ')\n",
    "print('Number of Zero Values in array2D')\n",
    "print(len(array2D[array2D == 0]))\n",
    "# Print Boolean Mask\n",
    "print(' ')\n",
    "print('Boolean Mask')\n",
    "print(array2D == 0)"
   ]
  },
  {
   "cell_type": "markdown",
   "metadata": {},
   "source": [
    "`Adding and Subtracting Arrays`"
   ]
  },
  {
   "cell_type": "code",
   "execution_count": 400,
   "metadata": {},
   "outputs": [
    {
     "name": "stdout",
     "output_type": "stream",
     "text": [
      "[1 2 3]\n",
      " \n",
      "[1 1 1]\n",
      " \n",
      "array1 + array2\n",
      "[2 3 4]\n",
      " \n",
      "array1 - 1\n",
      "[0 1 2]\n"
     ]
    }
   ],
   "source": [
    "array1 = np.array([1, 2, 3])\n",
    "print(array1)\n",
    "\n",
    "array2 = np.array([1, 1, 1])\n",
    "print(' ')\n",
    "print(array2)\n",
    "\n",
    "# Add \n",
    "array_new = array1 + array2\n",
    "print(' ')\n",
    "print('array1 + array2')\n",
    "print(array_new)\n",
    "\n",
    "# Subtract\n",
    "array_new = array1 - 1\n",
    "print(' ')\n",
    "print('array1 - 1')\n",
    "print(array_new)"
   ]
  },
  {
   "cell_type": "markdown",
   "metadata": {},
   "source": [
    "`Multiplying and Dividing Arrays`"
   ]
  },
  {
   "cell_type": "code",
   "execution_count": 406,
   "metadata": {},
   "outputs": [
    {
     "name": "stdout",
     "output_type": "stream",
     "text": [
      "[[1 2 3]\n",
      " [4 5 6]\n",
      " [7 8 9]]\n",
      " \n",
      "[[1 0 0]\n",
      " [0 1 0]\n",
      " [0 0 1]]\n",
      " \n",
      "array1 * array2\n",
      "[[1 0 0]\n",
      " [0 5 0]\n",
      " [0 0 9]]\n",
      " \n",
      "array1 / 10\n",
      "[[0.1 0.2 0.3]\n",
      " [0.4 0.5 0.6]\n",
      " [0.7 0.8 0.9]]\n"
     ]
    }
   ],
   "source": [
    "array1 = np.array([[1, 2, 3],\n",
    "                   [4, 5, 6],\n",
    "                   [7, 8, 9]])\n",
    "print(array1)\n",
    "\n",
    "array2 = np.array([[1, 0, 0],\n",
    "                   [0, 1, 0],\n",
    "                   [0, 0, 1]])\n",
    "print(' ')\n",
    "print(array2)\n",
    "\n",
    "\n",
    "# Multiply\n",
    "array_new = array1 * array2\n",
    "print(' ')\n",
    "print('array1 * array2')\n",
    "print(array_new)\n",
    "\n",
    "# Divide\n",
    "array_new = array1 / 10\n",
    "print(' ')\n",
    "print('array1 / 10')\n",
    "print(array_new)"
   ]
  },
  {
   "cell_type": "markdown",
   "metadata": {},
   "source": [
    "`Aggregation Functions on Arrays`"
   ]
  },
  {
   "cell_type": "code",
   "execution_count": 427,
   "metadata": {},
   "outputs": [
    {
     "name": "stdout",
     "output_type": "stream",
     "text": [
      "[[1. 0. 0. 0. 0. 0. 0. 0. 0. 0.]\n",
      " [0. 1. 0. 0. 0. 0. 0. 0. 0. 0.]\n",
      " [0. 0. 1. 0. 0. 0. 0. 0. 0. 0.]\n",
      " [0. 0. 0. 1. 0. 0. 0. 0. 0. 0.]\n",
      " [0. 0. 0. 0. 1. 0. 0. 0. 0. 0.]\n",
      " [0. 0. 0. 0. 0. 1. 0. 0. 0. 0.]\n",
      " [0. 0. 0. 0. 0. 0. 1. 0. 0. 0.]\n",
      " [0. 0. 0. 0. 0. 0. 0. 1. 0. 0.]\n",
      " [0. 0. 0. 0. 0. 0. 0. 0. 1. 0.]\n",
      " [0. 0. 0. 0. 0. 0. 0. 0. 0. 1.]]\n",
      " \n",
      "Minimum: 0.0\n",
      "Maximum: 1.0\n",
      "Sum: 10.0\n",
      "Product: 0.0\n",
      "Mean: 0.1\n",
      "Std. Dev.: 0.3\n"
     ]
    }
   ],
   "source": [
    "array = np.eye(10)\n",
    "print(array)\n",
    "\n",
    "# Aggregation\n",
    "print(' ')\n",
    "print('Minimum:',   array.min())\n",
    "print('Maximum:',   array.max())\n",
    "print('Sum:',       array.sum())\n",
    "print('Product:',   array.prod())\n",
    "print('Mean:',      array.mean())\n",
    "print('Std. Dev.:', array.std())"
   ]
  },
  {
   "cell_type": "markdown",
   "metadata": {},
   "source": [
    "`Row-wise and Column-wise Aggregation` using `axis`"
   ]
  },
  {
   "cell_type": "code",
   "execution_count": 423,
   "metadata": {},
   "outputs": [
    {
     "name": "stdout",
     "output_type": "stream",
     "text": [
      "[[0.45125267 0.88701172 0.77893656]\n",
      " [0.52022304 0.28595273 0.67857105]\n",
      " [0.56815443 0.85399331 0.26257491]]\n",
      " \n",
      " Maximum per Col: [0.56815443 0.88701172 0.77893656]\n",
      " \n",
      " Maximum per Row: [0.88701172 0.67857105 0.85399331]\n"
     ]
    }
   ],
   "source": [
    "array = np.random.random((3, 3))\n",
    "print(array)\n",
    "\n",
    "# Axis 0 (column-wise)\n",
    "print(' ')\n",
    "print('Maximum per Col:', array.max(axis=0))\n",
    "\n",
    "# Axis 1 (row-wise)\n",
    "print(' ')\n",
    "print('Maximum per Row:', array.max(axis=1))"
   ]
  },
  {
   "cell_type": "markdown",
   "metadata": {},
   "source": [
    "`Unique Values of Arrays`"
   ]
  },
  {
   "cell_type": "code",
   "execution_count": 438,
   "metadata": {},
   "outputs": [
    {
     "name": "stdout",
     "output_type": "stream",
     "text": [
      "[[0 1 0]\n",
      " [2 0 0]\n",
      " [0 0 3]]\n",
      " \n",
      "Unique Values: [0 1 2 3]\n",
      " \n",
      "Unique Values: (array([0, 1, 2, 3]), array([6, 1, 1, 1]))\n",
      " \n",
      "Unique Values: 4\n"
     ]
    }
   ],
   "source": [
    "array = np.array([[0, 1, 0],\n",
    "                  [2, 0, 0],\n",
    "                  [0, 0, 3]])\n",
    "print(array)\n",
    "\n",
    "# Unique Values\n",
    "print(' ')\n",
    "print('Unique Values:', np.unique(array))\n",
    "\n",
    "# Unique Values including Counts\n",
    "print(' ')\n",
    "print('Unique Values:', np.unique(array, return_counts=True))\n",
    "\n",
    "# Number of Unique Values\n",
    "print(' ')\n",
    "print('Unique Values:', len(np.unique(array)))"
   ]
  },
  {
   "cell_type": "markdown",
   "metadata": {},
   "source": [
    "`Unique Values in certain Row or Column`"
   ]
  },
  {
   "cell_type": "code",
   "execution_count": 446,
   "metadata": {},
   "outputs": [
    {
     "name": "stdout",
     "output_type": "stream",
     "text": [
      "[[0 1 0]\n",
      " [2 0 0]\n",
      " [0 0 3]]\n",
      " \n",
      "Unique Values in first Row\n",
      "[0 1]\n",
      " \n",
      "Unique Values in last Column\n",
      "[0 3]\n"
     ]
    }
   ],
   "source": [
    "array = np.array([[0, 1, 0],\n",
    "                  [2, 0, 0],\n",
    "                  [0, 0, 3]])\n",
    "print(array)\n",
    "\n",
    "# Unique Values in first Row\n",
    "print(' ')\n",
    "print('Unique Values in first Row')\n",
    "print(np.unique(array[0, :]))\n",
    "\n",
    "# Unique Values in last Column\n",
    "print(' ')\n",
    "print('Unique Values in last Column')\n",
    "print(np.unique(array[:, -1]))"
   ]
  },
  {
   "cell_type": "markdown",
   "metadata": {},
   "source": [
    "`Random Numbers and Arrays`"
   ]
  },
  {
   "cell_type": "code",
   "execution_count": 518,
   "metadata": {
    "scrolled": true
   },
   "outputs": [
    {
     "name": "stdout",
     "output_type": "stream",
     "text": [
      "2\n"
     ]
    }
   ],
   "source": [
    "# Random Integer between 0 and x\n",
    "x = 10\n",
    "number = np.random.randint(x)\n",
    "print(number)"
   ]
  },
  {
   "cell_type": "code",
   "execution_count": 600,
   "metadata": {},
   "outputs": [
    {
     "name": "stdout",
     "output_type": "stream",
     "text": [
      "[4 9 3 9 1]\n"
     ]
    }
   ],
   "source": [
    "# 1D-Array with Random Integers\n",
    "array1D = np.random.randint(10, size=(5))\n",
    "print(array1D)"
   ]
  },
  {
   "cell_type": "code",
   "execution_count": 601,
   "metadata": {},
   "outputs": [
    {
     "name": "stdout",
     "output_type": "stream",
     "text": [
      "[[2 6 5 0 0]\n",
      " [4 9 4 3 6]\n",
      " [8 0 4 3 4]\n",
      " [6 2 0 1 6]\n",
      " [2 6 4 7 5]]\n"
     ]
    }
   ],
   "source": [
    "# 2D-Array with Random Integers\n",
    "array2D = np.random.randint(10, size=(5, 5))\n",
    "print(array2D)"
   ]
  },
  {
   "cell_type": "code",
   "execution_count": 625,
   "metadata": {},
   "outputs": [
    {
     "name": "stdout",
     "output_type": "stream",
     "text": [
      "0.4764546327816017\n"
     ]
    }
   ],
   "source": [
    "# Random Floating Point Number between 0 and 1\n",
    "number = np.random.rand()\n",
    "print(number)"
   ]
  },
  {
   "cell_type": "code",
   "execution_count": 658,
   "metadata": {},
   "outputs": [
    {
     "name": "stdout",
     "output_type": "stream",
     "text": [
      "[0.03842639 0.69751709 0.99127284 0.92042042 0.57344562]\n"
     ]
    }
   ],
   "source": [
    "# 1D-Array with Random Point Numbers\n",
    "array1D = np.random.rand(5)\n",
    "print(array1D)"
   ]
  },
  {
   "cell_type": "code",
   "execution_count": 676,
   "metadata": {},
   "outputs": [
    {
     "name": "stdout",
     "output_type": "stream",
     "text": [
      "[[0.10861627 0.72889035 0.91220604 0.51115726 0.30328698]\n",
      " [0.23136927 0.47025751 0.82213693 0.40896021 0.48180145]\n",
      " [0.36666391 0.99323575 0.16998274 0.68536569 0.67028464]\n",
      " [0.34122678 0.00742908 0.56462685 0.00568169 0.80796748]\n",
      " [0.45920519 0.6970879  0.03656475 0.48121534 0.23199349]]\n"
     ]
    }
   ],
   "source": [
    "# 2D-Array with Random Point Numbers\n",
    "array2D = np.random.rand(5, 5)\n",
    "print(array2D)"
   ]
  },
  {
   "cell_type": "code",
   "execution_count": 691,
   "metadata": {},
   "outputs": [
    {
     "name": "stdout",
     "output_type": "stream",
     "text": [
      "4\n"
     ]
    }
   ],
   "source": [
    "# Randomly choose a Number from an Array of Numbers\n",
    "array = [1, 2, 3, 4, 5]\n",
    "print(np.random.choice(array))"
   ]
  },
  {
   "cell_type": "code",
   "execution_count": 748,
   "metadata": {},
   "outputs": [
    {
     "name": "stdout",
     "output_type": "stream",
     "text": [
      "[ 1  2  3  4  5  6  7  8  9 10 11 12 13 14 15 16 17 18 19 20 21 22 23 24\n",
      " 25 26 27 28 29 30 31 32 33 34 35 36 37 38 39 40 41 42 43 44 45 46 47 48\n",
      " 49]\n",
      " \n",
      "[ 6 15 21 26 36 45]\n"
     ]
    }
   ],
   "source": [
    "# Randomly choose an Array of Numbers from an Array of Numbers (i.e. Lottozahlen)\n",
    "lotto_numbers = np.arange(1, 49+1)\n",
    "print(lotto_numbers)\n",
    "\n",
    "draw = np.random.choice(lotto_numbers, size=(6), replace=False)\n",
    "print(' ')\n",
    "print(np.sort(draw))"
   ]
  }
 ],
 "metadata": {
  "kernelspec": {
   "display_name": "Python 3",
   "language": "python",
   "name": "python3"
  },
  "language_info": {
   "codemirror_mode": {
    "name": "ipython",
    "version": 3
   },
   "file_extension": ".py",
   "mimetype": "text/x-python",
   "name": "python",
   "nbconvert_exporter": "python",
   "pygments_lexer": "ipython3",
   "version": "3.9.6"
  }
 },
 "nbformat": 4,
 "nbformat_minor": 4
}
