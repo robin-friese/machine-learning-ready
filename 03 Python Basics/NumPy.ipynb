{
 "cells": [
  {
   "cell_type": "markdown",
   "metadata": {},
   "source": [
    "# NUMPY LIBRARY\n",
    "\n",
    "NumPy stands for `Numerical Python`.\n",
    "\n",
    "It is an Open Source Python Library used for working with `Arrays`.\n",
    "\n",
    "In Data Science in general and in Machine Learning in particular we are often working with `2-dimensional Data` consisting of `Rows and Columns`. \n",
    "\n",
    "One Way of representing such `Data Matrices` in Python is the `NumPy ndarray Object`."
   ]
  },
  {
   "cell_type": "markdown",
   "metadata": {},
   "source": [
    "---"
   ]
  },
  {
   "cell_type": "markdown",
   "metadata": {},
   "source": [
    "`Import NumPy Library`"
   ]
  },
  {
   "cell_type": "code",
   "execution_count": null,
   "metadata": {},
   "outputs": [],
   "source": [
    "import numpy as np"
   ]
  },
  {
   "cell_type": "markdown",
   "metadata": {},
   "source": [
    "`Creating` **0D-Array** `(Scalar)`"
   ]
  },
  {
   "cell_type": "code",
   "execution_count": null,
   "metadata": {},
   "outputs": [],
   "source": [
    "array0D = np.array(0)\n",
    "\n",
    "print(array0D)\n",
    "print(type(array0D))"
   ]
  },
  {
   "cell_type": "markdown",
   "metadata": {},
   "source": [
    "`Creating` **1D-Array** `(Row Vector)`"
   ]
  },
  {
   "cell_type": "code",
   "execution_count": null,
   "metadata": {},
   "outputs": [],
   "source": [
    "array1D = np.array([0, 1, 1, 0, 0, 0, 1, 0, 0, 1])\n",
    "\n",
    "print(array1D)\n",
    "print(type(array1D))"
   ]
  },
  {
   "cell_type": "markdown",
   "metadata": {},
   "source": [
    "`Creating` `nx1` **2D-Array** `(Colum Vector)`"
   ]
  },
  {
   "cell_type": "code",
   "execution_count": null,
   "metadata": {},
   "outputs": [],
   "source": [
    "array2D_vctr = np.array([0, 1, 1, 0, 0, 0, 1, 0, 0, 1]).reshape(-1,1)\n",
    "\n",
    "print(array2D_vctr)\n",
    "print(type(array2D_vctr))"
   ]
  },
  {
   "cell_type": "markdown",
   "metadata": {},
   "source": [
    "`Creating` `nxm` **2D-Array** `(Matrix)`"
   ]
  },
  {
   "cell_type": "code",
   "execution_count": null,
   "metadata": {},
   "outputs": [],
   "source": [
    "array2D_mtrx = np.array([[0, 1, 1, 0, 0, 0, 1, 0, 0, 1], \n",
    "                         [1, 1, 1, 0, 0, 0, 0, 0, 1, 1]])\n",
    "\n",
    "print(array2D_mtrx)\n",
    "print(type(array2D_mtrx))"
   ]
  },
  {
   "cell_type": "markdown",
   "metadata": {},
   "source": [
    "`Returning Dimensions of an Array`"
   ]
  },
  {
   "cell_type": "code",
   "execution_count": null,
   "metadata": {
    "scrolled": true
   },
   "outputs": [],
   "source": [
    "# Number of Dimensions\n",
    "print(array0D.ndim)\n",
    "print(array1D.ndim)\n",
    "print(array2D_vctr.ndim)\n",
    "print(array2D_mtrx.ndim)"
   ]
  },
  {
   "cell_type": "markdown",
   "metadata": {},
   "source": [
    "`Returning Shape of an Array (Dimensions x Elements)`"
   ]
  },
  {
   "cell_type": "code",
   "execution_count": null,
   "metadata": {},
   "outputs": [],
   "source": [
    "# Number of Elements per Dimension\n",
    "print(array0D.shape)\n",
    "print(array1D.shape)\n",
    "print(array2D_vctr.shape)\n",
    "print(array2D_mtrx.shape)"
   ]
  },
  {
   "cell_type": "markdown",
   "metadata": {},
   "source": [
    "`Returning Size of Array (Total Number of Elements)`"
   ]
  },
  {
   "cell_type": "code",
   "execution_count": null,
   "metadata": {},
   "outputs": [],
   "source": [
    "print(array0D.size)\n",
    "print(array1D.size)\n",
    "print(array2D_vctr.size)\n",
    "print(array2D_mtrx.size)"
   ]
  },
  {
   "cell_type": "markdown",
   "metadata": {},
   "source": [
    "`Creating Basic Arrays`"
   ]
  },
  {
   "cell_type": "code",
   "execution_count": null,
   "metadata": {},
   "outputs": [],
   "source": [
    "# Array with Zeros\n",
    "array = np.zeros(5, dtype=np.int64)\n",
    "print('Row Vector')\n",
    "print(array)\n",
    "\n",
    "array = np.zeros((5, 1), dtype=np.int64)\n",
    "print(' ')\n",
    "print('Column Vector')\n",
    "print(array)\n",
    "\n",
    "array = np.zeros((5, 5), dtype=np.int64)\n",
    "print(' ')\n",
    "print('Matrix')\n",
    "print(array)"
   ]
  },
  {
   "cell_type": "code",
   "execution_count": null,
   "metadata": {
    "scrolled": true
   },
   "outputs": [],
   "source": [
    "# Array with Ones\n",
    "array = np.ones(5, dtype=np.int64)\n",
    "print('Row Vector')\n",
    "print(array)\n",
    "\n",
    "array = np.ones((5, 1), dtype=np.int64)\n",
    "print(' ')\n",
    "print('Column Vector')\n",
    "print(array)\n",
    "\n",
    "array = np.ones((5, 5), dtype=np.int64)\n",
    "print(' ')\n",
    "print('Matrix')\n",
    "print(array)"
   ]
  },
  {
   "cell_type": "code",
   "execution_count": null,
   "metadata": {},
   "outputs": [],
   "source": [
    "# Array with Ones on the Diagonal and Zeros else (Eye Matrix)\n",
    "array = np.eye(10)\n",
    "print(array)"
   ]
  },
  {
   "cell_type": "code",
   "execution_count": null,
   "metadata": {},
   "outputs": [],
   "source": [
    "# Array with arranged Values\n",
    "array = np.arange(1, 11)\n",
    "print(array)\n",
    "\n",
    "array = np.arange(2, 11, 2)\n",
    "print(' ')\n",
    "print(array)"
   ]
  },
  {
   "cell_type": "code",
   "execution_count": null,
   "metadata": {},
   "outputs": [],
   "source": [
    "# Array with linearly spaced Values \n",
    "array = np.linspace(0, 1, 101)\n",
    "print(array)"
   ]
  },
  {
   "cell_type": "code",
   "execution_count": null,
   "metadata": {},
   "outputs": [],
   "source": [
    "# Array with Random Values between Zero and One\n",
    "array = np.random.rand(3, 3)\n",
    "print(array)"
   ]
  },
  {
   "cell_type": "markdown",
   "metadata": {},
   "source": [
    "`Accessing` **1D-Arrays** `with [idx]`\n",
    "\n",
    "`Remember: Index Zero corresponds to the first Element`"
   ]
  },
  {
   "cell_type": "code",
   "execution_count": null,
   "metadata": {},
   "outputs": [],
   "source": [
    "array1D = np.array([0, 1, 1, 0, 0, 0, 1, 0, 0, 1])\n",
    "print(array1D)"
   ]
  },
  {
   "cell_type": "code",
   "execution_count": null,
   "metadata": {},
   "outputs": [],
   "source": [
    "# First Element\n",
    "print(array1D[0])"
   ]
  },
  {
   "cell_type": "code",
   "execution_count": null,
   "metadata": {},
   "outputs": [],
   "source": [
    "# Second last Element\n",
    "print(array1D[-2])"
   ]
  },
  {
   "cell_type": "code",
   "execution_count": null,
   "metadata": {},
   "outputs": [],
   "source": [
    "# Second to third Element\n",
    "print(array1D[1:3])"
   ]
  },
  {
   "cell_type": "code",
   "execution_count": null,
   "metadata": {},
   "outputs": [],
   "source": [
    "# Fourth last to second last Element\n",
    "print(array1D[-4:-1])"
   ]
  },
  {
   "cell_type": "code",
   "execution_count": null,
   "metadata": {},
   "outputs": [],
   "source": [
    "# First to fifth Element\n",
    "print(array1D[:5])"
   ]
  },
  {
   "cell_type": "code",
   "execution_count": null,
   "metadata": {},
   "outputs": [],
   "source": [
    "# Sixth to last Element\n",
    "print(array1D[5:])"
   ]
  },
  {
   "cell_type": "code",
   "execution_count": null,
   "metadata": {},
   "outputs": [],
   "source": [
    "# Every second Element starting with the first Element\n",
    "print(array1D[::2])"
   ]
  },
  {
   "cell_type": "code",
   "execution_count": null,
   "metadata": {},
   "outputs": [],
   "source": [
    "# Every second Element starting with the second Element and ending with the sixth Element\n",
    "print(array1D[1:6:2])"
   ]
  },
  {
   "cell_type": "markdown",
   "metadata": {},
   "source": [
    "`Accessing` **2D-Arrays** `with [idx1, idx2]`\n",
    "\n",
    "`Note: idx1 corresponds to the Dimension(s), idx2 to the Element(s) in that Dimension(s)`"
   ]
  },
  {
   "cell_type": "code",
   "execution_count": null,
   "metadata": {},
   "outputs": [],
   "source": [
    "array2D = np.array([[0, 1, 1, 0, 0, 0, 1, 0, 0, 1], \n",
    "                    [1, 1, 1, 0, 0, 0, 0, 0, 1, 1]])\n",
    "print(array2D)"
   ]
  },
  {
   "cell_type": "code",
   "execution_count": null,
   "metadata": {},
   "outputs": [],
   "source": [
    "# First Element in the first Dimension\n",
    "print(array2D[0, 0])"
   ]
  },
  {
   "cell_type": "code",
   "execution_count": null,
   "metadata": {},
   "outputs": [],
   "source": [
    "# First Element in the second Dimension\n",
    "print(array2D[1, 0])"
   ]
  },
  {
   "cell_type": "code",
   "execution_count": null,
   "metadata": {},
   "outputs": [],
   "source": [
    "# First Element in all Dimensions\n",
    "print(array2D[:, 0])"
   ]
  },
  {
   "cell_type": "code",
   "execution_count": null,
   "metadata": {},
   "outputs": [],
   "source": [
    "# Last four Elements in all Dimensions\n",
    "print(array2D[:, -4:])"
   ]
  },
  {
   "cell_type": "code",
   "execution_count": null,
   "metadata": {},
   "outputs": [],
   "source": [
    "# Second, third and last Element in all Dimensions\n",
    "print(array2D[:, [1, 2, -1]])"
   ]
  },
  {
   "cell_type": "code",
   "execution_count": null,
   "metadata": {},
   "outputs": [],
   "source": [
    "# Every third Element of second Dimension starting with the first Element\n",
    "print(array2D[1, ::3])"
   ]
  },
  {
   "cell_type": "markdown",
   "metadata": {},
   "source": [
    "`Copy vs. View`"
   ]
  },
  {
   "cell_type": "code",
   "execution_count": null,
   "metadata": {},
   "outputs": [],
   "source": [
    "# Original Array\n",
    "array_ori = np.array([1, 2, 3, 4, 5])\n",
    "\n",
    "# View of Original Array\n",
    "array_view = array_ori\n",
    "\n",
    "# Changes on View...\n",
    "array_view[0] = -99\n",
    "\n",
    "#...will affect the original Array...\n",
    "print('Original Array')\n",
    "print(array_ori)\n",
    "print('View')\n",
    "print(array_view)\n",
    "\n",
    "#...and Changes on original Array...\n",
    "array_ori[-1] = -99\n",
    "\n",
    "#...will affect the View\n",
    "print(' ')\n",
    "print('Original Array')\n",
    "print(array_ori)\n",
    "print('View')\n",
    "print(array_view)"
   ]
  },
  {
   "cell_type": "code",
   "execution_count": null,
   "metadata": {},
   "outputs": [],
   "source": [
    "array_ori = np.array([1, 2, 3, 4, 5])\n",
    "\n",
    "# Use \"copy()\" to avoid such Behavior\n",
    "array_copy = array_ori.copy()\n",
    "\n",
    "# Changes on Copy...\n",
    "array_copy[0] = -99\n",
    "\n",
    "#...will not affect the original Array\n",
    "print('Original Array')\n",
    "print(array_ori)\n",
    "print('Copy')\n",
    "print(array_copy)"
   ]
  },
  {
   "cell_type": "markdown",
   "metadata": {},
   "source": [
    "`Reshaping Arrays (from` **1D** `to` **2D**`)` using `reshape(rows, columns)`"
   ]
  },
  {
   "cell_type": "code",
   "execution_count": null,
   "metadata": {
    "scrolled": true
   },
   "outputs": [],
   "source": [
    "array1D = np.array([0, 1, 1, 0, 0, 0, 1, 0, 0, 1, 1, 1, 1, 0, 0, 0, 0, 0, 1, 1])\n",
    "print(array1D)\n",
    "print(array1D.shape)\n",
    "\n",
    "# Reshape\n",
    "array2D = array1D.reshape(2, 10)\n",
    "print(' ')\n",
    "print('Reshaped Array')\n",
    "print(array2D)\n",
    "print('Shape')\n",
    "print(array2D.shape)"
   ]
  },
  {
   "cell_type": "markdown",
   "metadata": {},
   "source": [
    "`Flattening Arrays (from` **2D** `to` **1D**`)` using `reshape(-1)`"
   ]
  },
  {
   "cell_type": "code",
   "execution_count": null,
   "metadata": {},
   "outputs": [],
   "source": [
    "array_flat = array2D.reshape(-1)\n",
    "print('Flattened Array')\n",
    "print(array_flat)\n",
    "print('Shape')\n",
    "print(array_flat.shape)"
   ]
  },
  {
   "cell_type": "markdown",
   "metadata": {},
   "source": [
    "Or use `flatten` or `ravel` instead\n",
    "\n",
    "`Note: flatten() returns a Copy, ravel() returns a View`"
   ]
  },
  {
   "cell_type": "code",
   "execution_count": null,
   "metadata": {},
   "outputs": [],
   "source": [
    "array_flat = array2D.flatten()\n",
    "print('Flattened Array')\n",
    "print(array_flat)\n",
    "print('Shape')\n",
    "print(array_flat.shape)"
   ]
  },
  {
   "cell_type": "code",
   "execution_count": null,
   "metadata": {},
   "outputs": [],
   "source": [
    "array_flat = array2D.ravel()\n",
    "print('Flattened Array')\n",
    "print(array_flat)\n",
    "print('Shape')\n",
    "print(array_flat.shape)"
   ]
  },
  {
   "cell_type": "markdown",
   "metadata": {},
   "source": [
    "`Transposing Arrays`"
   ]
  },
  {
   "cell_type": "code",
   "execution_count": null,
   "metadata": {
    "scrolled": true
   },
   "outputs": [],
   "source": [
    "array = np.array([[0, 1],\n",
    "                  [0, 1],\n",
    "                  [0, 1],\n",
    "                  [0, 1],\n",
    "                  [0, 1]])\n",
    "print(array)\n",
    "print('Shape:', array.shape)\n",
    "\n",
    "# Transpose\n",
    "array_transposed = array.transpose()\n",
    "print(' ')\n",
    "print('Transposed Array')\n",
    "print(array_transposed)\n",
    "print('Shape:', array_transposed.shape)\n",
    "\n",
    "# Or use '.T'\n",
    "array_t = array.T\n",
    "print(' ')\n",
    "print('Transposed Array using .T')\n",
    "print(array_t)\n",
    "print('Shape:', array_t.shape)"
   ]
  },
  {
   "cell_type": "markdown",
   "metadata": {},
   "source": [
    "`Flipping Arrays`"
   ]
  },
  {
   "cell_type": "code",
   "execution_count": null,
   "metadata": {},
   "outputs": [],
   "source": [
    "array = np.array([[1, 2, 3],\n",
    "                  [4, 5, 6],\n",
    "                  [7, 8, 9]])\n",
    "print(array)\n",
    "\n",
    "# Flip\n",
    "array_flipped = np.flip(array)\n",
    "print(' ')\n",
    "print('Flipped Array')\n",
    "print(array_flipped)"
   ]
  },
  {
   "cell_type": "markdown",
   "metadata": {},
   "source": [
    "`Iterating through` **1D-Array**"
   ]
  },
  {
   "cell_type": "code",
   "execution_count": null,
   "metadata": {},
   "outputs": [],
   "source": [
    "# Iterating through Elements of 1D Array\n",
    "array1D = np.array([1, 2, 3, 4, 5])\n",
    "\n",
    "for element in array1D:\n",
    "    print(element)"
   ]
  },
  {
   "cell_type": "markdown",
   "metadata": {},
   "source": [
    "`Iterating through` **2D-Array**"
   ]
  },
  {
   "cell_type": "code",
   "execution_count": null,
   "metadata": {},
   "outputs": [],
   "source": [
    "# Iterating through Rows of 2D Array\n",
    "array2D = np.array([[1, 2, 3, 4, 5], \n",
    "                    [6, 7, 8, 9, 10]])\n",
    "\n",
    "for row in array2D:\n",
    "    print(row)"
   ]
  },
  {
   "cell_type": "code",
   "execution_count": null,
   "metadata": {},
   "outputs": [],
   "source": [
    "# Iterating through Elements of 2D Array\n",
    "for row in array2D:\n",
    "    for element in row:\n",
    "        print(element)"
   ]
  },
  {
   "cell_type": "code",
   "execution_count": null,
   "metadata": {},
   "outputs": [],
   "source": [
    "# Easier with nditer()\n",
    "for element in np.nditer(array2D):\n",
    "    print(element)"
   ]
  },
  {
   "cell_type": "markdown",
   "metadata": {},
   "source": [
    "`Joining` **1D-Arrays** using `concatenate`"
   ]
  },
  {
   "cell_type": "code",
   "execution_count": null,
   "metadata": {
    "scrolled": true
   },
   "outputs": [],
   "source": [
    "# Joining 1D-Arrays\n",
    "array1 = np.array([1, 2, 3, 4, 5])\n",
    "array2 = np.array([6, 7, 8, 9, 10])\n",
    "print(array1)\n",
    "print(array2)\n",
    "\n",
    "array_joined = np.concatenate((array1, array2))\n",
    "print(' ')\n",
    "print('Joined Array')\n",
    "print(array_joined)"
   ]
  },
  {
   "cell_type": "markdown",
   "metadata": {},
   "source": [
    "`Joining` **2D-Arrays** using `concatenate`"
   ]
  },
  {
   "cell_type": "code",
   "execution_count": null,
   "metadata": {},
   "outputs": [],
   "source": [
    "# Joining 2D-Arrays\n",
    "array1 = np.array([[0, 0], \n",
    "                   [0, 0]])\n",
    "\n",
    "array2 = np.array([[1, 1], \n",
    "                   [1, 1]])\n",
    "\n",
    "print('Array1')\n",
    "print(array1)\n",
    "print(' ')\n",
    "print('Array2')\n",
    "print(array2)\n",
    "print(' ')\n",
    "print('-----------------')\n",
    "\n",
    "# By Axis 0 (to the Bottom)\n",
    "array_joined = np.concatenate((array1, array2), axis=0)\n",
    "print(' ')\n",
    "print('Joined by Axis 0 (4x2)')\n",
    "print(array_joined)\n",
    "\n",
    "# By Axis 1 (to the Right)\n",
    "array_joined = np.concatenate((array1, array2), axis=1)\n",
    "print(' ')\n",
    "print('Joined by Axis 1 (2x4)')\n",
    "print(array_joined)"
   ]
  },
  {
   "cell_type": "markdown",
   "metadata": {},
   "source": [
    "`Note: For Joining by Axis 0 (to the bottom), the second Dimension (Columns) must match`"
   ]
  },
  {
   "cell_type": "code",
   "execution_count": null,
   "metadata": {
    "scrolled": true
   },
   "outputs": [],
   "source": [
    "array1 = np.array([[0, 0, 0], \n",
    "                   [0, 0, 0]])\n",
    "\n",
    "array2 = np.array([[1, 1], \n",
    "                   [1, 1]])\n",
    "\n",
    "print('Array1')\n",
    "print(array1)\n",
    "print(' ')\n",
    "print('Array2')\n",
    "print(array2)\n",
    "print(' ')\n",
    "print('-----------------')\n",
    "\n",
    "# Will Raise an Error\n",
    "array_joined = np.concatenate((array1, array2), axis=0)\n",
    "print(' ')\n",
    "print('Joined by Axis 0')\n",
    "print(array_joined)"
   ]
  },
  {
   "cell_type": "markdown",
   "metadata": {},
   "source": [
    "`Note: For Joining by Axis 1 (to the right), the first Dimension (Rows) must match`"
   ]
  },
  {
   "cell_type": "code",
   "execution_count": null,
   "metadata": {},
   "outputs": [],
   "source": [
    "array1 = np.array([[0, 0], \n",
    "                   [0, 0], \n",
    "                   [0, 0]])\n",
    "\n",
    "array2 = np.array([[1, 1], \n",
    "                   [1, 1]])\n",
    "\n",
    "print('Array1')\n",
    "print(array1)\n",
    "print(' ')\n",
    "print('Array2')\n",
    "print(array2)\n",
    "print(' ')\n",
    "print('-----------------')\n",
    "\n",
    "# Will Raise an Error\n",
    "array_joined = np.concatenate((array1, array2), axis=1)\n",
    "print(' ')\n",
    "print('Joined by Axis 0')\n",
    "print(array_joined)"
   ]
  },
  {
   "cell_type": "markdown",
   "metadata": {},
   "source": [
    "Or use `hstack` and `vstack` instead"
   ]
  },
  {
   "cell_type": "code",
   "execution_count": null,
   "metadata": {
    "scrolled": true
   },
   "outputs": [],
   "source": [
    "# Horizontal Stacking/Joining (hstack)\n",
    "array1 = np.array([[0, 0, 0], \n",
    "                   [0, 0, 0]])\n",
    "\n",
    "array2 = np.array([[1, 1], \n",
    "                   [1, 1]])\n",
    "\n",
    "print('Array1')\n",
    "print(array1)\n",
    "print(' ')\n",
    "print('Array2')\n",
    "print(array2)\n",
    "print(' ')\n",
    "print('-----------------')\n",
    "\n",
    "array_joined = np.hstack((array1, array2))\n",
    "print(' ')\n",
    "print('Stacked horizontally')\n",
    "print(array_joined)"
   ]
  },
  {
   "cell_type": "code",
   "execution_count": null,
   "metadata": {},
   "outputs": [],
   "source": [
    "# Vertical Stacking/Joining (vstack)\n",
    "array1 = np.array([[0, 0], \n",
    "                   [0, 0], \n",
    "                   [0, 0]])\n",
    "\n",
    "array2 = np.array([[1, 1], \n",
    "                   [1, 1]])\n",
    "\n",
    "print('Array1')\n",
    "print(array1)\n",
    "print(' ')\n",
    "print('Array2')\n",
    "print(array2)\n",
    "print(' ')\n",
    "print('-----------------')\n",
    "\n",
    "array_joined = np.vstack((array1, array2))\n",
    "print(' ')\n",
    "print('Stacked vertically')\n",
    "print(array_joined)"
   ]
  },
  {
   "cell_type": "markdown",
   "metadata": {},
   "source": [
    "`Sorting` **1D-Array** using `sort`"
   ]
  },
  {
   "cell_type": "code",
   "execution_count": null,
   "metadata": {},
   "outputs": [],
   "source": [
    "array_int = np.array([3, 1, 5, 4, 2])\n",
    "print(np.sort(array_int))\n",
    "\n",
    "array_str = np.array(['Z', 'A', 'F', 'E', 'M'])\n",
    "print(np.sort(array_str))\n",
    "\n",
    "array_bool = np.array([True, False, False, True, False])\n",
    "print(np.sort(array_bool))"
   ]
  },
  {
   "cell_type": "markdown",
   "metadata": {},
   "source": [
    "`Sorting` **2D-Array** using `sort(array, axis)`"
   ]
  },
  {
   "cell_type": "code",
   "execution_count": null,
   "metadata": {},
   "outputs": [],
   "source": [
    "array_str = np.array([['z', 'y', 'x', 'w', 'v'],\n",
    "                      ['u', 't', 's', 'r', 'q'],\n",
    "                      ['p', 'o', 'n', 'm', 'l'],\n",
    "                      ['k', 'j', 'i', 'h', 'g'],\n",
    "                      ['f', 'e', 'd', 'c', 'b'],\n",
    "                      ['a', '+', '-', '#', '!']])\n",
    "\n",
    "# Row-wise Sorting\n",
    "print('Row-wise (axis=1)')\n",
    "print(np.sort(array_str, axis=1))\n",
    "\n",
    "# Column-wise Sorting\n",
    "print(' ')\n",
    "print('Column-wise (axis=0)')\n",
    "print(np.sort(array_str, axis=0))\n",
    "\n",
    "# Flattening (to 1D) and Sorting\n",
    "print(' ')\n",
    "print('Flattening and Sorting (axis=None)')\n",
    "print(np.sort(array_str, axis=None))"
   ]
  },
  {
   "cell_type": "markdown",
   "metadata": {},
   "source": [
    "`Searching` **1D-Array** using `where`"
   ]
  },
  {
   "cell_type": "code",
   "execution_count": null,
   "metadata": {},
   "outputs": [],
   "source": [
    "array1D = np.array([0, 0, 1, 1, 0, 1, 1, 1, 0, 1])\n",
    "print(array1D)\n",
    "\n",
    "# Return Indices for Zero Elements\n",
    "idxZero = np.where(array1D == 0)\n",
    "print(' ')\n",
    "print('Indices for Zero Elements')\n",
    "print(idxZero)\n",
    "print(type(idxZero))"
   ]
  },
  {
   "cell_type": "code",
   "execution_count": null,
   "metadata": {},
   "outputs": [],
   "source": [
    "print(array1D)\n",
    "\n",
    "# Return Indices for Non-Zero Elements\n",
    "idxNotZero = np.where(array1D != 0)\n",
    "print('Indices for Non-Zero Elements')\n",
    "print(idxNotZero)\n",
    "print(type(idxNotZero))"
   ]
  },
  {
   "cell_type": "code",
   "execution_count": null,
   "metadata": {
    "scrolled": true
   },
   "outputs": [],
   "source": [
    "print(array1D)\n",
    "\n",
    "# Change Values for Non-Zero Elements to Zero\n",
    "array1D = np.where(array1D != 0, 0, array1D)\n",
    "print(' ')\n",
    "print('Array with changed Values')\n",
    "print(array1D)"
   ]
  },
  {
   "cell_type": "markdown",
   "metadata": {},
   "source": [
    "`Searching` **2D-Array** using `where`"
   ]
  },
  {
   "cell_type": "code",
   "execution_count": null,
   "metadata": {},
   "outputs": [],
   "source": [
    "array2D = np.array([[0, 0, 1, 0, 1],\n",
    "                    [0, 1, 0, 1, 1],\n",
    "                    [0, 0, 1, 1, 1],\n",
    "                    [0, 1, 0, 0, 1]])\n",
    "print(array2D)\n",
    "\n",
    "# Return Indices for Zero Elements\n",
    "idxZero = np.where(array2D == 0)\n",
    "print(' ')\n",
    "print('Indices for Zero Elements')\n",
    "print(idxZero)\n",
    "print(type(idxZero))"
   ]
  },
  {
   "cell_type": "code",
   "execution_count": null,
   "metadata": {},
   "outputs": [],
   "source": [
    "print(array2D)\n",
    "\n",
    "# Change Values for Zero Elements\n",
    "array2D = np.where(array2D == 0, -1, array2D)\n",
    "print(' ')\n",
    "print('Array with changed Values')\n",
    "print(array2D)"
   ]
  },
  {
   "cell_type": "code",
   "execution_count": null,
   "metadata": {},
   "outputs": [],
   "source": [
    "# Multiple Conditions with '&'(AND)\n",
    "# Note: Use () for each Condition\n",
    "\n",
    "print(array2D)\n",
    "\n",
    "# Change Values\n",
    "array2D = np.where(\n",
    "    (array2D < 0) & (array2D > -2), \n",
    "    0, array2D\n",
    ")\n",
    "print(' ')\n",
    "print('Array with changed Values')\n",
    "print(array2D)"
   ]
  },
  {
   "cell_type": "code",
   "execution_count": null,
   "metadata": {},
   "outputs": [],
   "source": [
    "# Multiple Conditions with '|'(OR)\n",
    "# Note: Use () for each Condition\n",
    "\n",
    "print(array2D)\n",
    "\n",
    "# Change Values\n",
    "array2D = np.where(\n",
    "    (array2D == 0) | (array2D == 1), \n",
    "    -1, array2D\n",
    ")\n",
    "print(' ')\n",
    "print('Array with changed Values')\n",
    "print(array2D)"
   ]
  },
  {
   "cell_type": "markdown",
   "metadata": {},
   "source": [
    "`Filtering` **1D-Array** using `Boolean Masking`"
   ]
  },
  {
   "cell_type": "code",
   "execution_count": null,
   "metadata": {},
   "outputs": [],
   "source": [
    "array1D = np.array([1, 2, 3, 4, 5])\n",
    "print(array1D)\n",
    "\n",
    "# Filter Values > 2\n",
    "# -----------------------------\n",
    "# Create Boolean Mask by Hand\n",
    "bool_mask = np.array([False, False, True, True, True])\n",
    "print(' ')\n",
    "print('Boolean Mask')\n",
    "print(bool_mask)\n",
    "# -----------------------------\n",
    "# Filter\n",
    "print(' ')\n",
    "print('Values filtered')\n",
    "print(array1D[bool_mask])"
   ]
  },
  {
   "cell_type": "code",
   "execution_count": null,
   "metadata": {},
   "outputs": [],
   "source": [
    "# Create Boolean Mask automatically\n",
    "bool_mask = array1D > 2\n",
    "print(bool_mask)"
   ]
  },
  {
   "cell_type": "code",
   "execution_count": null,
   "metadata": {},
   "outputs": [],
   "source": [
    "# Filter Values > 2 directly\n",
    "print(array1D[array1D > 2])"
   ]
  },
  {
   "cell_type": "markdown",
   "metadata": {},
   "source": [
    "`Filtering` **2D-Array** using `Boolean Masking`"
   ]
  },
  {
   "cell_type": "code",
   "execution_count": null,
   "metadata": {},
   "outputs": [],
   "source": [
    "array2D = np.array([[0, 0, 1, 0, 1],\n",
    "                    [0, 1, 0, 1, 1],\n",
    "                    [0, 0, 1, 1, 1],\n",
    "                    [0, 1, 0, 0, 1]])\n",
    "print(array2D)\n",
    "\n",
    "# Filter Zero Values\n",
    "print(' ')\n",
    "print('Values filtered')\n",
    "print(array2D[array2D == 0])\n",
    "# Count Zero Values\n",
    "print(' ')\n",
    "print('Number of Zero Values in array2D')\n",
    "print(len(array2D[array2D == 0]))\n",
    "# Print Boolean Mask\n",
    "print(' ')\n",
    "print('Boolean Mask')\n",
    "print(array2D == 0)"
   ]
  },
  {
   "cell_type": "markdown",
   "metadata": {},
   "source": [
    "`Adding and Subtracting Arrays`"
   ]
  },
  {
   "cell_type": "code",
   "execution_count": null,
   "metadata": {},
   "outputs": [],
   "source": [
    "array1 = np.array([1, 2, 3])\n",
    "print(array1)\n",
    "\n",
    "array2 = np.array([1, 1, 1])\n",
    "print(' ')\n",
    "print(array2)\n",
    "\n",
    "# Add \n",
    "array_new = array1 + array2\n",
    "print(' ')\n",
    "print('array1 + array2')\n",
    "print(array_new)\n",
    "\n",
    "# Subtract\n",
    "array_new = array1 - 1\n",
    "print(' ')\n",
    "print('array1 - 1')\n",
    "print(array_new)"
   ]
  },
  {
   "cell_type": "markdown",
   "metadata": {},
   "source": [
    "`Multiplying and Dividing Arrays`"
   ]
  },
  {
   "cell_type": "code",
   "execution_count": null,
   "metadata": {},
   "outputs": [],
   "source": [
    "array1 = np.array([[1, 2, 3],\n",
    "                   [4, 5, 6],\n",
    "                   [7, 8, 9]])\n",
    "print(array1)\n",
    "\n",
    "array2 = np.array([[1, 0, 0],\n",
    "                   [0, 1, 0],\n",
    "                   [0, 0, 1]])\n",
    "print(' ')\n",
    "print(array2)\n",
    "\n",
    "\n",
    "# Multiply\n",
    "array_new = array1 * array2\n",
    "print(' ')\n",
    "print('array1 * array2')\n",
    "print(array_new)\n",
    "\n",
    "# Divide\n",
    "array_new = array1 / 10\n",
    "print(' ')\n",
    "print('array1 / 10')\n",
    "print(array_new)"
   ]
  },
  {
   "cell_type": "markdown",
   "metadata": {},
   "source": [
    "`Aggregation Functions on Arrays`"
   ]
  },
  {
   "cell_type": "code",
   "execution_count": null,
   "metadata": {},
   "outputs": [],
   "source": [
    "array = np.eye(10)\n",
    "print(array)\n",
    "\n",
    "# Aggregation\n",
    "print(' ')\n",
    "print('Minimum:',   array.min())\n",
    "print('Maximum:',   array.max())\n",
    "print('Sum:',       array.sum())\n",
    "print('Product:',   array.prod())\n",
    "print('Mean:',      array.mean())\n",
    "print('Std. Dev.:', array.std())"
   ]
  },
  {
   "cell_type": "markdown",
   "metadata": {},
   "source": [
    "`Row-wise and Column-wise Aggregation` using `axis`"
   ]
  },
  {
   "cell_type": "code",
   "execution_count": null,
   "metadata": {},
   "outputs": [],
   "source": [
    "array = np.random.random((3, 3))\n",
    "print(array)\n",
    "\n",
    "# Axis 0 (column-wise)\n",
    "print(' ')\n",
    "print('Maximum per Col:', array.max(axis=0))\n",
    "\n",
    "# Axis 1 (row-wise)\n",
    "print(' ')\n",
    "print('Maximum per Row:', array.max(axis=1))"
   ]
  },
  {
   "cell_type": "markdown",
   "metadata": {},
   "source": [
    "`Unique Values of Arrays`"
   ]
  },
  {
   "cell_type": "code",
   "execution_count": null,
   "metadata": {},
   "outputs": [],
   "source": [
    "array = np.array([[0, 1, 0],\n",
    "                  [2, 0, 0],\n",
    "                  [0, 0, 3]])\n",
    "print(array)\n",
    "\n",
    "# Unique Values\n",
    "print(' ')\n",
    "print('Unique Values:', np.unique(array))\n",
    "\n",
    "# Unique Values including Counts\n",
    "print(' ')\n",
    "print('Unique Values:', np.unique(array, return_counts=True))\n",
    "\n",
    "# Number of Unique Values\n",
    "print(' ')\n",
    "print('Unique Values:', len(np.unique(array)))"
   ]
  },
  {
   "cell_type": "markdown",
   "metadata": {},
   "source": [
    "`Unique Values in certain Row or Column`"
   ]
  },
  {
   "cell_type": "code",
   "execution_count": null,
   "metadata": {},
   "outputs": [],
   "source": [
    "array = np.array([[0, 1, 0],\n",
    "                  [2, 0, 0],\n",
    "                  [0, 0, 3]])\n",
    "print(array)\n",
    "\n",
    "# Unique Values in first Row\n",
    "print(' ')\n",
    "print('Unique Values in first Row')\n",
    "print(np.unique(array[0, :]))\n",
    "\n",
    "# Unique Values in last Column\n",
    "print(' ')\n",
    "print('Unique Values in last Column')\n",
    "print(np.unique(array[:, -1]))"
   ]
  },
  {
   "cell_type": "markdown",
   "metadata": {},
   "source": [
    "`Random Numbers and Arrays`"
   ]
  },
  {
   "cell_type": "code",
   "execution_count": null,
   "metadata": {
    "scrolled": true
   },
   "outputs": [],
   "source": [
    "# Random Integer between 0 and x\n",
    "x = 10\n",
    "number = np.random.randint(x)\n",
    "print(number)"
   ]
  },
  {
   "cell_type": "code",
   "execution_count": null,
   "metadata": {},
   "outputs": [],
   "source": [
    "# 1D-Array with Random Integers\n",
    "array1D = np.random.randint(10, size=(5))\n",
    "print(array1D)"
   ]
  },
  {
   "cell_type": "code",
   "execution_count": null,
   "metadata": {},
   "outputs": [],
   "source": [
    "# 2D-Array with Random Integers\n",
    "array2D = np.random.randint(10, size=(5, 5))\n",
    "print(array2D)"
   ]
  },
  {
   "cell_type": "code",
   "execution_count": null,
   "metadata": {},
   "outputs": [],
   "source": [
    "# Random Floating Point Number between 0 and 1\n",
    "number = np.random.rand()\n",
    "print(number)"
   ]
  },
  {
   "cell_type": "code",
   "execution_count": null,
   "metadata": {},
   "outputs": [],
   "source": [
    "# 1D-Array with Random Point Numbers\n",
    "array1D = np.random.rand(5)\n",
    "print(array1D)"
   ]
  },
  {
   "cell_type": "code",
   "execution_count": null,
   "metadata": {},
   "outputs": [],
   "source": [
    "# 2D-Array with Random Point Numbers\n",
    "array2D = np.random.rand(5, 5)\n",
    "print(array2D)"
   ]
  },
  {
   "cell_type": "code",
   "execution_count": null,
   "metadata": {},
   "outputs": [],
   "source": [
    "# Randomly choose a Number from an Array of Numbers\n",
    "array = [1, 2, 3, 4, 5]\n",
    "print(np.random.choice(array))"
   ]
  },
  {
   "cell_type": "code",
   "execution_count": null,
   "metadata": {},
   "outputs": [],
   "source": [
    "# Randomly choose an Array of Numbers from an Array of Numbers (i.e. Lottozahlen)\n",
    "lotto_numbers = np.arange(1, 49+1)\n",
    "print(lotto_numbers)\n",
    "\n",
    "draw = np.random.choice(lotto_numbers, size=(6), replace=False)\n",
    "print(' ')\n",
    "print(np.sort(draw))"
   ]
  }
 ],
 "metadata": {
  "kernelspec": {
   "display_name": "Python 3",
   "language": "python",
   "name": "python3"
  },
  "language_info": {
   "codemirror_mode": {
    "name": "ipython",
    "version": 3
   },
   "file_extension": ".py",
   "mimetype": "text/x-python",
   "name": "python",
   "nbconvert_exporter": "python",
   "pygments_lexer": "ipython3",
   "version": "3.9.6"
  }
 },
 "nbformat": 4,
 "nbformat_minor": 4
}
