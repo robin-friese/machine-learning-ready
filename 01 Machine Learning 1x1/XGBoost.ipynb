{
 "cells": [
  {
   "cell_type": "markdown",
   "metadata": {},
   "source": [
    "# PYTHON XGBOOST PERFORMANCE DEMO"
   ]
  },
  {
   "cell_type": "markdown",
   "metadata": {},
   "source": [
    "#### TRAINING AND TEST DATASET"
   ]
  },
  {
   "cell_type": "code",
   "execution_count": 1,
   "metadata": {},
   "outputs": [
    {
     "name": "stdout",
     "output_type": "stream",
     "text": [
      "X has shape: (100000, 20)\n",
      "X_train has shape: (80000, 20)\n",
      "X_test has shape: (20000, 20)\n"
     ]
    }
   ],
   "source": [
    "# Create Regression Task\n",
    "from sklearn.datasets import make_regression\n",
    "\n",
    "X, y = make_regression(n_samples=100000, n_features=20, n_informative=5, bias=0.0, random_state=123)\n",
    "\n",
    "# Split into Training and Test Data\n",
    "from sklearn.model_selection import train_test_split\n",
    "\n",
    "X_train, X_test, y_train, y_test = train_test_split(X, y, train_size=0.80, shuffle=True, random_state=123)\n",
    "\n",
    "print('X has shape: '       + str(X.shape))\n",
    "print('X_train has shape: ' + str(X_train.shape))\n",
    "print('X_test has shape: '  + str(X_test.shape))"
   ]
  },
  {
   "cell_type": "markdown",
   "metadata": {},
   "source": [
    "#### DECISION TREE"
   ]
  },
  {
   "cell_type": "code",
   "execution_count": 11,
   "metadata": {},
   "outputs": [
    {
     "name": "stdout",
     "output_type": "stream",
     "text": [
      "Mean Absolute Error on Test Data is: 19.54\n",
      "Training Time was: 2 sec.\n"
     ]
    }
   ],
   "source": [
    "import time\n",
    "\n",
    "start = time.time()\n",
    "\n",
    "# Fit Decision Tree Model on Training Data\n",
    "from sklearn.tree import DecisionTreeRegressor\n",
    "\n",
    "modelTREE = DecisionTreeRegressor(max_depth=None, min_samples_split=20, random_state=123)\n",
    "modelTREE.fit(X_train, y_train)\n",
    "\n",
    "end = time.time()\n",
    "\n",
    "# Make Predictions on Test Data\n",
    "ypredTREE = modelTREE.predict(X_test)\n",
    "\n",
    "# Compute Test Error and Training Time\n",
    "from sklearn.metrics import mean_absolute_error\n",
    "import numpy as np\n",
    "\n",
    "maeTREE = np.round(mean_absolute_error(y_test, ypredTREE), 2)\n",
    "timeTREE = end-start\n",
    "\n",
    "print('Mean Absolute Error on Test Data is: ' + str(maeTREE))\n",
    "print('Training Time was: %.0f sec.' %timeTREE)"
   ]
  },
  {
   "cell_type": "markdown",
   "metadata": {},
   "source": [
    "#### RANDOM FOREST"
   ]
  },
  {
   "cell_type": "code",
   "execution_count": 8,
   "metadata": {},
   "outputs": [
    {
     "name": "stdout",
     "output_type": "stream",
     "text": [
      "Mean Absolute Error on Test Data is: 16.2\n",
      "Training Time was: 64 sec.\n"
     ]
    }
   ],
   "source": [
    "import time\n",
    "\n",
    "start = time.time()\n",
    "\n",
    "# Fit Random Forest Model on Training Data\n",
    "from sklearn.ensemble import RandomForestRegressor\n",
    "\n",
    "modelRF = RandomForestRegressor(n_estimators=1000, max_depth=None, max_features='sqrt', random_state=123, n_jobs=-1)\n",
    "modelRF.fit(X_train, y_train)\n",
    "\n",
    "end = time.time()\n",
    "\n",
    "# Make Predictions on Test Data\n",
    "ypredRF = modelRF.predict(X_test)\n",
    "\n",
    "# Compute Test Error and Training Time\n",
    "from sklearn.metrics import mean_absolute_error\n",
    "import numpy as np\n",
    "\n",
    "maeRF = np.round(mean_absolute_error(y_test, ypredRF), 2)\n",
    "timeRF = end-start\n",
    "\n",
    "print('Mean Absolute Error on Test Data is: ' + str(maeRF))\n",
    "print('Training Time was: %.0f sec.' %timeRF)"
   ]
  },
  {
   "cell_type": "markdown",
   "metadata": {},
   "source": [
    "#### GRADIENT BOOSTING MACHINE"
   ]
  },
  {
   "cell_type": "code",
   "execution_count": 5,
   "metadata": {},
   "outputs": [
    {
     "name": "stdout",
     "output_type": "stream",
     "text": [
      "Mean Absolute Error on Test Data is: 3.33\n",
      "Training Time was: 158 sec.\n"
     ]
    }
   ],
   "source": [
    "import time\n",
    "\n",
    "start = time.time()\n",
    "\n",
    "# Fit Model on Training Data\n",
    "from sklearn.ensemble import GradientBoostingRegressor\n",
    "\n",
    "modelGBM = GradientBoostingRegressor(n_estimators=1000, learning_rate=0.1, max_depth=1, random_state=123)\n",
    "modelGBM.fit(X_train, y_train)\n",
    "\n",
    "end = time.time()\n",
    "\n",
    "# Make Predictions on Test Data\n",
    "ypredGBM = modelGBM.predict(X_test)\n",
    "\n",
    "# Compute Test Error and Training Time\n",
    "from sklearn.metrics import mean_absolute_error\n",
    "import numpy as np\n",
    "\n",
    "maeGBM = np.round(mean_absolute_error(y_test, ypredGBM), 2)\n",
    "timeGBM = end-start\n",
    "\n",
    "print('Mean Absolute Error on Test Data is: ' + str(maeGBM))\n",
    "print('Training Time was: %.0f sec.' %timeGBM)"
   ]
  },
  {
   "cell_type": "markdown",
   "metadata": {},
   "source": [
    "#### XGBOOST"
   ]
  },
  {
   "cell_type": "code",
   "execution_count": null,
   "metadata": {},
   "outputs": [],
   "source": [
    "pip install xgboost"
   ]
  },
  {
   "cell_type": "code",
   "execution_count": 14,
   "metadata": {
    "scrolled": true
   },
   "outputs": [
    {
     "name": "stdout",
     "output_type": "stream",
     "text": [
      "Mean Absolute Error on Test Data is: 3.72\n",
      "Training Time was: 4 sec.\n"
     ]
    }
   ],
   "source": [
    "import time\n",
    "\n",
    "start = time.time()\n",
    "\n",
    "# Fit Model on Training Data\n",
    "import xgboost as xgb\n",
    "\n",
    "modelXGB = xgb.XGBRegressor(objective=\"reg:squarederror\", booster='gbtree', n_estimators=1000, \n",
    "                            learning_rate=0.1, max_depth=1, reg_lambda=0, random_state=123)\n",
    "modelXGB.fit(X_train, y_train)\n",
    "\n",
    "end = time.time()\n",
    "\n",
    "# Make Predictions on Test Data\n",
    "ypredXGB = modelXGB.predict(X_test)\n",
    "\n",
    "# Compute Test Error and Training Time\n",
    "from sklearn.metrics import mean_absolute_error\n",
    "import numpy as np\n",
    "\n",
    "maeXGB = np.round(mean_absolute_error(y_test, ypredXGB), 2)\n",
    "timeXGB = end-start\n",
    "\n",
    "print('Mean Absolute Error on Test Data is: ' + str(maeXGB))\n",
    "print('Training Time was: %.0f sec.' %timeXGB)"
   ]
  },
  {
   "cell_type": "markdown",
   "metadata": {},
   "source": [
    "#### RESULTS"
   ]
  },
  {
   "cell_type": "code",
   "execution_count": 15,
   "metadata": {},
   "outputs": [
    {
     "data": {
      "image/png": "[encoded data removed]",
      "text/plain": [
       "<Figure size 1500x500 with 2 Axes>"
      ]
     },
     "metadata": {},
     "output_type": "display_data"
    }
   ],
   "source": [
    "%matplotlib inline\n",
    "\n",
    "import matplotlib.pyplot as plt\n",
    "\n",
    "plt.rcParams.update(plt.rcParamsDefault)\n",
    "\n",
    "x  = ['Decision Tree', 'Random Forest', 'GBM','XGBoost']\n",
    "y1 = [maeTREE, maeRF, maeGBM, maeXGB]\n",
    "y2 = [timeTREE, timeRF, timeGBM, timeXGB]\n",
    "\n",
    "fig, ((ax1, ax2)) = plt.subplots(1, 2, sharex=False, sharey=True, figsize=(15,5))\n",
    "\n",
    "ax1.set_title('Mean Absolute Error')\n",
    "ax1.barh(x, y1, height=0.5, color='#FC393E', tick_label=y1)\n",
    "for i in [0,1,2,3]:\n",
    "    ax1.text(y1[i]+0.2, x[i], y1[i], color='#000000', weight='semibold', size=12)\n",
    "\n",
    "ax2.set_title('Training Time')\n",
    "ax2.barh(x, y2, height=0.5, color='#118DFF')\n",
    "for i in [0,1,2,3]:\n",
    "    ax2.text(y2[i]+2, x[i], np.round(y2[i], 2), color='#000000', weight='semibold', size=12)\n",
    "    \n",
    "plt.show()"
   ]
  }
 ],
 "metadata": {
  "kernelspec": {
   "display_name": "Python 3",
   "language": "python",
   "name": "python3"
  },
  "language_info": {
   "codemirror_mode": {
    "name": "ipython",
    "version": 3
   },
   "file_extension": ".py",
   "mimetype": "text/x-python",
   "name": "python",
   "nbconvert_exporter": "python",
   "pygments_lexer": "ipython3",
   "version": "3.8.5"
  }
 },
 "nbformat": 4,
 "nbformat_minor": 4
}
