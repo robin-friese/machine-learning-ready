{
 "cells": [
  {
   "cell_type": "markdown",
   "metadata": {},
   "source": [
    "# PYTHON KOSTENFUNKTION UND GRADIENT DESCENT DEMO"
   ]
  },
  {
   "cell_type": "markdown",
   "metadata": {},
   "source": [
    "#### TRAINING DATASET"
   ]
  },
  {
   "cell_type": "code",
   "execution_count": null,
   "metadata": {},
   "outputs": [],
   "source": [
    "# Create Linear Regression Task\n",
    "import numpy as np\n",
    "\n",
    "X = np.linspace(0,10,50) \n",
    "y = np.linspace(0,10,50) \n",
    "\n",
    "# Reshape Training Data\n",
    "X_train, y_train = X.reshape(-1,1), y.reshape(-1,1)\n",
    "\n",
    "# Plot Training Data\n",
    "%matplotlib inline\n",
    "\n",
    "import matplotlib.pyplot as plt\n",
    "\n",
    "plt.rcParams.update(plt.rcParamsDefault)\n",
    "plt.figure(figsize=(6,4))\n",
    "plt.title('Linear Regression Task')\n",
    "plt.scatter(X_train, y_train, color='#000000', marker='o', s=25, alpha=0.25, label='Training Data')\n",
    "plt.legend(loc='lower right')\n",
    "plt.xlabel(\"x\", fontsize=14, weight='bold')\n",
    "plt.ylabel(\"y    \", fontsize=14, rotation='horizontal', weight='bold')\n",
    "plt.xlim(0,10)\n",
    "plt.ylim(0,10)\n",
    "plt.show()"
   ]
  },
  {
   "cell_type": "markdown",
   "metadata": {},
   "source": [
    "#### LINEAR REGRESSION BY HAND"
   ]
  },
  {
   "cell_type": "code",
   "execution_count": null,
   "metadata": {},
   "outputs": [],
   "source": [
    "# Set Maximum Number of Training Iterations\n",
    "max_epochs=1000\n",
    "# Set Learning Rate α\n",
    "alpha=0.5\n",
    "# Set Initital Theta\n",
    "theta_current=0\n",
    "\n",
    "# Create empty Lists to store Values\n",
    "thetas = []\n",
    "costs  = []\n",
    "\n",
    "# Compute Number of Training Samples\n",
    "n = len(y)\n",
    "\n",
    "# Learn optimal Theta reducing Cost Funtion (Mean Squared Error)\n",
    "for i in range(max_epochs):\n",
    "    # Predict y for current Theta\n",
    "    y_pred_current = theta_current * X_train\n",
    "    # Calculate MSE for current Theta\n",
    "    cost_current = sum((y_pred_current - y_train)**2) / 2*n\n",
    "    # Store current Theta and MSE\n",
    "    thetas.append(float(theta_current))\n",
    "    costs.append(float(cost_current))\n",
    "    # Update Theta using Gradient Descent\n",
    "    theta_gradient = -2/n * sum(y_train - y_pred_current)\n",
    "    theta_current = theta_current - (alpha * theta_gradient)\n",
    "    # End Loop if Cost≈0 \n",
    "    if cost_current < 1e-20:\n",
    "        break\n",
    "\n",
    "# Print Model Coefficients\n",
    "print('θ0: 0.0')\n",
    "print('θ1', thetas[-1])\n",
    "\n",
    "# Use Fitted Model to Make Predictions on the whole Feature Space from 0 to +10\n",
    "import numpy as np\n",
    "\n",
    "X_space = np.linspace(0,10,100)\n",
    "y_pred = X_space * thetas[-1]\n",
    "\n",
    "# Plot Training Data and Fitted Model\n",
    "import matplotlib.pyplot as plt\n",
    "\n",
    "plt.rcParams.update(plt.rcParamsDefault)\n",
    "plt.figure(figsize=(6,4))\n",
    "plt.title('Fitted Linear Model')\n",
    "plt.scatter(X_train, y_train, color='#000000', marker='o', s=25, alpha=0.25, label='Training Data')\n",
    "plt.plot(X_space, y_pred, color='#FC393E', linestyle='-', linewidth=2, label='Learned f(X)')\n",
    "plt.legend(loc='lower right')\n",
    "plt.xlabel(\"x\", fontsize=14, weight='bold')\n",
    "plt.ylabel(\"y    \", fontsize=14, weight='bold', rotation='horizontal')\n",
    "plt.xlim(0,10)\n",
    "plt.ylim(0,10)\n",
    "plt.show()"
   ]
  },
  {
   "cell_type": "markdown",
   "metadata": {},
   "source": [
    "#### ANIMATION OF TRAINING PROCESS"
   ]
  },
  {
   "cell_type": "code",
   "execution_count": null,
   "metadata": {},
   "outputs": [],
   "source": [
    "%matplotlib notebook\n",
    "\n",
    "import matplotlib.pyplot as plt\n",
    "import matplotlib.animation as animation\n",
    "\n",
    "plt.rcParams.update(plt.rcParamsDefault)\n",
    "fig, ((ax1,ax2)) = plt.subplots(1, 2, figsize=(9,3))\n",
    "\n",
    "def update(curr):\n",
    "    theta = thetas[curr]\n",
    "    X_space = np.linspace(0,10,100)\n",
    "    y_pred = X_space * theta\n",
    "    # Hypothesis Function\n",
    "    ax1.cla()\n",
    "    ax1.scatter(X_train, y_train, color='#000000', marker='o', s=25, alpha=0.25)\n",
    "    ax1.set_title('Hypothesis Function f(x)')\n",
    "    ax1.set_xlabel(\"x\", fontsize=14, weight='bold')\n",
    "    ax1.set_xlim(0,10)\n",
    "    ax1.set_ylim(0,10)\n",
    "    ax1.plot(X_space, y_pred, color='#FC393E', linestyle='-', linewidth=2)\n",
    "    ax1.text(0.5,9, 'Epoch: ' + str(curr))\n",
    "    ax1.text(0.5,8, 'Current Theta: %5.10f' %thetas[curr])\n",
    "    # Cost Function\n",
    "    ax2.cla()\n",
    "    ax2.plot(thetas[:curr], costs[:curr], color='#FC393E', linestyle='-', linewidth=2)\n",
    "    ax2.set_title('Cost Function J(θ)')\n",
    "    ax2.set_xlabel(\"θ\", fontsize=14, weight='bold')\n",
    "    ax2.set_xlim(0,2)\n",
    "    ax2.set_ylim(0,50000)\n",
    "    ax2.text(0.6,45000, 'Epoch: ' + str(curr))\n",
    "    ax2.text(0.6,40000, 'Current MSE: %5.10f'   %costs[curr])\n",
    "    return plt\n",
    "    \n",
    "anim = animation.FuncAnimation(fig, update, interval=300, blit=True)\n",
    "\n",
    "plt.show()"
   ]
  },
  {
   "cell_type": "markdown",
   "metadata": {},
   "source": [
    "#### PROTOCOL OF TRAINING PROCESS"
   ]
  },
  {
   "cell_type": "code",
   "execution_count": null,
   "metadata": {},
   "outputs": [],
   "source": [
    "# Print Training Protocol\n",
    "for i in range(len(thetas)):\n",
    "    print('Epoch' + str(i) + '   ', 'Theta: %5.20f' %thetas[i], '   ', 'MSE: %5.20f' %costs[i])"
   ]
  },
  {
   "cell_type": "markdown",
   "metadata": {},
   "source": [
    "#### LINEAR REGRESSION USING SCIKIT-LEARN"
   ]
  },
  {
   "cell_type": "code",
   "execution_count": null,
   "metadata": {},
   "outputs": [],
   "source": [
    "from sklearn.linear_model import LinearRegression\n",
    "\n",
    "model = LinearRegression(fit_intercept=False)\n",
    "model.fit(X_train, y_train)\n",
    "\n",
    "# Print Model Coefficients\n",
    "print('θ0:', model.intercept_)\n",
    "print('θ1',  model.coef_)\n",
    "\n",
    "# Use Fitted Model to Make Predictions on the whole Feature Space from 0 to +10\n",
    "import numpy as np\n",
    "\n",
    "X_space = np.linspace(0,10,100).reshape(-1,1)\n",
    "y_pred = model.predict(X_space).reshape(-1,1)\n",
    "\n",
    "# Plot Training Data and Fitted Model\n",
    "import matplotlib.pyplot as plt\n",
    "\n",
    "plt.rcParams.update(plt.rcParamsDefault)\n",
    "plt.figure(figsize=(6,4))\n",
    "plt.title('Fitted Linear Model')\n",
    "plt.scatter(X_train, y_train, color='#000000', marker='o', s=25, alpha=0.25, label='Training Data')\n",
    "plt.plot(X_space, y_pred, color='#FC393E', linestyle='-', linewidth=2, label='Learned f(X)')\n",
    "plt.legend(loc='lower right')\n",
    "plt.xlabel(\"x\", fontsize=14, weight='bold')\n",
    "plt.ylabel(\"y    \", fontsize=14, weight='bold', rotation='horizontal')\n",
    "plt.xlim(0,10)\n",
    "plt.ylim(0,10)\n",
    "plt.show()"
   ]
  }
 ],
 "metadata": {
  "kernelspec": {
   "display_name": "Python 3",
   "language": "python",
   "name": "python3"
  },
  "language_info": {
   "codemirror_mode": {
    "name": "ipython",
    "version": 3
   },
   "file_extension": ".py",
   "mimetype": "text/x-python",
   "name": "python",
   "nbconvert_exporter": "python",
   "pygments_lexer": "ipython3",
   "version": "3.8.5"
  }
 },
 "nbformat": 4,
 "nbformat_minor": 4
}
