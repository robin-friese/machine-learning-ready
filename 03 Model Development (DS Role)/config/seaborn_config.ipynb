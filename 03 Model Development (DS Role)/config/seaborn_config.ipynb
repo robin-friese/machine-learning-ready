{
 "cells": [
  {
   "cell_type": "code",
   "execution_count": null,
   "metadata": {},
   "outputs": [],
   "source": [
    "import seaborn as sns"
   ]
  },
  {
   "cell_type": "markdown",
   "metadata": {},
   "source": [
    "##### Seaborn Settings"
   ]
  },
  {
   "cell_type": "code",
   "execution_count": null,
   "metadata": {},
   "outputs": [],
   "source": [
    "# Set the theme for all Seaborn plots\n",
    "sns.set_theme(style=\"whitegrid\")  # Optional: Choose \"darkgrid\", \"whitegrid\", \"dark\", or \"white\"\n",
    "\n",
    "# Adjust the DPI (Dots Per Inch) to control the image quality of the plot\n",
    "sns.set(rc={\"figure.dpi\": 100})\n",
    "\n",
    "# Set the figure size for all plots (width=8, height=5 inches)\n",
    "sns.set(rc={\"figure.figsize\": (8, 5)})"
   ]
  },
  {
   "cell_type": "markdown",
   "metadata": {},
   "source": [
    "##### Font Settings"
   ]
  },
  {
   "cell_type": "code",
   "execution_count": null,
   "metadata": {},
   "outputs": [],
   "source": [
    "# General font size\n",
    "plt.rcParams['font.size'] = 12\n",
    "# Font size for axes titles\n",
    "plt.rcParams['axes.titlesize'] = 16\n",
    "# Font size for x and y labels\n",
    "plt.rcParams['axes.labelsize'] = 14\n",
    "# Font size for x-tick and y-tick labels\n",
    "plt.rcParams['xtick.labelsize'] = 12     \n",
    "plt.rcParams['ytick.labelsize'] = 12\n",
    "# Font size for legend\n",
    "plt.rcParams['legend.fontsize'] = 12 \n",
    "# Font size for figure title    \n",
    "plt.rcParams['figure.titlesize'] = 16"
   ]
  },
  {
   "cell_type": "markdown",
   "metadata": {},
   "source": [
    "##### Colors Settings"
   ]
  },
  {
   "cell_type": "code",
   "execution_count": null,
   "metadata": {},
   "outputs": [],
   "source": [
    "basic_colors = {\n",
    "    \"black\": \"#000000\",\n",
    "    \"white\": \"#FFFFFF\"\n",
    "}"
   ]
  },
  {
   "cell_type": "code",
   "execution_count": 3,
   "metadata": {},
   "outputs": [],
   "source": [
    "custom_colors = {\n",
    "    \"red\": \"#FC393E\",\n",
    "    \"blue\": \"#118DFF\",\n",
    "    \"green\": \"#39FC96\",\n",
    "    \"orange\": \"#FC9539\",\n",
    "    \"yellow\": \"#FCF739\"\n",
    "}"
   ]
  },
  {
   "cell_type": "code",
   "execution_count": null,
   "metadata": {},
   "outputs": [],
   "source": [
    "custom_sequential_palette_red = sns.dark_palette(\n",
    "    custom_colors[\"red\"], reverse=True, as_cmap=True\n",
    ")\n",
    "custom_sequential_palette_blue = sns.dark_palette(\n",
    "    custom_colors[\"blue\"], reverse=True, as_cmap=True\n",
    ")\n",
    "custom_sequential_palette_green = sns.dark_palette(\n",
    "    custom_colors[\"green\"], reverse=True, as_cmap=True\n",
    ")"
   ]
  },
  {
   "cell_type": "code",
   "execution_count": null,
   "metadata": {},
   "outputs": [],
   "source": [
    "# diverging_palette = sns.diverging_palette(240, 10, as_cmap=False)\n",
    "# custom_diverging_palette = sns.color_palette([custom_blue, custom_red, custom_orange])"
   ]
  },
  {
   "cell_type": "code",
   "execution_count": null,
   "metadata": {},
   "outputs": [],
   "source": [
    "custom_qualitative_palette = sns.color_palette(\n",
    "    [\n",
    "        basic_colors[\"white\"],\n",
    "        custom_colors[\"blue\"],\n",
    "        custom_colors[\"orange\"],\n",
    "        custom_colors[\"green\"],\n",
    "        custom_colors[\"red\"],\n",
    "        custom_colors[\"yellow\"],\n",
    "    ]\n",
    ")"
   ]
  }
 ],
 "metadata": {
  "kernelspec": {
   "display_name": "Python 3",
   "language": "python",
   "name": "python3"
  },
  "language_info": {
   "codemirror_mode": {
    "name": "ipython",
    "version": 3
   },
   "file_extension": ".py",
   "mimetype": "text/x-python",
   "name": "python",
   "nbconvert_exporter": "python",
   "pygments_lexer": "ipython3",
   "version": "3.9.6"
  }
 },
 "nbformat": 4,
 "nbformat_minor": 2
}
