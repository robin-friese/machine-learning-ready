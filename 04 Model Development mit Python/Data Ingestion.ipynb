{
 "cells": [
  {
   "cell_type": "markdown",
   "metadata": {},
   "source": [
    "# Data Ingestion"
   ]
  },
  {
   "cell_type": "markdown",
   "metadata": {},
   "source": [
    "* `Pandas` \n",
    "\n",
    "* `Pandas Read`\n",
    "\n",
    "* `Pandas Groupby` \n",
    "\n",
    "* `Pandas Merge`\n",
    "\n",
    "* `Pandas Concat`"
   ]
  },
  {
   "cell_type": "markdown",
   "metadata": {},
   "source": [
    "---"
   ]
  },
  {
   "cell_type": "markdown",
   "metadata": {},
   "source": [
    "### `Pandas`"
   ]
  },
  {
   "cell_type": "markdown",
   "metadata": {},
   "source": [
    "`Import Pandas`"
   ]
  },
  {
   "cell_type": "code",
   "execution_count": 1,
   "metadata": {},
   "outputs": [],
   "source": [
    "import pandas as pd"
   ]
  },
  {
   "cell_type": "markdown",
   "metadata": {},
   "source": [
    "`Creating Pandas Series for 1-dimensional Data (aka Column Vector)` "
   ]
  },
  {
   "cell_type": "code",
   "execution_count": null,
   "metadata": {},
   "outputs": [],
   "source": [
    "# Series from Integer/Float/String\n",
    "series = pd.Series('A', index=[1, 2, 3, 4, 5])\n",
    "print(series)\n",
    "print(type(series))"
   ]
  },
  {
   "cell_type": "code",
   "execution_count": null,
   "metadata": {},
   "outputs": [],
   "source": [
    "# Series from List\n",
    "list_for_series = [x for x in range(0, 50+1, 5)]\n",
    "series = pd.Series(list_for_series, index=None)\n",
    "print(series)"
   ]
  },
  {
   "cell_type": "code",
   "execution_count": null,
   "metadata": {},
   "outputs": [],
   "source": [
    "# Series from Dictionary\n",
    "dict_for_series = {'A': 1, 'B': 2, 'C': 3}\n",
    "series = pd.Series(dict_for_series, index=None)\n",
    "print(series)"
   ]
  },
  {
   "cell_type": "code",
   "execution_count": null,
   "metadata": {},
   "outputs": [],
   "source": [
    "# Series from NumPy Array\n",
    "import numpy as np\n",
    "array_for_series = np.random.rand(5)\n",
    "series = pd.Series(array_for_series, index=None, name='Random')\n",
    "print(series)"
   ]
  },
  {
   "cell_type": "markdown",
   "metadata": {},
   "source": [
    "`Creating Pandas DataFrame for 2-dimensional Data (aka Matrix)` "
   ]
  },
  {
   "cell_type": "code",
   "execution_count": null,
   "metadata": {},
   "outputs": [],
   "source": [
    "# DataFrame from Dictionary of Lists\n",
    "dict_lists_for_df = {\n",
    "    'Capital': ['A', 'B', 'C'],\n",
    "    'Small': ['a', 'b', 'c']\n",
    "}\n",
    "\n",
    "df = pd.DataFrame(dict_lists_for_df, index=None)\n",
    "\n",
    "display(df)"
   ]
  },
  {
   "cell_type": "code",
   "execution_count": null,
   "metadata": {},
   "outputs": [],
   "source": [
    "# DataFrame from Dictionary of NumPy Arrays\n",
    "dict_arrays_for_df = {\n",
    "    'Zeros': np.zeros(5),\n",
    "    'Ones': np.ones(5)\n",
    "}\n",
    "\n",
    "df = pd.DataFrame(dict_arrays_for_df, index=None)\n",
    "\n",
    "display(df)"
   ]
  },
  {
   "cell_type": "code",
   "execution_count": null,
   "metadata": {},
   "outputs": [],
   "source": [
    "# DataFrame from 2D-Array\n",
    "array2D_for_df = np.eye(10, dtype=np.int64)\n",
    "\n",
    "list_columns = ['Column_' + str(i) for i in range(0,10)]\n",
    "\n",
    "df = pd.DataFrame(array2D_for_df, index=None, columns=list_columns)\n",
    "\n",
    "display(df)"
   ]
  },
  {
   "cell_type": "code",
   "execution_count": null,
   "metadata": {},
   "outputs": [],
   "source": [
    "# DataFrame from named Series\n",
    "series_for_df = pd.Series(np.random.rand(5), index=None, name='Random')\n",
    "\n",
    "df = pd.DataFrame(series_for_df, index=None)\n",
    "\n",
    "display(df)"
   ]
  },
  {
   "cell_type": "code",
   "execution_count": null,
   "metadata": {},
   "outputs": [],
   "source": [
    "# Empty DataFrame with named Columns\n",
    "df = pd.DataFrame(index=None, columns=['Column1', 'Column2', 'Column3'])\n",
    "display(df)"
   ]
  },
  {
   "cell_type": "markdown",
   "metadata": {},
   "source": [
    "### `Pandas Read`"
   ]
  }
 ],
 "metadata": {
  "kernelspec": {
   "display_name": "Python 3",
   "language": "python",
   "name": "python3"
  },
  "language_info": {
   "codemirror_mode": {
    "name": "ipython",
    "version": 3
   },
   "file_extension": ".py",
   "mimetype": "text/x-python",
   "name": "python",
   "nbconvert_exporter": "python",
   "pygments_lexer": "ipython3",
   "version": "3.9.6"
  }
 },
 "nbformat": 4,
 "nbformat_minor": 2
}
