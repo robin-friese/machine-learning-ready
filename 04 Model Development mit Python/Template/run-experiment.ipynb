{
  "cells": [
    {
      "cell_type": "markdown",
      "metadata": {},
      "source": [
        "### `Dependencies`"
      ]
    },
    {
      "cell_type": "markdown",
      "metadata": {},
      "source": [
        "Requirements"
      ]
    },
    {
      "cell_type": "code",
      "execution_count": 819,
      "metadata": {},
      "outputs": [],
      "source": [
        "#pip install -r requirements.txt"
      ]
    },
    {
      "cell_type": "markdown",
      "metadata": {},
      "source": [
        "Utilities"
      ]
    },
    {
      "cell_type": "code",
      "execution_count": 820,
      "metadata": {},
      "outputs": [],
      "source": [
        "import os\n",
        "import time\n",
        "import nbformat\n",
        "import json"
      ]
    },
    {
      "cell_type": "markdown",
      "metadata": {},
      "source": [
        "Data Science Librarys"
      ]
    },
    {
      "cell_type": "code",
      "execution_count": 821,
      "metadata": {},
      "outputs": [],
      "source": [
        "import numpy as np\n",
        "import pandas as pd\n",
        "import scipy\n",
        "import matplotlib.pyplot as plt"
      ]
    },
    {
      "cell_type": "markdown",
      "metadata": {},
      "source": [
        "ML Libraries"
      ]
    },
    {
      "cell_type": "code",
      "execution_count": 822,
      "metadata": {
        "trusted": true
      },
      "outputs": [],
      "source": [
        "from sklearn.preprocessing import (\n",
        "    # Numerical features\n",
        "    StandardScaler, MinMaxScaler, MaxAbsScaler, RobustScaler,\n",
        "    KBinsDiscretizer, Binarizer,\n",
        "    QuantileTransformer, PowerTransformer,\n",
        "    PolynomialFeatures,\n",
        "    # Categorical features \n",
        "    OrdinalEncoder, OneHotEncoder, TargetEncoder\n",
        ")\n",
        "\n",
        "from sklearn.feature_selection import (\n",
        "    VarianceThreshold,\n",
        "    SelectKBest,\n",
        "    SelectPercentile,\n",
        "    SequentialFeatureSelector,\n",
        "    f_classif,\n",
        "    f_regression,\n",
        ")\n",
        "\n",
        "from sklearn.compose import ColumnTransformer\n",
        "\n",
        "from sklearn.pipeline import make_pipeline\n",
        "\n",
        "from sklearn.model_selection import (\n",
        "    train_test_split, \n",
        "    GridSearchCV, \n",
        "    LearningCurveDisplay, ValidationCurveDisplay\n",
        ")\n",
        "\n",
        "from sklearn.metrics import (\n",
        "classification_report, ConfusionMatrixDisplay\n",
        ")\n",
        "\n",
        "from sklearn.linear_model import Ridge, LogisticRegression\n",
        "\n",
        "from sklearn.svm import SVC, SVR\n",
        "\n",
        "from sklearn.neighbors import KNeighborsClassifier, KNeighborsRegressor\n",
        "\n",
        "from sklearn.ensemble import (\n",
        "    RandomForestClassifier, RandomForestRegressor,\n",
        "    GradientBoostingClassifier, GradientBoostingRegressor\n",
        ")\n",
        "\n",
        "# xgboost\n",
        "from xgboost import XGBClassifier, XGBRegressor"
      ]
    },
    {
      "cell_type": "markdown",
      "metadata": {},
      "source": [
        "### `Config`"
      ]
    },
    {
      "cell_type": "markdown",
      "metadata": {},
      "source": [
        "Task"
      ]
    },
    {
      "cell_type": "code",
      "execution_count": 823,
      "metadata": {},
      "outputs": [],
      "source": [
        "task = \"Classification\""
      ]
    },
    {
      "cell_type": "markdown",
      "metadata": {},
      "source": [
        "Estimator"
      ]
    },
    {
      "cell_type": "code",
      "execution_count": 824,
      "metadata": {},
      "outputs": [],
      "source": [
        "estimator = RandomForestClassifier(n_jobs=-1)"
      ]
    },
    {
      "cell_type": "code",
      "execution_count": 825,
      "metadata": {},
      "outputs": [],
      "source": [
        "estimator_grid = {\n",
        "    \"randomforestclassifier__n_estimators\": [500, 1000, 3000],\n",
        "    \"randomforestclassifier__max_depth\": [5, 10, 15, 20]\n",
        "}"
      ]
    },
    {
      "cell_type": "markdown",
      "metadata": {},
      "source": [
        "Metric"
      ]
    },
    {
      "cell_type": "code",
      "execution_count": 826,
      "metadata": {},
      "outputs": [],
      "source": [
        "primary_metric = \"recall\""
      ]
    },
    {
      "cell_type": "markdown",
      "metadata": {},
      "source": [
        "Preprocessors"
      ]
    },
    {
      "cell_type": "code",
      "execution_count": 827,
      "metadata": {},
      "outputs": [],
      "source": [
        "# Scaler\n",
        "scaler = MinMaxScaler()\n",
        "scaler_cols = []\n",
        "\n",
        "# Discretizer\n",
        "discretizer = None\n",
        "distribution_transformer = QuantileTransformer(\n",
        "    n_quantiles=20,\n",
        "    output_distribution=\"normal\",\n",
        "    random_state=42\n",
        ")\n",
        "polynomials = PolynomialFeatures(degree=2)\n",
        "\n",
        "# Categorical columns\n",
        "ordinal_encoder = None\n",
        "one_hot_encoder = OneHotEncoder()\n",
        "target_encoder = TargetEncoder()"
      ]
    },
    {
      "cell_type": "markdown",
      "metadata": {},
      "source": [
        "Validation"
      ]
    },
    {
      "cell_type": "code",
      "execution_count": 828,
      "metadata": {},
      "outputs": [],
      "source": [
        "learning_curve = True"
      ]
    },
    {
      "cell_type": "markdown",
      "metadata": {},
      "source": [
        "### `Utils`"
      ]
    },
    {
      "cell_type": "code",
      "execution_count": 829,
      "metadata": {},
      "outputs": [],
      "source": [
        "%run src/utils.ipynb"
      ]
    },
    {
      "cell_type": "markdown",
      "metadata": {},
      "source": [
        "### `Data Ingestion`"
      ]
    },
    {
      "cell_type": "code",
      "execution_count": 830,
      "metadata": {
        "trusted": true
      },
      "outputs": [],
      "source": [
        "# Load data\n",
        "path = \"/Users/mlprof/Documents/GitHub/machine-learning-ready/04 ML Pipelines/Titanic/\"\n",
        "\n",
        "data = pd.read_csv(f\"{path}train.csv\")\n",
        "submission = pd.read_csv(f\"{path}test.csv\")"
      ]
    },
    {
      "cell_type": "code",
      "execution_count": 831,
      "metadata": {},
      "outputs": [
        {
          "name": "stdout",
          "output_type": "stream",
          "text": [
            "<class 'pandas.core.frame.DataFrame'>\n",
            "RangeIndex: 891 entries, 0 to 890\n",
            "Data columns (total 12 columns):\n",
            " #   Column       Non-Null Count  Dtype  \n",
            "---  ------       --------------  -----  \n",
            " 0   PassengerId  891 non-null    int64  \n",
            " 1   Survived     891 non-null    int64  \n",
            " 2   Pclass       891 non-null    int64  \n",
            " 3   Name         891 non-null    object \n",
            " 4   Sex          891 non-null    object \n",
            " 5   Age          714 non-null    float64\n",
            " 6   SibSp        891 non-null    int64  \n",
            " 7   Parch        891 non-null    int64  \n",
            " 8   Ticket       891 non-null    object \n",
            " 9   Fare         891 non-null    float64\n",
            " 10  Cabin        204 non-null    object \n",
            " 11  Embarked     889 non-null    object \n",
            "dtypes: float64(2), int64(5), object(5)\n",
            "memory usage: 83.7+ KB\n"
          ]
        },
        {
          "data": {
            "text/plain": [
              "None"
            ]
          },
          "metadata": {},
          "output_type": "display_data"
        },
        {
          "name": "stdout",
          "output_type": "stream",
          "text": [
            "<class 'pandas.core.frame.DataFrame'>\n",
            "RangeIndex: 418 entries, 0 to 417\n",
            "Data columns (total 11 columns):\n",
            " #   Column       Non-Null Count  Dtype  \n",
            "---  ------       --------------  -----  \n",
            " 0   PassengerId  418 non-null    int64  \n",
            " 1   Pclass       418 non-null    int64  \n",
            " 2   Name         418 non-null    object \n",
            " 3   Sex          418 non-null    object \n",
            " 4   Age          332 non-null    float64\n",
            " 5   SibSp        418 non-null    int64  \n",
            " 6   Parch        418 non-null    int64  \n",
            " 7   Ticket       418 non-null    object \n",
            " 8   Fare         417 non-null    float64\n",
            " 9   Cabin        91 non-null     object \n",
            " 10  Embarked     418 non-null    object \n",
            "dtypes: float64(2), int64(4), object(5)\n",
            "memory usage: 36.0+ KB\n"
          ]
        },
        {
          "data": {
            "text/plain": [
              "None"
            ]
          },
          "metadata": {},
          "output_type": "display_data"
        }
      ],
      "source": [
        "display(data.info())\n",
        "display(submission.info())"
      ]
    },
    {
      "cell_type": "code",
      "execution_count": 832,
      "metadata": {
        "trusted": true
      },
      "outputs": [
        {
          "data": {
            "text/html": [
              "<div>\n",
              "<style scoped>\n",
              "    .dataframe tbody tr th:only-of-type {\n",
              "        vertical-align: middle;\n",
              "    }\n",
              "\n",
              "    .dataframe tbody tr th {\n",
              "        vertical-align: top;\n",
              "    }\n",
              "\n",
              "    .dataframe thead th {\n",
              "        text-align: right;\n",
              "    }\n",
              "</style>\n",
              "<table border=\"1\" class=\"dataframe\">\n",
              "  <thead>\n",
              "    <tr style=\"text-align: right;\">\n",
              "      <th></th>\n",
              "      <th>PassengerId</th>\n",
              "      <th>Survived</th>\n",
              "      <th>Pclass</th>\n",
              "      <th>Name</th>\n",
              "      <th>Sex</th>\n",
              "      <th>Age</th>\n",
              "      <th>SibSp</th>\n",
              "      <th>Parch</th>\n",
              "      <th>Ticket</th>\n",
              "      <th>Fare</th>\n",
              "      <th>Cabin</th>\n",
              "      <th>Embarked</th>\n",
              "    </tr>\n",
              "  </thead>\n",
              "  <tbody>\n",
              "    <tr>\n",
              "      <th>0</th>\n",
              "      <td>1</td>\n",
              "      <td>0</td>\n",
              "      <td>3</td>\n",
              "      <td>Braund, Mr. Owen Harris</td>\n",
              "      <td>male</td>\n",
              "      <td>22.0</td>\n",
              "      <td>1</td>\n",
              "      <td>0</td>\n",
              "      <td>A/5 21171</td>\n",
              "      <td>7.2500</td>\n",
              "      <td>NaN</td>\n",
              "      <td>S</td>\n",
              "    </tr>\n",
              "    <tr>\n",
              "      <th>1</th>\n",
              "      <td>2</td>\n",
              "      <td>1</td>\n",
              "      <td>1</td>\n",
              "      <td>Cumings, Mrs. John Bradley (Florence Briggs Th...</td>\n",
              "      <td>female</td>\n",
              "      <td>38.0</td>\n",
              "      <td>1</td>\n",
              "      <td>0</td>\n",
              "      <td>PC 17599</td>\n",
              "      <td>71.2833</td>\n",
              "      <td>C85</td>\n",
              "      <td>C</td>\n",
              "    </tr>\n",
              "    <tr>\n",
              "      <th>2</th>\n",
              "      <td>3</td>\n",
              "      <td>1</td>\n",
              "      <td>3</td>\n",
              "      <td>Heikkinen, Miss. Laina</td>\n",
              "      <td>female</td>\n",
              "      <td>26.0</td>\n",
              "      <td>0</td>\n",
              "      <td>0</td>\n",
              "      <td>STON/O2. 3101282</td>\n",
              "      <td>7.9250</td>\n",
              "      <td>NaN</td>\n",
              "      <td>S</td>\n",
              "    </tr>\n",
              "  </tbody>\n",
              "</table>\n",
              "</div>"
            ],
            "text/plain": [
              "   PassengerId  Survived  Pclass  \\\n",
              "0            1         0       3   \n",
              "1            2         1       1   \n",
              "2            3         1       3   \n",
              "\n",
              "                                                Name     Sex   Age  SibSp  \\\n",
              "0                            Braund, Mr. Owen Harris    male  22.0      1   \n",
              "1  Cumings, Mrs. John Bradley (Florence Briggs Th...  female  38.0      1   \n",
              "2                             Heikkinen, Miss. Laina  female  26.0      0   \n",
              "\n",
              "   Parch            Ticket     Fare Cabin Embarked  \n",
              "0      0         A/5 21171   7.2500   NaN        S  \n",
              "1      0          PC 17599  71.2833   C85        C  \n",
              "2      0  STON/O2. 3101282   7.9250   NaN        S  "
            ]
          },
          "metadata": {},
          "output_type": "display_data"
        },
        {
          "data": {
            "text/html": [
              "<div>\n",
              "<style scoped>\n",
              "    .dataframe tbody tr th:only-of-type {\n",
              "        vertical-align: middle;\n",
              "    }\n",
              "\n",
              "    .dataframe tbody tr th {\n",
              "        vertical-align: top;\n",
              "    }\n",
              "\n",
              "    .dataframe thead th {\n",
              "        text-align: right;\n",
              "    }\n",
              "</style>\n",
              "<table border=\"1\" class=\"dataframe\">\n",
              "  <thead>\n",
              "    <tr style=\"text-align: right;\">\n",
              "      <th></th>\n",
              "      <th>PassengerId</th>\n",
              "      <th>Pclass</th>\n",
              "      <th>Name</th>\n",
              "      <th>Sex</th>\n",
              "      <th>Age</th>\n",
              "      <th>SibSp</th>\n",
              "      <th>Parch</th>\n",
              "      <th>Ticket</th>\n",
              "      <th>Fare</th>\n",
              "      <th>Cabin</th>\n",
              "      <th>Embarked</th>\n",
              "    </tr>\n",
              "  </thead>\n",
              "  <tbody>\n",
              "    <tr>\n",
              "      <th>0</th>\n",
              "      <td>892</td>\n",
              "      <td>3</td>\n",
              "      <td>Kelly, Mr. James</td>\n",
              "      <td>male</td>\n",
              "      <td>34.5</td>\n",
              "      <td>0</td>\n",
              "      <td>0</td>\n",
              "      <td>330911</td>\n",
              "      <td>7.8292</td>\n",
              "      <td>NaN</td>\n",
              "      <td>Q</td>\n",
              "    </tr>\n",
              "    <tr>\n",
              "      <th>1</th>\n",
              "      <td>893</td>\n",
              "      <td>3</td>\n",
              "      <td>Wilkes, Mrs. James (Ellen Needs)</td>\n",
              "      <td>female</td>\n",
              "      <td>47.0</td>\n",
              "      <td>1</td>\n",
              "      <td>0</td>\n",
              "      <td>363272</td>\n",
              "      <td>7.0000</td>\n",
              "      <td>NaN</td>\n",
              "      <td>S</td>\n",
              "    </tr>\n",
              "    <tr>\n",
              "      <th>2</th>\n",
              "      <td>894</td>\n",
              "      <td>2</td>\n",
              "      <td>Myles, Mr. Thomas Francis</td>\n",
              "      <td>male</td>\n",
              "      <td>62.0</td>\n",
              "      <td>0</td>\n",
              "      <td>0</td>\n",
              "      <td>240276</td>\n",
              "      <td>9.6875</td>\n",
              "      <td>NaN</td>\n",
              "      <td>Q</td>\n",
              "    </tr>\n",
              "  </tbody>\n",
              "</table>\n",
              "</div>"
            ],
            "text/plain": [
              "   PassengerId  Pclass                              Name     Sex   Age  SibSp  \\\n",
              "0          892       3                  Kelly, Mr. James    male  34.5      0   \n",
              "1          893       3  Wilkes, Mrs. James (Ellen Needs)  female  47.0      1   \n",
              "2          894       2         Myles, Mr. Thomas Francis    male  62.0      0   \n",
              "\n",
              "   Parch  Ticket    Fare Cabin Embarked  \n",
              "0      0  330911  7.8292   NaN        Q  \n",
              "1      0  363272  7.0000   NaN        S  \n",
              "2      0  240276  9.6875   NaN        Q  "
            ]
          },
          "metadata": {},
          "output_type": "display_data"
        }
      ],
      "source": [
        "display(data.head(3))\n",
        "display(submission.head(3))"
      ]
    },
    {
      "cell_type": "code",
      "execution_count": 833,
      "metadata": {},
      "outputs": [
        {
          "data": {
            "text/html": [
              "<div>\n",
              "<style scoped>\n",
              "    .dataframe tbody tr th:only-of-type {\n",
              "        vertical-align: middle;\n",
              "    }\n",
              "\n",
              "    .dataframe tbody tr th {\n",
              "        vertical-align: top;\n",
              "    }\n",
              "\n",
              "    .dataframe thead th {\n",
              "        text-align: right;\n",
              "    }\n",
              "</style>\n",
              "<table border=\"1\" class=\"dataframe\">\n",
              "  <thead>\n",
              "    <tr style=\"text-align: right;\">\n",
              "      <th></th>\n",
              "      <th>PassengerId</th>\n",
              "      <th>Survived</th>\n",
              "      <th>Pclass</th>\n",
              "      <th>Age</th>\n",
              "      <th>SibSp</th>\n",
              "      <th>Parch</th>\n",
              "      <th>Fare</th>\n",
              "    </tr>\n",
              "  </thead>\n",
              "  <tbody>\n",
              "    <tr>\n",
              "      <th>count</th>\n",
              "      <td>891.000000</td>\n",
              "      <td>891.000000</td>\n",
              "      <td>891.000000</td>\n",
              "      <td>714.000000</td>\n",
              "      <td>891.000000</td>\n",
              "      <td>891.000000</td>\n",
              "      <td>891.000000</td>\n",
              "    </tr>\n",
              "    <tr>\n",
              "      <th>mean</th>\n",
              "      <td>446.000000</td>\n",
              "      <td>0.383838</td>\n",
              "      <td>2.308642</td>\n",
              "      <td>29.699118</td>\n",
              "      <td>0.523008</td>\n",
              "      <td>0.381594</td>\n",
              "      <td>32.204208</td>\n",
              "    </tr>\n",
              "    <tr>\n",
              "      <th>std</th>\n",
              "      <td>257.353842</td>\n",
              "      <td>0.486592</td>\n",
              "      <td>0.836071</td>\n",
              "      <td>14.526497</td>\n",
              "      <td>1.102743</td>\n",
              "      <td>0.806057</td>\n",
              "      <td>49.693429</td>\n",
              "    </tr>\n",
              "    <tr>\n",
              "      <th>min</th>\n",
              "      <td>1.000000</td>\n",
              "      <td>0.000000</td>\n",
              "      <td>1.000000</td>\n",
              "      <td>0.420000</td>\n",
              "      <td>0.000000</td>\n",
              "      <td>0.000000</td>\n",
              "      <td>0.000000</td>\n",
              "    </tr>\n",
              "    <tr>\n",
              "      <th>25%</th>\n",
              "      <td>223.500000</td>\n",
              "      <td>0.000000</td>\n",
              "      <td>2.000000</td>\n",
              "      <td>20.125000</td>\n",
              "      <td>0.000000</td>\n",
              "      <td>0.000000</td>\n",
              "      <td>7.910400</td>\n",
              "    </tr>\n",
              "    <tr>\n",
              "      <th>50%</th>\n",
              "      <td>446.000000</td>\n",
              "      <td>0.000000</td>\n",
              "      <td>3.000000</td>\n",
              "      <td>28.000000</td>\n",
              "      <td>0.000000</td>\n",
              "      <td>0.000000</td>\n",
              "      <td>14.454200</td>\n",
              "    </tr>\n",
              "    <tr>\n",
              "      <th>75%</th>\n",
              "      <td>668.500000</td>\n",
              "      <td>1.000000</td>\n",
              "      <td>3.000000</td>\n",
              "      <td>38.000000</td>\n",
              "      <td>1.000000</td>\n",
              "      <td>0.000000</td>\n",
              "      <td>31.000000</td>\n",
              "    </tr>\n",
              "    <tr>\n",
              "      <th>max</th>\n",
              "      <td>891.000000</td>\n",
              "      <td>1.000000</td>\n",
              "      <td>3.000000</td>\n",
              "      <td>80.000000</td>\n",
              "      <td>8.000000</td>\n",
              "      <td>6.000000</td>\n",
              "      <td>512.329200</td>\n",
              "    </tr>\n",
              "  </tbody>\n",
              "</table>\n",
              "</div>"
            ],
            "text/plain": [
              "       PassengerId    Survived      Pclass         Age       SibSp  \\\n",
              "count   891.000000  891.000000  891.000000  714.000000  891.000000   \n",
              "mean    446.000000    0.383838    2.308642   29.699118    0.523008   \n",
              "std     257.353842    0.486592    0.836071   14.526497    1.102743   \n",
              "min       1.000000    0.000000    1.000000    0.420000    0.000000   \n",
              "25%     223.500000    0.000000    2.000000   20.125000    0.000000   \n",
              "50%     446.000000    0.000000    3.000000   28.000000    0.000000   \n",
              "75%     668.500000    1.000000    3.000000   38.000000    1.000000   \n",
              "max     891.000000    1.000000    3.000000   80.000000    8.000000   \n",
              "\n",
              "            Parch        Fare  \n",
              "count  891.000000  891.000000  \n",
              "mean     0.381594   32.204208  \n",
              "std      0.806057   49.693429  \n",
              "min      0.000000    0.000000  \n",
              "25%      0.000000    7.910400  \n",
              "50%      0.000000   14.454200  \n",
              "75%      0.000000   31.000000  \n",
              "max      6.000000  512.329200  "
            ]
          },
          "metadata": {},
          "output_type": "display_data"
        }
      ],
      "source": [
        "display(data.describe())"
      ]
    },
    {
      "cell_type": "markdown",
      "metadata": {},
      "source": [
        "### `Data Pre-Processing`"
      ]
    },
    {
      "cell_type": "markdown",
      "metadata": {},
      "source": [
        "##### `Data Engineering`"
      ]
    },
    {
      "cell_type": "code",
      "execution_count": 834,
      "metadata": {},
      "outputs": [],
      "source": [
        "# Drop cols with NaN in train and test set\n",
        "cols_to_drop = [\"Name\", \"Fare\", \"Ticket\", \"Cabin\"]\n",
        "\n",
        "data = data.drop(columns=cols_to_drop)\n",
        "submission = submission.drop(columns=cols_to_drop)"
      ]
    },
    {
      "cell_type": "code",
      "execution_count": 835,
      "metadata": {},
      "outputs": [],
      "source": [
        "# Drop remaining rows with NaN in train set\n",
        "data = data.dropna(subset=[\"Age\", \"Embarked\"])"
      ]
    },
    {
      "cell_type": "code",
      "execution_count": 836,
      "metadata": {},
      "outputs": [],
      "source": [
        "# Define X and y\n",
        "X = data.drop(columns=[\"PassengerId\", \"Survived\"])\n",
        "y = data.loc[:, \"Survived\"]"
      ]
    },
    {
      "cell_type": "code",
      "execution_count": 837,
      "metadata": {},
      "outputs": [],
      "source": [
        "# Train-Test Split\n",
        "X_train, X_test, y_train, y_test = train_test_split(\n",
        "    X, y, test_size=0.10, random_state=42\n",
        ")"
      ]
    },
    {
      "cell_type": "markdown",
      "metadata": {},
      "source": [
        "##### `Feature Engineering`"
      ]
    },
    {
      "cell_type": "code",
      "execution_count": 838,
      "metadata": {},
      "outputs": [],
      "source": [
        "preprocessor = ColumnTransformer(\n",
        "    transformers=[], \n",
        "    remainder=\"passthrough\"\n",
        ")"
      ]
    },
    {
      "cell_type": "code",
      "execution_count": 839,
      "metadata": {},
      "outputs": [
        {
          "name": "stdout",
          "output_type": "stream",
          "text": [
            "Categorical Columns: ['Sex', 'Embarked']\n",
            "Numerical Columns: ['Pclass', 'Age', 'SibSp', 'Parch']\n"
          ]
        }
      ],
      "source": [
        "categorical_cols = X_train.select_dtypes(\n",
        "    include=[\"object\", \"category\"]\n",
        ").columns.tolist()\n",
        "\n",
        "numerical_cols = X_train.select_dtypes(\n",
        "    include=[\"int64\", \"float64\"]\n",
        ").columns.tolist()\n",
        "\n",
        "print(f\"Categorical Columns: {categorical_cols}\")\n",
        "print(f\"Numerical Columns: {numerical_cols}\")"
      ]
    },
    {
      "cell_type": "markdown",
      "metadata": {},
      "source": [
        "for `Classifiers`:"
      ]
    },
    {
      "cell_type": "code",
      "execution_count": 840,
      "metadata": {
        "trusted": true
      },
      "outputs": [],
      "source": [
        "if isinstance(estimator, (LogisticRegression, SVC, KNeighborsClassifier)):\n",
        "\n",
        "    # ----------------------------------------\n",
        "    # Numerical columns\n",
        "    # ----------------------------------------\n",
        "\n",
        "    # Polynomials\n",
        "    if polynomials is not None:\n",
        "        preprocessor.transformers.append(\n",
        "            (str(polynomials).replace(\"()\", \"\").lower(), polynomials, numerical_cols)\n",
        "        )\n",
        "\n",
        "    # Scaler\n",
        "    if scaler is not None:\n",
        "        preprocessor.transformers.append(\n",
        "            (str(scaler).replace(\"()\", \"\").lower(), scaler, numerical_cols)\n",
        "        )\n",
        "\n",
        "    # Mapping to Gaussian\n",
        "    if distribution_transformer is not None:\n",
        "        preprocessor.transformers.append(\n",
        "            (\n",
        "                str(distribution_transformer).replace(\"()\", \"\").lower(),\n",
        "                distribution_transformer,\n",
        "                numerical_cols,\n",
        "            )\n",
        "        )\n",
        "\n",
        "    # Discretizer\n",
        "\n",
        "    # ----------------------------------------\n",
        "    # Categorical columns\n",
        "    # ----------------------------------------\n",
        "\n",
        "    # One Hot Encoder\n",
        "    if one_hot_encoder is not None:\n",
        "        preprocessor.transformers.append(\n",
        "            (\n",
        "                str(one_hot_encoder).replace(\"()\", \"\").lower(),\n",
        "                one_hot_encoder,\n",
        "                categorical_cols,\n",
        "            )\n",
        "        )\n",
        "\n",
        "elif isinstance(\n",
        "    estimator, (RandomForestClassifier, GradientBoostingClassifier, XGBClassifier)\n",
        "):\n",
        "\n",
        "    # ----------------------------------------\n",
        "    # Numerical columns\n",
        "    # ----------------------------------------\n",
        "\n",
        "    # ...\n",
        "    # Mapping to Gaussian\n",
        "    if distribution_transformer is not None:\n",
        "        preprocessor.transformers.append(\n",
        "            (\n",
        "                str(distribution_transformer).replace(\"()\", \"\").lower(),\n",
        "                distribution_transformer,\n",
        "                numerical_cols,\n",
        "            )\n",
        "        )\n",
        "\n",
        "    # ----------------------------------------\n",
        "    # Categorical columns\n",
        "    # ----------------------------------------\n",
        "\n",
        "    # Target Encoder\n",
        "    if target_encoder is not None:\n",
        "        preprocessor.transformers.append(\n",
        "            (\n",
        "                str(target_encoder).replace(\"()\", \"\").lower(),\n",
        "                target_encoder,\n",
        "                categorical_cols,\n",
        "            )\n",
        "        )"
      ]
    },
    {
      "cell_type": "markdown",
      "metadata": {},
      "source": [
        "for `Regressors`:"
      ]
    },
    {
      "cell_type": "code",
      "execution_count": 841,
      "metadata": {},
      "outputs": [],
      "source": [
        "if isinstance(estimator, (Ridge, SVR, KNeighborsRegressor)):\n",
        "\n",
        "    # ----------------------------------------\n",
        "    # Numerical columns\n",
        "    # ----------------------------------------\n",
        "\n",
        "    # Polynomials\n",
        "    if polynomials is not None:\n",
        "        preprocessor.transformers.append(\n",
        "            (str(polynomials).replace(\"()\", \"\").lower(), polynomials, numerical_cols)\n",
        "        )\n",
        "\n",
        "    # Scaler\n",
        "    if scaler is not None:\n",
        "        preprocessor.transformers.append(\n",
        "            (str(scaler).replace(\"()\", \"\").lower(), scaler, numerical_cols)\n",
        "        )\n",
        "\n",
        "    # Mapping to Gaussian\n",
        "    if distribution_transformer is not None:\n",
        "        preprocessor.transformers.append(\n",
        "            (\n",
        "                str(distribution_transformer).replace(\"()\", \"\").lower(),\n",
        "                distribution_transformer,\n",
        "                numerical_cols,\n",
        "            )\n",
        "        )\n",
        "\n",
        "    # ----------------------------------------\n",
        "    # Categorical columns\n",
        "    # ----------------------------------------\n",
        "\n",
        "    # One Hot Encoder\n",
        "    if one_hot_encoder is not None:\n",
        "        preprocessor.transformers.append(\n",
        "            (\n",
        "                str(one_hot_encoder).replace(\"()\", \"\").lower(),\n",
        "                one_hot_encoder,\n",
        "                categorical_cols,\n",
        "            )\n",
        "        )"
      ]
    },
    {
      "cell_type": "markdown",
      "metadata": {},
      "source": [
        "### `Data Modeling`"
      ]
    },
    {
      "cell_type": "markdown",
      "metadata": {},
      "source": [
        "Pipeline"
      ]
    },
    {
      "cell_type": "code",
      "execution_count": 842,
      "metadata": {
        "trusted": true
      },
      "outputs": [],
      "source": [
        "pipeline = make_pipeline(preprocessor, estimator)"
      ]
    },
    {
      "cell_type": "markdown",
      "metadata": {},
      "source": [
        "Parameter Grid"
      ]
    },
    {
      "cell_type": "code",
      "execution_count": 843,
      "metadata": {
        "trusted": true
      },
      "outputs": [
        {
          "data": {
            "text/plain": [
              "{'randomforestclassifier__n_estimators': [500, 1000, 3000],\n",
              " 'randomforestclassifier__max_depth': [5, 10, 15, 20]}"
            ]
          },
          "metadata": {},
          "output_type": "display_data"
        }
      ],
      "source": [
        "# Define transformer params\n",
        "param_grid = {}\n",
        "\n",
        "# Add custom estimator params\n",
        "param_grid.update(estimator_grid)\n",
        "\n",
        "display(param_grid)"
      ]
    },
    {
      "cell_type": "markdown",
      "metadata": {},
      "source": [
        "Evaluation Metrics"
      ]
    },
    {
      "cell_type": "code",
      "execution_count": 844,
      "metadata": {
        "trusted": true
      },
      "outputs": [],
      "source": [
        "# ----------------------------------------\n",
        "# Classification\n",
        "# ----------------------------------------\n",
        "\n",
        "if task == \"Classification\":\n",
        "    metrics = [\"precision\", \"recall\"]\n",
        "\n",
        "    if primary_metric not in metrics:\n",
        "        message = f\"\"\" \n",
        "        Error: \"{primary_metric}\" is not a valid metric for {task} tasks.\n",
        "        Valid metrics are: {metrics}\n",
        "        \"\"\"\n",
        "        raise Exception(message)\n",
        "    else:\n",
        "        pass\n",
        "\n",
        "# ----------------------------------------\n",
        "# Regression\n",
        "# ----------------------------------------\n"
      ]
    },
    {
      "cell_type": "markdown",
      "metadata": {},
      "source": [
        "GridSearch"
      ]
    },
    {
      "cell_type": "code",
      "execution_count": 845,
      "metadata": {},
      "outputs": [],
      "source": [
        "grid = GridSearchCV(\n",
        "    estimator=pipeline,\n",
        "    param_grid=param_grid,\n",
        "    cv=3,\n",
        "    scoring=metrics,\n",
        "    refit=primary_metric,\n",
        "    return_train_score=True,\n",
        "    n_jobs=-1,\n",
        ")"
      ]
    },
    {
      "cell_type": "markdown",
      "metadata": {},
      "source": [
        "Training"
      ]
    },
    {
      "cell_type": "code",
      "execution_count": 846,
      "metadata": {},
      "outputs": [
        {
          "data": {
            "text/html": [
              "<style>#sk-container-id-38 {color: black;}#sk-container-id-38 pre{padding: 0;}#sk-container-id-38 div.sk-toggleable {background-color: white;}#sk-container-id-38 label.sk-toggleable__label {cursor: pointer;display: block;width: 100%;margin-bottom: 0;padding: 0.3em;box-sizing: border-box;text-align: center;}#sk-container-id-38 label.sk-toggleable__label-arrow:before {content: \"▸\";float: left;margin-right: 0.25em;color: #696969;}#sk-container-id-38 label.sk-toggleable__label-arrow:hover:before {color: black;}#sk-container-id-38 div.sk-estimator:hover label.sk-toggleable__label-arrow:before {color: black;}#sk-container-id-38 div.sk-toggleable__content {max-height: 0;max-width: 0;overflow: hidden;text-align: left;background-color: #f0f8ff;}#sk-container-id-38 div.sk-toggleable__content pre {margin: 0.2em;color: black;border-radius: 0.25em;background-color: #f0f8ff;}#sk-container-id-38 input.sk-toggleable__control:checked~div.sk-toggleable__content {max-height: 200px;max-width: 100%;overflow: auto;}#sk-container-id-38 input.sk-toggleable__control:checked~label.sk-toggleable__label-arrow:before {content: \"▾\";}#sk-container-id-38 div.sk-estimator input.sk-toggleable__control:checked~label.sk-toggleable__label {background-color: #d4ebff;}#sk-container-id-38 div.sk-label input.sk-toggleable__control:checked~label.sk-toggleable__label {background-color: #d4ebff;}#sk-container-id-38 input.sk-hidden--visually {border: 0;clip: rect(1px 1px 1px 1px);clip: rect(1px, 1px, 1px, 1px);height: 1px;margin: -1px;overflow: hidden;padding: 0;position: absolute;width: 1px;}#sk-container-id-38 div.sk-estimator {font-family: monospace;background-color: #f0f8ff;border: 1px dotted black;border-radius: 0.25em;box-sizing: border-box;margin-bottom: 0.5em;}#sk-container-id-38 div.sk-estimator:hover {background-color: #d4ebff;}#sk-container-id-38 div.sk-parallel-item::after {content: \"\";width: 100%;border-bottom: 1px solid gray;flex-grow: 1;}#sk-container-id-38 div.sk-label:hover label.sk-toggleable__label {background-color: #d4ebff;}#sk-container-id-38 div.sk-serial::before {content: \"\";position: absolute;border-left: 1px solid gray;box-sizing: border-box;top: 0;bottom: 0;left: 50%;z-index: 0;}#sk-container-id-38 div.sk-serial {display: flex;flex-direction: column;align-items: center;background-color: white;padding-right: 0.2em;padding-left: 0.2em;position: relative;}#sk-container-id-38 div.sk-item {position: relative;z-index: 1;}#sk-container-id-38 div.sk-parallel {display: flex;align-items: stretch;justify-content: center;background-color: white;position: relative;}#sk-container-id-38 div.sk-item::before, #sk-container-id-38 div.sk-parallel-item::before {content: \"\";position: absolute;border-left: 1px solid gray;box-sizing: border-box;top: 0;bottom: 0;left: 50%;z-index: -1;}#sk-container-id-38 div.sk-parallel-item {display: flex;flex-direction: column;z-index: 1;position: relative;background-color: white;}#sk-container-id-38 div.sk-parallel-item:first-child::after {align-self: flex-end;width: 50%;}#sk-container-id-38 div.sk-parallel-item:last-child::after {align-self: flex-start;width: 50%;}#sk-container-id-38 div.sk-parallel-item:only-child::after {width: 0;}#sk-container-id-38 div.sk-dashed-wrapped {border: 1px dashed gray;margin: 0 0.4em 0.5em 0.4em;box-sizing: border-box;padding-bottom: 0.4em;background-color: white;}#sk-container-id-38 div.sk-label label {font-family: monospace;font-weight: bold;display: inline-block;line-height: 1.2em;}#sk-container-id-38 div.sk-label-container {text-align: center;}#sk-container-id-38 div.sk-container {/* jupyter's `normalize.less` sets `[hidden] { display: none; }` but bootstrap.min.css set `[hidden] { display: none !important; }` so we also need the `!important` here to be able to override the default hidden behavior on the sphinx rendered scikit-learn.org. See: https://github.com/scikit-learn/scikit-learn/issues/21755 */display: inline-block !important;position: relative;}#sk-container-id-38 div.sk-text-repr-fallback {display: none;}</style><div id=\"sk-container-id-38\" class=\"sk-top-container\"><div class=\"sk-text-repr-fallback\"><pre>GridSearchCV(cv=3,\n",
              "             estimator=Pipeline(steps=[(&#x27;columntransformer&#x27;,\n",
              "                                        ColumnTransformer(remainder=&#x27;passthrough&#x27;,\n",
              "                                                          transformers=[(&#x27;quantiletransformer(n_quantiles=20, &#x27;\n",
              "                                                                         &quot;output_distribution=&#x27;normal&#x27;,\\n&quot;\n",
              "                                                                         &#x27;                    &#x27;\n",
              "                                                                         &#x27;random_state=42)&#x27;,\n",
              "                                                                         QuantileTransformer(n_quantiles=20,\n",
              "                                                                                             output_distribution=&#x27;normal&#x27;,\n",
              "                                                                                             random_state=42),\n",
              "                                                                         [&#x27;Pclass&#x27;,\n",
              "                                                                          &#x27;Age&#x27;,\n",
              "                                                                          &#x27;SibSp&#x27;,\n",
              "                                                                          &#x27;Parch&#x27;]),\n",
              "                                                                        (&#x27;targetencoder&#x27;,\n",
              "                                                                         TargetEncoder(),\n",
              "                                                                         [&#x27;Sex&#x27;,\n",
              "                                                                          &#x27;Embarked&#x27;])])),\n",
              "                                       (&#x27;randomforestclassifier&#x27;,\n",
              "                                        RandomForestClassifier(n_jobs=-1))]),\n",
              "             n_jobs=-1,\n",
              "             param_grid={&#x27;randomforestclassifier__max_depth&#x27;: [5, 10, 15, 20],\n",
              "                         &#x27;randomforestclassifier__n_estimators&#x27;: [500, 1000,\n",
              "                                                                  3000]},\n",
              "             refit=&#x27;recall&#x27;, return_train_score=True,\n",
              "             scoring=[&#x27;precision&#x27;, &#x27;recall&#x27;])</pre><b>In a Jupyter environment, please rerun this cell to show the HTML representation or trust the notebook. <br />On GitHub, the HTML representation is unable to render, please try loading this page with nbviewer.org.</b></div><div class=\"sk-container\" hidden><div class=\"sk-item sk-dashed-wrapped\"><div class=\"sk-label-container\"><div class=\"sk-label sk-toggleable\"><input class=\"sk-toggleable__control sk-hidden--visually\" id=\"sk-estimator-id-354\" type=\"checkbox\" ><label for=\"sk-estimator-id-354\" class=\"sk-toggleable__label sk-toggleable__label-arrow\">GridSearchCV</label><div class=\"sk-toggleable__content\"><pre>GridSearchCV(cv=3,\n",
              "             estimator=Pipeline(steps=[(&#x27;columntransformer&#x27;,\n",
              "                                        ColumnTransformer(remainder=&#x27;passthrough&#x27;,\n",
              "                                                          transformers=[(&#x27;quantiletransformer(n_quantiles=20, &#x27;\n",
              "                                                                         &quot;output_distribution=&#x27;normal&#x27;,\\n&quot;\n",
              "                                                                         &#x27;                    &#x27;\n",
              "                                                                         &#x27;random_state=42)&#x27;,\n",
              "                                                                         QuantileTransformer(n_quantiles=20,\n",
              "                                                                                             output_distribution=&#x27;normal&#x27;,\n",
              "                                                                                             random_state=42),\n",
              "                                                                         [&#x27;Pclass&#x27;,\n",
              "                                                                          &#x27;Age&#x27;,\n",
              "                                                                          &#x27;SibSp&#x27;,\n",
              "                                                                          &#x27;Parch&#x27;]),\n",
              "                                                                        (&#x27;targetencoder&#x27;,\n",
              "                                                                         TargetEncoder(),\n",
              "                                                                         [&#x27;Sex&#x27;,\n",
              "                                                                          &#x27;Embarked&#x27;])])),\n",
              "                                       (&#x27;randomforestclassifier&#x27;,\n",
              "                                        RandomForestClassifier(n_jobs=-1))]),\n",
              "             n_jobs=-1,\n",
              "             param_grid={&#x27;randomforestclassifier__max_depth&#x27;: [5, 10, 15, 20],\n",
              "                         &#x27;randomforestclassifier__n_estimators&#x27;: [500, 1000,\n",
              "                                                                  3000]},\n",
              "             refit=&#x27;recall&#x27;, return_train_score=True,\n",
              "             scoring=[&#x27;precision&#x27;, &#x27;recall&#x27;])</pre></div></div></div><div class=\"sk-parallel\"><div class=\"sk-parallel-item\"><div class=\"sk-item\"><div class=\"sk-label-container\"><div class=\"sk-label sk-toggleable\"><input class=\"sk-toggleable__control sk-hidden--visually\" id=\"sk-estimator-id-355\" type=\"checkbox\" ><label for=\"sk-estimator-id-355\" class=\"sk-toggleable__label sk-toggleable__label-arrow\">estimator: Pipeline</label><div class=\"sk-toggleable__content\"><pre>Pipeline(steps=[(&#x27;columntransformer&#x27;,\n",
              "                 ColumnTransformer(remainder=&#x27;passthrough&#x27;,\n",
              "                                   transformers=[(&#x27;quantiletransformer(n_quantiles=20, &#x27;\n",
              "                                                  &quot;output_distribution=&#x27;normal&#x27;,\\n&quot;\n",
              "                                                  &#x27;                    &#x27;\n",
              "                                                  &#x27;random_state=42)&#x27;,\n",
              "                                                  QuantileTransformer(n_quantiles=20,\n",
              "                                                                      output_distribution=&#x27;normal&#x27;,\n",
              "                                                                      random_state=42),\n",
              "                                                  [&#x27;Pclass&#x27;, &#x27;Age&#x27;, &#x27;SibSp&#x27;,\n",
              "                                                   &#x27;Parch&#x27;]),\n",
              "                                                 (&#x27;targetencoder&#x27;,\n",
              "                                                  TargetEncoder(),\n",
              "                                                  [&#x27;Sex&#x27;, &#x27;Embarked&#x27;])])),\n",
              "                (&#x27;randomforestclassifier&#x27;, RandomForestClassifier(n_jobs=-1))])</pre></div></div></div><div class=\"sk-serial\"><div class=\"sk-item\"><div class=\"sk-serial\"><div class=\"sk-item sk-dashed-wrapped\"><div class=\"sk-label-container\"><div class=\"sk-label sk-toggleable\"><input class=\"sk-toggleable__control sk-hidden--visually\" id=\"sk-estimator-id-356\" type=\"checkbox\" ><label for=\"sk-estimator-id-356\" class=\"sk-toggleable__label sk-toggleable__label-arrow\">columntransformer: ColumnTransformer</label><div class=\"sk-toggleable__content\"><pre>ColumnTransformer(remainder=&#x27;passthrough&#x27;,\n",
              "                  transformers=[(&#x27;quantiletransformer(n_quantiles=20, &#x27;\n",
              "                                 &quot;output_distribution=&#x27;normal&#x27;,\\n&quot;\n",
              "                                 &#x27;                    random_state=42)&#x27;,\n",
              "                                 QuantileTransformer(n_quantiles=20,\n",
              "                                                     output_distribution=&#x27;normal&#x27;,\n",
              "                                                     random_state=42),\n",
              "                                 [&#x27;Pclass&#x27;, &#x27;Age&#x27;, &#x27;SibSp&#x27;, &#x27;Parch&#x27;]),\n",
              "                                (&#x27;targetencoder&#x27;, TargetEncoder(),\n",
              "                                 [&#x27;Sex&#x27;, &#x27;Embarked&#x27;])])</pre></div></div></div><div class=\"sk-parallel\"><div class=\"sk-parallel-item\"><div class=\"sk-item\"><div class=\"sk-label-container\"><div class=\"sk-label sk-toggleable\"><input class=\"sk-toggleable__control sk-hidden--visually\" id=\"sk-estimator-id-357\" type=\"checkbox\" ><label for=\"sk-estimator-id-357\" class=\"sk-toggleable__label sk-toggleable__label-arrow\">quantiletransformer(n_quantiles=20, output_distribution=&#x27;normal&#x27;,\n",
              "                    random_state=42)</label><div class=\"sk-toggleable__content\"><pre>[&#x27;Pclass&#x27;, &#x27;Age&#x27;, &#x27;SibSp&#x27;, &#x27;Parch&#x27;]</pre></div></div></div><div class=\"sk-serial\"><div class=\"sk-item\"><div class=\"sk-estimator sk-toggleable\"><input class=\"sk-toggleable__control sk-hidden--visually\" id=\"sk-estimator-id-358\" type=\"checkbox\" ><label for=\"sk-estimator-id-358\" class=\"sk-toggleable__label sk-toggleable__label-arrow\">QuantileTransformer</label><div class=\"sk-toggleable__content\"><pre>QuantileTransformer(n_quantiles=20, output_distribution=&#x27;normal&#x27;,\n",
              "                    random_state=42)</pre></div></div></div></div></div></div><div class=\"sk-parallel-item\"><div class=\"sk-item\"><div class=\"sk-label-container\"><div class=\"sk-label sk-toggleable\"><input class=\"sk-toggleable__control sk-hidden--visually\" id=\"sk-estimator-id-359\" type=\"checkbox\" ><label for=\"sk-estimator-id-359\" class=\"sk-toggleable__label sk-toggleable__label-arrow\">targetencoder</label><div class=\"sk-toggleable__content\"><pre>[&#x27;Sex&#x27;, &#x27;Embarked&#x27;]</pre></div></div></div><div class=\"sk-serial\"><div class=\"sk-item\"><div class=\"sk-estimator sk-toggleable\"><input class=\"sk-toggleable__control sk-hidden--visually\" id=\"sk-estimator-id-360\" type=\"checkbox\" ><label for=\"sk-estimator-id-360\" class=\"sk-toggleable__label sk-toggleable__label-arrow\">TargetEncoder</label><div class=\"sk-toggleable__content\"><pre>TargetEncoder()</pre></div></div></div></div></div></div><div class=\"sk-parallel-item\"><div class=\"sk-item\"><div class=\"sk-label-container\"><div class=\"sk-label sk-toggleable\"><input class=\"sk-toggleable__control sk-hidden--visually\" id=\"sk-estimator-id-361\" type=\"checkbox\" ><label for=\"sk-estimator-id-361\" class=\"sk-toggleable__label sk-toggleable__label-arrow\">remainder</label><div class=\"sk-toggleable__content\"><pre></pre></div></div></div><div class=\"sk-serial\"><div class=\"sk-item\"><div class=\"sk-estimator sk-toggleable\"><input class=\"sk-toggleable__control sk-hidden--visually\" id=\"sk-estimator-id-362\" type=\"checkbox\" ><label for=\"sk-estimator-id-362\" class=\"sk-toggleable__label sk-toggleable__label-arrow\">passthrough</label><div class=\"sk-toggleable__content\"><pre>passthrough</pre></div></div></div></div></div></div></div></div><div class=\"sk-item\"><div class=\"sk-estimator sk-toggleable\"><input class=\"sk-toggleable__control sk-hidden--visually\" id=\"sk-estimator-id-363\" type=\"checkbox\" ><label for=\"sk-estimator-id-363\" class=\"sk-toggleable__label sk-toggleable__label-arrow\">RandomForestClassifier</label><div class=\"sk-toggleable__content\"><pre>RandomForestClassifier(n_jobs=-1)</pre></div></div></div></div></div></div></div></div></div></div></div></div>"
            ],
            "text/plain": [
              "GridSearchCV(cv=3,\n",
              "             estimator=Pipeline(steps=[('columntransformer',\n",
              "                                        ColumnTransformer(remainder='passthrough',\n",
              "                                                          transformers=[('quantiletransformer(n_quantiles=20, '\n",
              "                                                                         \"output_distribution='normal',\\n\"\n",
              "                                                                         '                    '\n",
              "                                                                         'random_state=42)',\n",
              "                                                                         QuantileTransformer(n_quantiles=20,\n",
              "                                                                                             output_distribution='normal',\n",
              "                                                                                             random_state=42),\n",
              "                                                                         ['Pclass',\n",
              "                                                                          'Age',\n",
              "                                                                          'SibSp',\n",
              "                                                                          'Parch']),\n",
              "                                                                        ('targetencoder',\n",
              "                                                                         TargetEncoder(),\n",
              "                                                                         ['Sex',\n",
              "                                                                          'Embarked'])])),\n",
              "                                       ('randomforestclassifier',\n",
              "                                        RandomForestClassifier(n_jobs=-1))]),\n",
              "             n_jobs=-1,\n",
              "             param_grid={'randomforestclassifier__max_depth': [5, 10, 15, 20],\n",
              "                         'randomforestclassifier__n_estimators': [500, 1000,\n",
              "                                                                  3000]},\n",
              "             refit='recall', return_train_score=True,\n",
              "             scoring=['precision', 'recall'])"
            ]
          },
          "execution_count": 846,
          "metadata": {},
          "output_type": "execute_result"
        }
      ],
      "source": [
        "grid.fit(X_train, y_train)"
      ]
    },
    {
      "cell_type": "markdown",
      "metadata": {},
      "source": [
        "### `Model Evaluation`"
      ]
    },
    {
      "cell_type": "markdown",
      "metadata": {},
      "source": [
        "Best Estimator"
      ]
    },
    {
      "cell_type": "code",
      "execution_count": 847,
      "metadata": {},
      "outputs": [
        {
          "name": "stdout",
          "output_type": "stream",
          "text": [
            "Best parameters (CV Score=0.717): {'randomforestclassifier__max_depth': 20, 'randomforestclassifier__n_estimators': 3000}\n"
          ]
        }
      ],
      "source": [
        "print(\"Best parameters (CV Score=%0.3f):\" % grid.best_score_, grid.best_params_)"
      ]
    },
    {
      "cell_type": "code",
      "execution_count": 848,
      "metadata": {},
      "outputs": [
        {
          "data": {
            "text/html": [
              "<style>#sk-container-id-39 {color: black;}#sk-container-id-39 pre{padding: 0;}#sk-container-id-39 div.sk-toggleable {background-color: white;}#sk-container-id-39 label.sk-toggleable__label {cursor: pointer;display: block;width: 100%;margin-bottom: 0;padding: 0.3em;box-sizing: border-box;text-align: center;}#sk-container-id-39 label.sk-toggleable__label-arrow:before {content: \"▸\";float: left;margin-right: 0.25em;color: #696969;}#sk-container-id-39 label.sk-toggleable__label-arrow:hover:before {color: black;}#sk-container-id-39 div.sk-estimator:hover label.sk-toggleable__label-arrow:before {color: black;}#sk-container-id-39 div.sk-toggleable__content {max-height: 0;max-width: 0;overflow: hidden;text-align: left;background-color: #f0f8ff;}#sk-container-id-39 div.sk-toggleable__content pre {margin: 0.2em;color: black;border-radius: 0.25em;background-color: #f0f8ff;}#sk-container-id-39 input.sk-toggleable__control:checked~div.sk-toggleable__content {max-height: 200px;max-width: 100%;overflow: auto;}#sk-container-id-39 input.sk-toggleable__control:checked~label.sk-toggleable__label-arrow:before {content: \"▾\";}#sk-container-id-39 div.sk-estimator input.sk-toggleable__control:checked~label.sk-toggleable__label {background-color: #d4ebff;}#sk-container-id-39 div.sk-label input.sk-toggleable__control:checked~label.sk-toggleable__label {background-color: #d4ebff;}#sk-container-id-39 input.sk-hidden--visually {border: 0;clip: rect(1px 1px 1px 1px);clip: rect(1px, 1px, 1px, 1px);height: 1px;margin: -1px;overflow: hidden;padding: 0;position: absolute;width: 1px;}#sk-container-id-39 div.sk-estimator {font-family: monospace;background-color: #f0f8ff;border: 1px dotted black;border-radius: 0.25em;box-sizing: border-box;margin-bottom: 0.5em;}#sk-container-id-39 div.sk-estimator:hover {background-color: #d4ebff;}#sk-container-id-39 div.sk-parallel-item::after {content: \"\";width: 100%;border-bottom: 1px solid gray;flex-grow: 1;}#sk-container-id-39 div.sk-label:hover label.sk-toggleable__label {background-color: #d4ebff;}#sk-container-id-39 div.sk-serial::before {content: \"\";position: absolute;border-left: 1px solid gray;box-sizing: border-box;top: 0;bottom: 0;left: 50%;z-index: 0;}#sk-container-id-39 div.sk-serial {display: flex;flex-direction: column;align-items: center;background-color: white;padding-right: 0.2em;padding-left: 0.2em;position: relative;}#sk-container-id-39 div.sk-item {position: relative;z-index: 1;}#sk-container-id-39 div.sk-parallel {display: flex;align-items: stretch;justify-content: center;background-color: white;position: relative;}#sk-container-id-39 div.sk-item::before, #sk-container-id-39 div.sk-parallel-item::before {content: \"\";position: absolute;border-left: 1px solid gray;box-sizing: border-box;top: 0;bottom: 0;left: 50%;z-index: -1;}#sk-container-id-39 div.sk-parallel-item {display: flex;flex-direction: column;z-index: 1;position: relative;background-color: white;}#sk-container-id-39 div.sk-parallel-item:first-child::after {align-self: flex-end;width: 50%;}#sk-container-id-39 div.sk-parallel-item:last-child::after {align-self: flex-start;width: 50%;}#sk-container-id-39 div.sk-parallel-item:only-child::after {width: 0;}#sk-container-id-39 div.sk-dashed-wrapped {border: 1px dashed gray;margin: 0 0.4em 0.5em 0.4em;box-sizing: border-box;padding-bottom: 0.4em;background-color: white;}#sk-container-id-39 div.sk-label label {font-family: monospace;font-weight: bold;display: inline-block;line-height: 1.2em;}#sk-container-id-39 div.sk-label-container {text-align: center;}#sk-container-id-39 div.sk-container {/* jupyter's `normalize.less` sets `[hidden] { display: none; }` but bootstrap.min.css set `[hidden] { display: none !important; }` so we also need the `!important` here to be able to override the default hidden behavior on the sphinx rendered scikit-learn.org. See: https://github.com/scikit-learn/scikit-learn/issues/21755 */display: inline-block !important;position: relative;}#sk-container-id-39 div.sk-text-repr-fallback {display: none;}</style><div id=\"sk-container-id-39\" class=\"sk-top-container\"><div class=\"sk-text-repr-fallback\"><pre>Pipeline(steps=[(&#x27;columntransformer&#x27;,\n",
              "                 ColumnTransformer(remainder=&#x27;passthrough&#x27;,\n",
              "                                   transformers=[(&#x27;quantiletransformer(n_quantiles=20, &#x27;\n",
              "                                                  &quot;output_distribution=&#x27;normal&#x27;,\\n&quot;\n",
              "                                                  &#x27;                    &#x27;\n",
              "                                                  &#x27;random_state=42)&#x27;,\n",
              "                                                  QuantileTransformer(n_quantiles=20,\n",
              "                                                                      output_distribution=&#x27;normal&#x27;,\n",
              "                                                                      random_state=42),\n",
              "                                                  [&#x27;Pclass&#x27;, &#x27;Age&#x27;, &#x27;SibSp&#x27;,\n",
              "                                                   &#x27;Parch&#x27;]),\n",
              "                                                 (&#x27;targetencoder&#x27;,\n",
              "                                                  TargetEncoder(),\n",
              "                                                  [&#x27;Sex&#x27;, &#x27;Embarked&#x27;])])),\n",
              "                (&#x27;randomforestclassifier&#x27;,\n",
              "                 RandomForestClassifier(max_depth=20, n_estimators=3000,\n",
              "                                        n_jobs=-1))])</pre><b>In a Jupyter environment, please rerun this cell to show the HTML representation or trust the notebook. <br />On GitHub, the HTML representation is unable to render, please try loading this page with nbviewer.org.</b></div><div class=\"sk-container\" hidden><div class=\"sk-item sk-dashed-wrapped\"><div class=\"sk-label-container\"><div class=\"sk-label sk-toggleable\"><input class=\"sk-toggleable__control sk-hidden--visually\" id=\"sk-estimator-id-364\" type=\"checkbox\" ><label for=\"sk-estimator-id-364\" class=\"sk-toggleable__label sk-toggleable__label-arrow\">Pipeline</label><div class=\"sk-toggleable__content\"><pre>Pipeline(steps=[(&#x27;columntransformer&#x27;,\n",
              "                 ColumnTransformer(remainder=&#x27;passthrough&#x27;,\n",
              "                                   transformers=[(&#x27;quantiletransformer(n_quantiles=20, &#x27;\n",
              "                                                  &quot;output_distribution=&#x27;normal&#x27;,\\n&quot;\n",
              "                                                  &#x27;                    &#x27;\n",
              "                                                  &#x27;random_state=42)&#x27;,\n",
              "                                                  QuantileTransformer(n_quantiles=20,\n",
              "                                                                      output_distribution=&#x27;normal&#x27;,\n",
              "                                                                      random_state=42),\n",
              "                                                  [&#x27;Pclass&#x27;, &#x27;Age&#x27;, &#x27;SibSp&#x27;,\n",
              "                                                   &#x27;Parch&#x27;]),\n",
              "                                                 (&#x27;targetencoder&#x27;,\n",
              "                                                  TargetEncoder(),\n",
              "                                                  [&#x27;Sex&#x27;, &#x27;Embarked&#x27;])])),\n",
              "                (&#x27;randomforestclassifier&#x27;,\n",
              "                 RandomForestClassifier(max_depth=20, n_estimators=3000,\n",
              "                                        n_jobs=-1))])</pre></div></div></div><div class=\"sk-serial\"><div class=\"sk-item sk-dashed-wrapped\"><div class=\"sk-label-container\"><div class=\"sk-label sk-toggleable\"><input class=\"sk-toggleable__control sk-hidden--visually\" id=\"sk-estimator-id-365\" type=\"checkbox\" ><label for=\"sk-estimator-id-365\" class=\"sk-toggleable__label sk-toggleable__label-arrow\">columntransformer: ColumnTransformer</label><div class=\"sk-toggleable__content\"><pre>ColumnTransformer(remainder=&#x27;passthrough&#x27;,\n",
              "                  transformers=[(&#x27;quantiletransformer(n_quantiles=20, &#x27;\n",
              "                                 &quot;output_distribution=&#x27;normal&#x27;,\\n&quot;\n",
              "                                 &#x27;                    random_state=42)&#x27;,\n",
              "                                 QuantileTransformer(n_quantiles=20,\n",
              "                                                     output_distribution=&#x27;normal&#x27;,\n",
              "                                                     random_state=42),\n",
              "                                 [&#x27;Pclass&#x27;, &#x27;Age&#x27;, &#x27;SibSp&#x27;, &#x27;Parch&#x27;]),\n",
              "                                (&#x27;targetencoder&#x27;, TargetEncoder(),\n",
              "                                 [&#x27;Sex&#x27;, &#x27;Embarked&#x27;])])</pre></div></div></div><div class=\"sk-parallel\"><div class=\"sk-parallel-item\"><div class=\"sk-item\"><div class=\"sk-label-container\"><div class=\"sk-label sk-toggleable\"><input class=\"sk-toggleable__control sk-hidden--visually\" id=\"sk-estimator-id-366\" type=\"checkbox\" ><label for=\"sk-estimator-id-366\" class=\"sk-toggleable__label sk-toggleable__label-arrow\">quantiletransformer(n_quantiles=20, output_distribution=&#x27;normal&#x27;,\n",
              "                    random_state=42)</label><div class=\"sk-toggleable__content\"><pre>[&#x27;Pclass&#x27;, &#x27;Age&#x27;, &#x27;SibSp&#x27;, &#x27;Parch&#x27;]</pre></div></div></div><div class=\"sk-serial\"><div class=\"sk-item\"><div class=\"sk-estimator sk-toggleable\"><input class=\"sk-toggleable__control sk-hidden--visually\" id=\"sk-estimator-id-367\" type=\"checkbox\" ><label for=\"sk-estimator-id-367\" class=\"sk-toggleable__label sk-toggleable__label-arrow\">QuantileTransformer</label><div class=\"sk-toggleable__content\"><pre>QuantileTransformer(n_quantiles=20, output_distribution=&#x27;normal&#x27;,\n",
              "                    random_state=42)</pre></div></div></div></div></div></div><div class=\"sk-parallel-item\"><div class=\"sk-item\"><div class=\"sk-label-container\"><div class=\"sk-label sk-toggleable\"><input class=\"sk-toggleable__control sk-hidden--visually\" id=\"sk-estimator-id-368\" type=\"checkbox\" ><label for=\"sk-estimator-id-368\" class=\"sk-toggleable__label sk-toggleable__label-arrow\">targetencoder</label><div class=\"sk-toggleable__content\"><pre>[&#x27;Sex&#x27;, &#x27;Embarked&#x27;]</pre></div></div></div><div class=\"sk-serial\"><div class=\"sk-item\"><div class=\"sk-estimator sk-toggleable\"><input class=\"sk-toggleable__control sk-hidden--visually\" id=\"sk-estimator-id-369\" type=\"checkbox\" ><label for=\"sk-estimator-id-369\" class=\"sk-toggleable__label sk-toggleable__label-arrow\">TargetEncoder</label><div class=\"sk-toggleable__content\"><pre>TargetEncoder()</pre></div></div></div></div></div></div><div class=\"sk-parallel-item\"><div class=\"sk-item\"><div class=\"sk-label-container\"><div class=\"sk-label sk-toggleable\"><input class=\"sk-toggleable__control sk-hidden--visually\" id=\"sk-estimator-id-370\" type=\"checkbox\" ><label for=\"sk-estimator-id-370\" class=\"sk-toggleable__label sk-toggleable__label-arrow\">remainder</label><div class=\"sk-toggleable__content\"><pre>[]</pre></div></div></div><div class=\"sk-serial\"><div class=\"sk-item\"><div class=\"sk-estimator sk-toggleable\"><input class=\"sk-toggleable__control sk-hidden--visually\" id=\"sk-estimator-id-371\" type=\"checkbox\" ><label for=\"sk-estimator-id-371\" class=\"sk-toggleable__label sk-toggleable__label-arrow\">passthrough</label><div class=\"sk-toggleable__content\"><pre>passthrough</pre></div></div></div></div></div></div></div></div><div class=\"sk-item\"><div class=\"sk-estimator sk-toggleable\"><input class=\"sk-toggleable__control sk-hidden--visually\" id=\"sk-estimator-id-372\" type=\"checkbox\" ><label for=\"sk-estimator-id-372\" class=\"sk-toggleable__label sk-toggleable__label-arrow\">RandomForestClassifier</label><div class=\"sk-toggleable__content\"><pre>RandomForestClassifier(max_depth=20, n_estimators=3000, n_jobs=-1)</pre></div></div></div></div></div></div></div>"
            ],
            "text/plain": [
              "Pipeline(steps=[('columntransformer',\n",
              "                 ColumnTransformer(remainder='passthrough',\n",
              "                                   transformers=[('quantiletransformer(n_quantiles=20, '\n",
              "                                                  \"output_distribution='normal',\\n\"\n",
              "                                                  '                    '\n",
              "                                                  'random_state=42)',\n",
              "                                                  QuantileTransformer(n_quantiles=20,\n",
              "                                                                      output_distribution='normal',\n",
              "                                                                      random_state=42),\n",
              "                                                  ['Pclass', 'Age', 'SibSp',\n",
              "                                                   'Parch']),\n",
              "                                                 ('targetencoder',\n",
              "                                                  TargetEncoder(),\n",
              "                                                  ['Sex', 'Embarked'])])),\n",
              "                ('randomforestclassifier',\n",
              "                 RandomForestClassifier(max_depth=20, n_estimators=3000,\n",
              "                                        n_jobs=-1))])"
            ]
          },
          "metadata": {},
          "output_type": "display_data"
        }
      ],
      "source": [
        "display(grid.best_estimator_)"
      ]
    },
    {
      "cell_type": "markdown",
      "metadata": {},
      "source": [
        "##### `Evaluation on Training Data`"
      ]
    },
    {
      "cell_type": "markdown",
      "metadata": {},
      "source": [
        "CV Results"
      ]
    },
    {
      "cell_type": "code",
      "execution_count": 849,
      "metadata": {},
      "outputs": [
        {
          "data": {
            "text/html": [
              "<div>\n",
              "<style scoped>\n",
              "    .dataframe tbody tr th:only-of-type {\n",
              "        vertical-align: middle;\n",
              "    }\n",
              "\n",
              "    .dataframe tbody tr th {\n",
              "        vertical-align: top;\n",
              "    }\n",
              "\n",
              "    .dataframe thead th {\n",
              "        text-align: right;\n",
              "    }\n",
              "</style>\n",
              "<table border=\"1\" class=\"dataframe\">\n",
              "  <thead>\n",
              "    <tr style=\"text-align: right;\">\n",
              "      <th></th>\n",
              "      <th>mean_fit_time</th>\n",
              "      <th>std_fit_time</th>\n",
              "      <th>mean_score_time</th>\n",
              "      <th>std_score_time</th>\n",
              "      <th>param_randomforestclassifier__max_depth</th>\n",
              "      <th>param_randomforestclassifier__n_estimators</th>\n",
              "      <th>params</th>\n",
              "      <th>split0_test_precision</th>\n",
              "      <th>split1_test_precision</th>\n",
              "      <th>split2_test_precision</th>\n",
              "      <th>...</th>\n",
              "      <th>split1_test_recall</th>\n",
              "      <th>split2_test_recall</th>\n",
              "      <th>mean_test_recall</th>\n",
              "      <th>std_test_recall</th>\n",
              "      <th>rank_test_recall</th>\n",
              "      <th>split0_train_recall</th>\n",
              "      <th>split1_train_recall</th>\n",
              "      <th>split2_train_recall</th>\n",
              "      <th>mean_train_recall</th>\n",
              "      <th>std_train_recall</th>\n",
              "    </tr>\n",
              "  </thead>\n",
              "  <tbody>\n",
              "    <tr>\n",
              "      <th>11</th>\n",
              "      <td>3.843488</td>\n",
              "      <td>0.287802</td>\n",
              "      <td>0.260695</td>\n",
              "      <td>0.004599</td>\n",
              "      <td>20</td>\n",
              "      <td>3000</td>\n",
              "      <td>{'randomforestclassifier__max_depth': 20, 'ran...</td>\n",
              "      <td>0.663265</td>\n",
              "      <td>0.846154</td>\n",
              "      <td>0.885246</td>\n",
              "      <td>...</td>\n",
              "      <td>0.767442</td>\n",
              "      <td>0.627907</td>\n",
              "      <td>0.717054</td>\n",
              "      <td>0.063215</td>\n",
              "      <td>1</td>\n",
              "      <td>0.895349</td>\n",
              "      <td>0.808140</td>\n",
              "      <td>0.796512</td>\n",
              "      <td>0.833333</td>\n",
              "      <td>0.044108</td>\n",
              "    </tr>\n",
              "    <tr>\n",
              "      <th>8</th>\n",
              "      <td>4.810877</td>\n",
              "      <td>0.496140</td>\n",
              "      <td>0.331681</td>\n",
              "      <td>0.015500</td>\n",
              "      <td>15</td>\n",
              "      <td>3000</td>\n",
              "      <td>{'randomforestclassifier__max_depth': 15, 'ran...</td>\n",
              "      <td>0.660000</td>\n",
              "      <td>0.769231</td>\n",
              "      <td>0.863636</td>\n",
              "      <td>...</td>\n",
              "      <td>0.697674</td>\n",
              "      <td>0.662791</td>\n",
              "      <td>0.709302</td>\n",
              "      <td>0.043508</td>\n",
              "      <td>2</td>\n",
              "      <td>0.872093</td>\n",
              "      <td>0.825581</td>\n",
              "      <td>0.808140</td>\n",
              "      <td>0.835271</td>\n",
              "      <td>0.026993</td>\n",
              "    </tr>\n",
              "    <tr>\n",
              "      <th>9</th>\n",
              "      <td>0.819729</td>\n",
              "      <td>0.151453</td>\n",
              "      <td>0.052254</td>\n",
              "      <td>0.007896</td>\n",
              "      <td>20</td>\n",
              "      <td>500</td>\n",
              "      <td>{'randomforestclassifier__max_depth': 20, 'ran...</td>\n",
              "      <td>0.700000</td>\n",
              "      <td>0.783784</td>\n",
              "      <td>0.802632</td>\n",
              "      <td>...</td>\n",
              "      <td>0.674419</td>\n",
              "      <td>0.709302</td>\n",
              "      <td>0.705426</td>\n",
              "      <td>0.023893</td>\n",
              "      <td>3</td>\n",
              "      <td>0.819767</td>\n",
              "      <td>0.796512</td>\n",
              "      <td>0.848837</td>\n",
              "      <td>0.821705</td>\n",
              "      <td>0.021406</td>\n",
              "    </tr>\n",
              "    <tr>\n",
              "      <th>3</th>\n",
              "      <td>0.761705</td>\n",
              "      <td>0.016018</td>\n",
              "      <td>0.078824</td>\n",
              "      <td>0.031572</td>\n",
              "      <td>10</td>\n",
              "      <td>500</td>\n",
              "      <td>{'randomforestclassifier__max_depth': 10, 'ran...</td>\n",
              "      <td>0.687500</td>\n",
              "      <td>0.865672</td>\n",
              "      <td>0.876923</td>\n",
              "      <td>...</td>\n",
              "      <td>0.674419</td>\n",
              "      <td>0.662791</td>\n",
              "      <td>0.701550</td>\n",
              "      <td>0.046834</td>\n",
              "      <td>4</td>\n",
              "      <td>0.866279</td>\n",
              "      <td>0.767442</td>\n",
              "      <td>0.796512</td>\n",
              "      <td>0.810078</td>\n",
              "      <td>0.041475</td>\n",
              "    </tr>\n",
              "    <tr>\n",
              "      <th>6</th>\n",
              "      <td>0.835353</td>\n",
              "      <td>0.229794</td>\n",
              "      <td>0.052736</td>\n",
              "      <td>0.005971</td>\n",
              "      <td>15</td>\n",
              "      <td>500</td>\n",
              "      <td>{'randomforestclassifier__max_depth': 15, 'ran...</td>\n",
              "      <td>0.707865</td>\n",
              "      <td>0.787500</td>\n",
              "      <td>0.868852</td>\n",
              "      <td>...</td>\n",
              "      <td>0.732558</td>\n",
              "      <td>0.616279</td>\n",
              "      <td>0.693798</td>\n",
              "      <td>0.054814</td>\n",
              "      <td>5</td>\n",
              "      <td>0.831395</td>\n",
              "      <td>0.843023</td>\n",
              "      <td>0.819767</td>\n",
              "      <td>0.831395</td>\n",
              "      <td>0.009494</td>\n",
              "    </tr>\n",
              "    <tr>\n",
              "      <th>7</th>\n",
              "      <td>1.666254</td>\n",
              "      <td>0.202268</td>\n",
              "      <td>0.112623</td>\n",
              "      <td>0.030743</td>\n",
              "      <td>15</td>\n",
              "      <td>1000</td>\n",
              "      <td>{'randomforestclassifier__max_depth': 15, 'ran...</td>\n",
              "      <td>0.680851</td>\n",
              "      <td>0.791667</td>\n",
              "      <td>0.852941</td>\n",
              "      <td>...</td>\n",
              "      <td>0.662791</td>\n",
              "      <td>0.674419</td>\n",
              "      <td>0.693798</td>\n",
              "      <td>0.035944</td>\n",
              "      <td>6</td>\n",
              "      <td>0.843023</td>\n",
              "      <td>0.796512</td>\n",
              "      <td>0.819767</td>\n",
              "      <td>0.819767</td>\n",
              "      <td>0.018988</td>\n",
              "    </tr>\n",
              "    <tr>\n",
              "      <th>5</th>\n",
              "      <td>5.115959</td>\n",
              "      <td>0.213094</td>\n",
              "      <td>0.366768</td>\n",
              "      <td>0.049429</td>\n",
              "      <td>10</td>\n",
              "      <td>3000</td>\n",
              "      <td>{'randomforestclassifier__max_depth': 10, 'ran...</td>\n",
              "      <td>0.772152</td>\n",
              "      <td>0.830986</td>\n",
              "      <td>0.888889</td>\n",
              "      <td>...</td>\n",
              "      <td>0.686047</td>\n",
              "      <td>0.651163</td>\n",
              "      <td>0.682171</td>\n",
              "      <td>0.023893</td>\n",
              "      <td>7</td>\n",
              "      <td>0.738372</td>\n",
              "      <td>0.796512</td>\n",
              "      <td>0.773256</td>\n",
              "      <td>0.769380</td>\n",
              "      <td>0.023893</td>\n",
              "    </tr>\n",
              "    <tr>\n",
              "      <th>4</th>\n",
              "      <td>1.762597</td>\n",
              "      <td>0.046965</td>\n",
              "      <td>0.086186</td>\n",
              "      <td>0.002498</td>\n",
              "      <td>10</td>\n",
              "      <td>1000</td>\n",
              "      <td>{'randomforestclassifier__max_depth': 10, 'ran...</td>\n",
              "      <td>0.681319</td>\n",
              "      <td>0.842857</td>\n",
              "      <td>0.881356</td>\n",
              "      <td>...</td>\n",
              "      <td>0.686047</td>\n",
              "      <td>0.604651</td>\n",
              "      <td>0.670543</td>\n",
              "      <td>0.048720</td>\n",
              "      <td>8</td>\n",
              "      <td>0.860465</td>\n",
              "      <td>0.767442</td>\n",
              "      <td>0.744186</td>\n",
              "      <td>0.790698</td>\n",
              "      <td>0.050238</td>\n",
              "    </tr>\n",
              "    <tr>\n",
              "      <th>10</th>\n",
              "      <td>1.382174</td>\n",
              "      <td>0.085566</td>\n",
              "      <td>0.075700</td>\n",
              "      <td>0.004268</td>\n",
              "      <td>20</td>\n",
              "      <td>1000</td>\n",
              "      <td>{'randomforestclassifier__max_depth': 20, 'ran...</td>\n",
              "      <td>0.705882</td>\n",
              "      <td>0.816901</td>\n",
              "      <td>0.900000</td>\n",
              "      <td>...</td>\n",
              "      <td>0.674419</td>\n",
              "      <td>0.627907</td>\n",
              "      <td>0.666667</td>\n",
              "      <td>0.029005</td>\n",
              "      <td>9</td>\n",
              "      <td>0.796512</td>\n",
              "      <td>0.790698</td>\n",
              "      <td>0.784884</td>\n",
              "      <td>0.790698</td>\n",
              "      <td>0.004747</td>\n",
              "    </tr>\n",
              "    <tr>\n",
              "      <th>2</th>\n",
              "      <td>4.348010</td>\n",
              "      <td>0.090352</td>\n",
              "      <td>0.327294</td>\n",
              "      <td>0.050590</td>\n",
              "      <td>5</td>\n",
              "      <td>3000</td>\n",
              "      <td>{'randomforestclassifier__max_depth': 5, 'rand...</td>\n",
              "      <td>0.752941</td>\n",
              "      <td>0.888889</td>\n",
              "      <td>0.925926</td>\n",
              "      <td>...</td>\n",
              "      <td>0.651163</td>\n",
              "      <td>0.581395</td>\n",
              "      <td>0.658915</td>\n",
              "      <td>0.066685</td>\n",
              "      <td>10</td>\n",
              "      <td>0.755814</td>\n",
              "      <td>0.691860</td>\n",
              "      <td>0.668605</td>\n",
              "      <td>0.705426</td>\n",
              "      <td>0.036873</td>\n",
              "    </tr>\n",
              "    <tr>\n",
              "      <th>1</th>\n",
              "      <td>1.281930</td>\n",
              "      <td>0.012069</td>\n",
              "      <td>0.197851</td>\n",
              "      <td>0.021813</td>\n",
              "      <td>5</td>\n",
              "      <td>1000</td>\n",
              "      <td>{'randomforestclassifier__max_depth': 5, 'rand...</td>\n",
              "      <td>0.744186</td>\n",
              "      <td>0.901639</td>\n",
              "      <td>0.892857</td>\n",
              "      <td>...</td>\n",
              "      <td>0.639535</td>\n",
              "      <td>0.581395</td>\n",
              "      <td>0.655039</td>\n",
              "      <td>0.067357</td>\n",
              "      <td>11</td>\n",
              "      <td>0.784884</td>\n",
              "      <td>0.697674</td>\n",
              "      <td>0.697674</td>\n",
              "      <td>0.726744</td>\n",
              "      <td>0.041111</td>\n",
              "    </tr>\n",
              "    <tr>\n",
              "      <th>0</th>\n",
              "      <td>0.756098</td>\n",
              "      <td>0.023177</td>\n",
              "      <td>0.047397</td>\n",
              "      <td>0.003012</td>\n",
              "      <td>5</td>\n",
              "      <td>500</td>\n",
              "      <td>{'randomforestclassifier__max_depth': 5, 'rand...</td>\n",
              "      <td>0.709302</td>\n",
              "      <td>0.887097</td>\n",
              "      <td>0.894737</td>\n",
              "      <td>...</td>\n",
              "      <td>0.639535</td>\n",
              "      <td>0.593023</td>\n",
              "      <td>0.647287</td>\n",
              "      <td>0.047786</td>\n",
              "      <td>12</td>\n",
              "      <td>0.761628</td>\n",
              "      <td>0.691860</td>\n",
              "      <td>0.691860</td>\n",
              "      <td>0.715116</td>\n",
              "      <td>0.032889</td>\n",
              "    </tr>\n",
              "  </tbody>\n",
              "</table>\n",
              "<p>12 rows × 29 columns</p>\n",
              "</div>"
            ],
            "text/plain": [
              "    mean_fit_time  std_fit_time  mean_score_time  std_score_time  \\\n",
              "11       3.843488      0.287802         0.260695        0.004599   \n",
              "8        4.810877      0.496140         0.331681        0.015500   \n",
              "9        0.819729      0.151453         0.052254        0.007896   \n",
              "3        0.761705      0.016018         0.078824        0.031572   \n",
              "6        0.835353      0.229794         0.052736        0.005971   \n",
              "7        1.666254      0.202268         0.112623        0.030743   \n",
              "5        5.115959      0.213094         0.366768        0.049429   \n",
              "4        1.762597      0.046965         0.086186        0.002498   \n",
              "10       1.382174      0.085566         0.075700        0.004268   \n",
              "2        4.348010      0.090352         0.327294        0.050590   \n",
              "1        1.281930      0.012069         0.197851        0.021813   \n",
              "0        0.756098      0.023177         0.047397        0.003012   \n",
              "\n",
              "   param_randomforestclassifier__max_depth  \\\n",
              "11                                      20   \n",
              "8                                       15   \n",
              "9                                       20   \n",
              "3                                       10   \n",
              "6                                       15   \n",
              "7                                       15   \n",
              "5                                       10   \n",
              "4                                       10   \n",
              "10                                      20   \n",
              "2                                        5   \n",
              "1                                        5   \n",
              "0                                        5   \n",
              "\n",
              "   param_randomforestclassifier__n_estimators  \\\n",
              "11                                       3000   \n",
              "8                                        3000   \n",
              "9                                         500   \n",
              "3                                         500   \n",
              "6                                         500   \n",
              "7                                        1000   \n",
              "5                                        3000   \n",
              "4                                        1000   \n",
              "10                                       1000   \n",
              "2                                        3000   \n",
              "1                                        1000   \n",
              "0                                         500   \n",
              "\n",
              "                                               params  split0_test_precision  \\\n",
              "11  {'randomforestclassifier__max_depth': 20, 'ran...               0.663265   \n",
              "8   {'randomforestclassifier__max_depth': 15, 'ran...               0.660000   \n",
              "9   {'randomforestclassifier__max_depth': 20, 'ran...               0.700000   \n",
              "3   {'randomforestclassifier__max_depth': 10, 'ran...               0.687500   \n",
              "6   {'randomforestclassifier__max_depth': 15, 'ran...               0.707865   \n",
              "7   {'randomforestclassifier__max_depth': 15, 'ran...               0.680851   \n",
              "5   {'randomforestclassifier__max_depth': 10, 'ran...               0.772152   \n",
              "4   {'randomforestclassifier__max_depth': 10, 'ran...               0.681319   \n",
              "10  {'randomforestclassifier__max_depth': 20, 'ran...               0.705882   \n",
              "2   {'randomforestclassifier__max_depth': 5, 'rand...               0.752941   \n",
              "1   {'randomforestclassifier__max_depth': 5, 'rand...               0.744186   \n",
              "0   {'randomforestclassifier__max_depth': 5, 'rand...               0.709302   \n",
              "\n",
              "    split1_test_precision  split2_test_precision  ...  split1_test_recall  \\\n",
              "11               0.846154               0.885246  ...            0.767442   \n",
              "8                0.769231               0.863636  ...            0.697674   \n",
              "9                0.783784               0.802632  ...            0.674419   \n",
              "3                0.865672               0.876923  ...            0.674419   \n",
              "6                0.787500               0.868852  ...            0.732558   \n",
              "7                0.791667               0.852941  ...            0.662791   \n",
              "5                0.830986               0.888889  ...            0.686047   \n",
              "4                0.842857               0.881356  ...            0.686047   \n",
              "10               0.816901               0.900000  ...            0.674419   \n",
              "2                0.888889               0.925926  ...            0.651163   \n",
              "1                0.901639               0.892857  ...            0.639535   \n",
              "0                0.887097               0.894737  ...            0.639535   \n",
              "\n",
              "    split2_test_recall  mean_test_recall  std_test_recall  rank_test_recall  \\\n",
              "11            0.627907          0.717054         0.063215                 1   \n",
              "8             0.662791          0.709302         0.043508                 2   \n",
              "9             0.709302          0.705426         0.023893                 3   \n",
              "3             0.662791          0.701550         0.046834                 4   \n",
              "6             0.616279          0.693798         0.054814                 5   \n",
              "7             0.674419          0.693798         0.035944                 6   \n",
              "5             0.651163          0.682171         0.023893                 7   \n",
              "4             0.604651          0.670543         0.048720                 8   \n",
              "10            0.627907          0.666667         0.029005                 9   \n",
              "2             0.581395          0.658915         0.066685                10   \n",
              "1             0.581395          0.655039         0.067357                11   \n",
              "0             0.593023          0.647287         0.047786                12   \n",
              "\n",
              "    split0_train_recall  split1_train_recall  split2_train_recall  \\\n",
              "11             0.895349             0.808140             0.796512   \n",
              "8              0.872093             0.825581             0.808140   \n",
              "9              0.819767             0.796512             0.848837   \n",
              "3              0.866279             0.767442             0.796512   \n",
              "6              0.831395             0.843023             0.819767   \n",
              "7              0.843023             0.796512             0.819767   \n",
              "5              0.738372             0.796512             0.773256   \n",
              "4              0.860465             0.767442             0.744186   \n",
              "10             0.796512             0.790698             0.784884   \n",
              "2              0.755814             0.691860             0.668605   \n",
              "1              0.784884             0.697674             0.697674   \n",
              "0              0.761628             0.691860             0.691860   \n",
              "\n",
              "    mean_train_recall  std_train_recall  \n",
              "11           0.833333          0.044108  \n",
              "8            0.835271          0.026993  \n",
              "9            0.821705          0.021406  \n",
              "3            0.810078          0.041475  \n",
              "6            0.831395          0.009494  \n",
              "7            0.819767          0.018988  \n",
              "5            0.769380          0.023893  \n",
              "4            0.790698          0.050238  \n",
              "10           0.790698          0.004747  \n",
              "2            0.705426          0.036873  \n",
              "1            0.726744          0.041111  \n",
              "0            0.715116          0.032889  \n",
              "\n",
              "[12 rows x 29 columns]"
            ]
          },
          "metadata": {},
          "output_type": "display_data"
        }
      ],
      "source": [
        "cv_results = pd.DataFrame(grid.cv_results_)\n",
        "display(cv_results.sort_values(by=f\"rank_test_{primary_metric}\"))"
      ]
    },
    {
      "cell_type": "markdown",
      "metadata": {},
      "source": [
        "Learning Curve"
      ]
    },
    {
      "cell_type": "code",
      "execution_count": 850,
      "metadata": {},
      "outputs": [
        {
          "data": {
            "image/png": "[encoded data removed]",
            "text/plain": [
              "<Figure size 640x480 with 1 Axes>"
            ]
          },
          "metadata": {},
          "output_type": "display_data"
        }
      ],
      "source": [
        "if learning_curve==True:\n",
        "    \n",
        "    LearningCurveDisplay.from_estimator(\n",
        "        estimator=grid.best_estimator_, \n",
        "        X=X_train, \n",
        "        y=y_train,\n",
        "        train_sizes=np.linspace(0.1, 1.0, 5), \n",
        "        cv=3, \n",
        "        scoring=primary_metric\n",
        "    )\n",
        "\n",
        "plt.show()"
      ]
    },
    {
      "cell_type": "markdown",
      "metadata": {},
      "source": [
        "Validation Curves\n"
      ]
    },
    {
      "cell_type": "code",
      "execution_count": 851,
      "metadata": {},
      "outputs": [],
      "source": [
        "# ..."
      ]
    },
    {
      "cell_type": "markdown",
      "metadata": {},
      "source": [
        "##### `Evaluation on Test Data`"
      ]
    },
    {
      "cell_type": "markdown",
      "metadata": {},
      "source": [
        "Classification Report"
      ]
    },
    {
      "cell_type": "code",
      "execution_count": 852,
      "metadata": {},
      "outputs": [
        {
          "name": "stdout",
          "output_type": "stream",
          "text": [
            "              precision    recall  f1-score   support\n",
            "\n",
            "           0       0.81      0.90      0.85        42\n",
            "           1       0.84      0.70      0.76        30\n",
            "\n",
            "    accuracy                           0.82        72\n",
            "   macro avg       0.82      0.80      0.81        72\n",
            "weighted avg       0.82      0.82      0.82        72\n",
            "\n"
          ]
        }
      ],
      "source": [
        "if task == \"Classification\":\n",
        "    print(classification_report(y_test, grid.best_estimator_.predict(X_test)))"
      ]
    },
    {
      "cell_type": "markdown",
      "metadata": {},
      "source": [
        "Confusion Matrix"
      ]
    },
    {
      "cell_type": "code",
      "execution_count": 853,
      "metadata": {},
      "outputs": [
        {
          "data": {
            "image/png": "[encoded data removed]",
            "text/plain": [
              "<Figure size 640x480 with 2 Axes>"
            ]
          },
          "metadata": {},
          "output_type": "display_data"
        }
      ],
      "source": [
        "if task == \"Classification\":\n",
        "    ConfusionMatrixDisplay.from_estimator(grid.best_estimator_, X_test, y_test)"
      ]
    },
    {
      "cell_type": "markdown",
      "metadata": {},
      "source": [
        "### `Model Tracking`"
      ]
    },
    {
      "cell_type": "code",
      "execution_count": 10,
      "metadata": {},
      "outputs": [
        {
          "name": "stdout",
          "output_type": "stream",
          "text": [
            "Defaulting to user installation because normal site-packages is not writeable\n",
            "Requirement already satisfied: mlflow in /Users/mlprof/Library/Python/3.9/lib/python/site-packages (2.14.3)\n",
            "Requirement already satisfied: Flask<4 in /Users/mlprof/Library/Python/3.9/lib/python/site-packages (from mlflow) (3.0.3)\n",
            "Requirement already satisfied: alembic!=1.10.0,<2 in /Users/mlprof/Library/Python/3.9/lib/python/site-packages (from mlflow) (1.13.2)\n",
            "Requirement already satisfied: cachetools<6,>=5.0.0 in /Users/mlprof/Library/Python/3.9/lib/python/site-packages (from mlflow) (5.4.0)\n",
            "Requirement already satisfied: click<9,>=7.0 in /Users/mlprof/Library/Python/3.9/lib/python/site-packages (from mlflow) (8.1.7)\n",
            "Requirement already satisfied: cloudpickle<4 in /Users/mlprof/Library/Python/3.9/lib/python/site-packages (from mlflow) (3.0.0)\n",
            "Requirement already satisfied: docker<8,>=4.0.0 in /Users/mlprof/Library/Python/3.9/lib/python/site-packages (from mlflow) (7.1.0)\n",
            "Requirement already satisfied: entrypoints<1 in /Users/mlprof/Library/Python/3.9/lib/python/site-packages (from mlflow) (0.4)\n",
            "Requirement already satisfied: gitpython<4,>=3.1.9 in /Users/mlprof/Library/Python/3.9/lib/python/site-packages (from mlflow) (3.1.43)\n",
            "Requirement already satisfied: graphene<4 in /Users/mlprof/Library/Python/3.9/lib/python/site-packages (from mlflow) (3.3)\n",
            "Requirement already satisfied: importlib-metadata!=4.7.0,<8,>=3.7.0 in /Users/mlprof/Library/Python/3.9/lib/python/site-packages (from mlflow) (7.0.0)\n",
            "Requirement already satisfied: markdown<4,>=3.3 in /Users/mlprof/Library/Python/3.9/lib/python/site-packages (from mlflow) (3.6)\n",
            "Requirement already satisfied: matplotlib<4 in /Users/mlprof/Library/Python/3.9/lib/python/site-packages (from mlflow) (3.8.2)\n",
            "Requirement already satisfied: numpy<2 in /Users/mlprof/Library/Python/3.9/lib/python/site-packages (from mlflow) (1.26.2)\n",
            "Requirement already satisfied: opentelemetry-api<3,>=1.9.0 in /Users/mlprof/Library/Python/3.9/lib/python/site-packages (from mlflow) (1.26.0)\n",
            "Requirement already satisfied: opentelemetry-sdk<3,>=1.9.0 in /Users/mlprof/Library/Python/3.9/lib/python/site-packages (from mlflow) (1.26.0)\n",
            "Requirement already satisfied: packaging<25 in /Users/mlprof/Library/Python/3.9/lib/python/site-packages (from mlflow) (23.2)\n",
            "Requirement already satisfied: pandas<3 in /Users/mlprof/Library/Python/3.9/lib/python/site-packages (from mlflow) (2.1.4)\n",
            "Requirement already satisfied: protobuf<5,>=3.12.0 in /Users/mlprof/Library/Python/3.9/lib/python/site-packages (from mlflow) (4.25.4)\n",
            "Requirement already satisfied: pyarrow<16,>=4.0.0 in /Users/mlprof/Library/Python/3.9/lib/python/site-packages (from mlflow) (15.0.2)\n",
            "Requirement already satisfied: pytz<2025 in /Users/mlprof/Library/Python/3.9/lib/python/site-packages (from mlflow) (2023.3.post1)\n",
            "Requirement already satisfied: pyyaml<7,>=5.1 in /Users/mlprof/Library/Python/3.9/lib/python/site-packages (from mlflow) (6.0.1)\n",
            "Requirement already satisfied: querystring-parser<2 in /Users/mlprof/Library/Python/3.9/lib/python/site-packages (from mlflow) (1.2.4)\n",
            "Requirement already satisfied: requests<3,>=2.17.3 in /Users/mlprof/Library/Python/3.9/lib/python/site-packages (from mlflow) (2.32.3)\n",
            "Requirement already satisfied: scikit-learn<2 in /Users/mlprof/Library/Python/3.9/lib/python/site-packages (from mlflow) (1.3.2)\n",
            "Requirement already satisfied: scipy<2 in /Users/mlprof/Library/Python/3.9/lib/python/site-packages (from mlflow) (1.11.4)\n",
            "Requirement already satisfied: sqlalchemy<3,>=1.4.0 in /Users/mlprof/Library/Python/3.9/lib/python/site-packages (from mlflow) (2.0.31)\n",
            "Requirement already satisfied: sqlparse<1,>=0.4.0 in /Users/mlprof/Library/Python/3.9/lib/python/site-packages (from mlflow) (0.5.1)\n",
            "Requirement already satisfied: Jinja2<4,>=2.11 in /Users/mlprof/Library/Python/3.9/lib/python/site-packages (from mlflow) (3.1.4)\n",
            "Requirement already satisfied: gunicorn<23 in /Users/mlprof/Library/Python/3.9/lib/python/site-packages (from mlflow) (22.0.0)\n",
            "Requirement already satisfied: Mako in /Users/mlprof/Library/Python/3.9/lib/python/site-packages (from alembic!=1.10.0,<2->mlflow) (1.3.5)\n",
            "Requirement already satisfied: typing-extensions>=4 in /Users/mlprof/Library/Python/3.9/lib/python/site-packages (from alembic!=1.10.0,<2->mlflow) (4.8.0)\n",
            "Requirement already satisfied: urllib3>=1.26.0 in /Users/mlprof/Library/Python/3.9/lib/python/site-packages (from docker<8,>=4.0.0->mlflow) (2.2.2)\n",
            "Requirement already satisfied: Werkzeug>=3.0.0 in /Users/mlprof/Library/Python/3.9/lib/python/site-packages (from Flask<4->mlflow) (3.0.3)\n",
            "Requirement already satisfied: itsdangerous>=2.1.2 in /Users/mlprof/Library/Python/3.9/lib/python/site-packages (from Flask<4->mlflow) (2.2.0)\n",
            "Requirement already satisfied: blinker>=1.6.2 in /Users/mlprof/Library/Python/3.9/lib/python/site-packages (from Flask<4->mlflow) (1.8.2)\n",
            "Requirement already satisfied: gitdb<5,>=4.0.1 in /Users/mlprof/Library/Python/3.9/lib/python/site-packages (from gitpython<4,>=3.1.9->mlflow) (4.0.11)\n",
            "Requirement already satisfied: graphql-core<3.3,>=3.1 in /Users/mlprof/Library/Python/3.9/lib/python/site-packages (from graphene<4->mlflow) (3.2.3)\n",
            "Requirement already satisfied: graphql-relay<3.3,>=3.1 in /Users/mlprof/Library/Python/3.9/lib/python/site-packages (from graphene<4->mlflow) (3.2.0)\n",
            "Requirement already satisfied: aniso8601<10,>=8 in /Users/mlprof/Library/Python/3.9/lib/python/site-packages (from graphene<4->mlflow) (9.0.1)\n",
            "Requirement already satisfied: zipp>=0.5 in /Users/mlprof/Library/Python/3.9/lib/python/site-packages (from importlib-metadata!=4.7.0,<8,>=3.7.0->mlflow) (3.17.0)\n",
            "Requirement already satisfied: MarkupSafe>=2.0 in /Users/mlprof/Library/Python/3.9/lib/python/site-packages (from Jinja2<4,>=2.11->mlflow) (2.1.5)\n",
            "Requirement already satisfied: contourpy>=1.0.1 in /Users/mlprof/Library/Python/3.9/lib/python/site-packages (from matplotlib<4->mlflow) (1.2.0)\n",
            "Requirement already satisfied: cycler>=0.10 in /Users/mlprof/Library/Python/3.9/lib/python/site-packages (from matplotlib<4->mlflow) (0.12.1)\n",
            "Requirement already satisfied: fonttools>=4.22.0 in /Users/mlprof/Library/Python/3.9/lib/python/site-packages (from matplotlib<4->mlflow) (4.46.0)\n",
            "Requirement already satisfied: kiwisolver>=1.3.1 in /Users/mlprof/Library/Python/3.9/lib/python/site-packages (from matplotlib<4->mlflow) (1.4.5)\n",
            "Requirement already satisfied: pillow>=8 in /Users/mlprof/Library/Python/3.9/lib/python/site-packages (from matplotlib<4->mlflow) (10.1.0)\n",
            "Requirement already satisfied: pyparsing>=2.3.1 in /Users/mlprof/Library/Python/3.9/lib/python/site-packages (from matplotlib<4->mlflow) (3.1.1)\n",
            "Requirement already satisfied: python-dateutil>=2.7 in /Users/mlprof/Library/Python/3.9/lib/python/site-packages (from matplotlib<4->mlflow) (2.8.2)\n",
            "Requirement already satisfied: importlib-resources>=3.2.0 in /Users/mlprof/Library/Python/3.9/lib/python/site-packages (from matplotlib<4->mlflow) (6.1.1)\n",
            "Requirement already satisfied: deprecated>=1.2.6 in /Users/mlprof/Library/Python/3.9/lib/python/site-packages (from opentelemetry-api<3,>=1.9.0->mlflow) (1.2.14)\n",
            "Requirement already satisfied: opentelemetry-semantic-conventions==0.47b0 in /Users/mlprof/Library/Python/3.9/lib/python/site-packages (from opentelemetry-sdk<3,>=1.9.0->mlflow) (0.47b0)\n",
            "Requirement already satisfied: tzdata>=2022.1 in /Users/mlprof/Library/Python/3.9/lib/python/site-packages (from pandas<3->mlflow) (2023.3)\n",
            "Requirement already satisfied: six in /Library/Developer/CommandLineTools/Library/Frameworks/Python3.framework/Versions/3.9/lib/python3.9/site-packages (from querystring-parser<2->mlflow) (1.15.0)\n",
            "Requirement already satisfied: charset-normalizer<4,>=2 in /Users/mlprof/Library/Python/3.9/lib/python/site-packages (from requests<3,>=2.17.3->mlflow) (3.3.2)\n",
            "Requirement already satisfied: idna<4,>=2.5 in /Users/mlprof/Library/Python/3.9/lib/python/site-packages (from requests<3,>=2.17.3->mlflow) (3.7)\n",
            "Requirement already satisfied: certifi>=2017.4.17 in /Users/mlprof/Library/Python/3.9/lib/python/site-packages (from requests<3,>=2.17.3->mlflow) (2024.7.4)\n",
            "Requirement already satisfied: joblib>=1.1.1 in /Users/mlprof/Library/Python/3.9/lib/python/site-packages (from scikit-learn<2->mlflow) (1.3.2)\n",
            "Requirement already satisfied: threadpoolctl>=2.0.0 in /Users/mlprof/Library/Python/3.9/lib/python/site-packages (from scikit-learn<2->mlflow) (3.2.0)\n",
            "Requirement already satisfied: wrapt<2,>=1.10 in /Users/mlprof/Library/Python/3.9/lib/python/site-packages (from deprecated>=1.2.6->opentelemetry-api<3,>=1.9.0->mlflow) (1.16.0)\n",
            "Requirement already satisfied: smmap<6,>=3.0.1 in /Users/mlprof/Library/Python/3.9/lib/python/site-packages (from gitdb<5,>=4.0.1->gitpython<4,>=3.1.9->mlflow) (5.0.1)\n",
            "\n",
            "\u001b[1m[\u001b[0m\u001b[34;49mnotice\u001b[0m\u001b[1;39;49m]\u001b[0m\u001b[39;49m A new release of pip is available: \u001b[0m\u001b[31;49m23.3.2\u001b[0m\u001b[39;49m -> \u001b[0m\u001b[32;49m24.1.2\u001b[0m\n",
            "\u001b[1m[\u001b[0m\u001b[34;49mnotice\u001b[0m\u001b[1;39;49m]\u001b[0m\u001b[39;49m To update, run: \u001b[0m\u001b[32;49m/Library/Developer/CommandLineTools/usr/bin/python3 -m pip install --upgrade pip\u001b[0m\n",
            "Note: you may need to restart the kernel to use updated packages.\n"
          ]
        }
      ],
      "source": [
        "%pip install mlflow"
      ]
    },
    {
      "cell_type": "code",
      "execution_count": 7,
      "metadata": {},
      "outputs": [
        {
          "name": "stderr",
          "output_type": "stream",
          "text": [
            "/Users/mlprof/Library/Python/3.9/lib/python/site-packages/urllib3/__init__.py:35: NotOpenSSLWarning: urllib3 v2 only supports OpenSSL 1.1.1+, currently the 'ssl' module is compiled with 'LibreSSL 2.8.3'. See: https://github.com/urllib3/urllib3/issues/3020\n",
            "  warnings.warn(\n"
          ]
        }
      ],
      "source": [
        "import mlflow"
      ]
    },
    {
      "cell_type": "code",
      "execution_count": 21,
      "metadata": {},
      "outputs": [
        {
          "ename": "SyntaxError",
          "evalue": "invalid syntax (436093207.py, line 1)",
          "output_type": "error",
          "traceback": [
            "\u001b[0;36m  Cell \u001b[0;32mIn[21], line 1\u001b[0;36m\u001b[0m\n\u001b[0;31m    mlflow server --host 127.0.0.1 --port 8080\u001b[0m\n\u001b[0m           ^\u001b[0m\n\u001b[0;31mSyntaxError\u001b[0m\u001b[0;31m:\u001b[0m invalid syntax\n"
          ]
        }
      ],
      "source": [
        "mlflow server --host 127.0.0.1 --port 8080"
      ]
    }
  ],
  "metadata": {
    "kernelspec": {
      "display_name": "base",
      "language": "python",
      "name": "python3"
    },
    "language_info": {
      "codemirror_mode": {
        "name": "ipython",
        "version": 3
      },
      "file_extension": ".py",
      "mimetype": "text/x-python",
      "name": "python",
      "nbconvert_exporter": "python",
      "pygments_lexer": "ipython3",
      "version": "3.9.6"
    }
  },
  "nbformat": 4,
  "nbformat_minor": 4
}
